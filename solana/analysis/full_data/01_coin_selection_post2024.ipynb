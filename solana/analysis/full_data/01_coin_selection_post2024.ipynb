{
  "cells": [
    {
      "cell_type": "markdown",
      "metadata": {
        "vscode": {
          "languageId": "raw"
        }
      },
      "source": [
        "# Post-2024 Meme Coin Selection & Analysis\n",
        "\n",
        "## Objective\n",
        "Select high-quality meme coins launched after 2024-01-01 from the full 375M+ transaction dataset for comprehensive analysis.\n",
        "\n",
        "## Selection Criteria\n",
        "1. **First trading activity after 2024-01-01**\n",
        "2. **Sufficient trading volume** (minimum thresholds)\n",
        "3. **Active trading period** (not dead coins)\n",
        "4. **Meme coin characteristics** (high volatility, community-driven)\n",
        "5. **Data quality** (clean trading patterns)\n",
        "\n",
        "## Expected Outcome\n",
        "- Curated list of 10-20 high-quality post-2024 meme coins\n",
        "- Initial characterization of each coin\n",
        "- Foundation for comprehensive EDA framework\n",
        "\n",
        "---\n"
      ]
    },
    {
      "cell_type": "code",
      "execution_count": 3,
      "metadata": {},
      "outputs": [
        {
          "name": "stdout",
          "output_type": "stream",
          "text": [
            "Connected to database: /Volumes/Extreme SSD/DuckDB/solana.duckdb\n",
            "✅ Connected to DuckDB database\n",
            "📊 Database: /Volumes/Extreme SSD/DuckDB/solana.duckdb\n",
            "📋 Table: first_day_trades\n",
            "🎯 Target: Post-2024 meme coins selection\n"
          ]
        }
      ],
      "source": [
        "# Setup and imports\n",
        "import sys\n",
        "import os\n",
        "\n",
        "# Add parent directory to path to import from root if needed\n",
        "sys.path.append('.')\n",
        "sys.path.append('..')\n",
        "\n",
        "from solana_eda_utils import SolanaDataAnalyzer, format_large_number, truncate_address\n",
        "import pandas as pd\n",
        "import numpy as np\n",
        "import plotly.express as px\n",
        "import plotly.graph_objects as go\n",
        "from plotly.subplots import make_subplots\n",
        "import warnings\n",
        "from datetime import datetime\n",
        "warnings.filterwarnings('ignore')\n",
        "\n",
        "# Initialize the analyzer\n",
        "analyzer = SolanaDataAnalyzer()\n",
        "\n",
        "print(\"✅ Connected to DuckDB database\")\n",
        "print(f\"📊 Database: {analyzer.db_path}\")\n",
        "print(f\"📋 Table: {analyzer.table_name}\")\n",
        "print(f\"🎯 Target: Post-2024 meme coins selection\")\n"
      ]
    },
    {
      "cell_type": "code",
      "execution_count": 4,
      "metadata": {},
      "outputs": [
        {
          "name": "stdout",
          "output_type": "stream",
          "text": [
            "🔍 STEP 1: IDENTIFYING POST-2024 TOKENS\n",
            "============================================================\n",
            "Executing query to find post-2024 tokens...\n",
            "✅ Found 5,746 tokens that started trading after 2024-01-01\n",
            "📊 Total trades from these tokens: 324,436,589\n",
            "👥 Total unique traders: 43,232,161\n",
            "✅ Success rate: 1.0000\n",
            "\n",
            "📋 First 10 post-2024 tokens (newest first):\n",
            " 1. EtmD8Bjd...PUMP | First: 2025-06-15 | Trades: 40.6K | Traders: 164\n",
            " 2. 5Dh8TMLk...PUMP | First: 2025-06-15 | Trades: 53.8K | Traders: 214\n",
            " 3. 2bkeRecU...pump | First: 2025-06-15 | Trades: 71.6K | Traders: 222\n",
            " 4. 9KNtK6b8...pump | First: 2025-06-15 | Trades: 34.4K | Traders: 162\n",
            " 5. 8J7Tygt5...pump | First: 2025-06-15 | Trades: 41.4K | Traders: 218\n",
            " 6. 6ixcwjqf...Pump | First: 2025-06-15 | Trades: 36.5K | Traders: 159\n",
            " 7. 5ykMDwJq...PUMP | First: 2025-06-15 | Trades: 34.2K | Traders: 173\n",
            " 8. EjQLDvtg...Pump | First: 2025-06-15 | Trades: 59.1K | Traders: 200\n",
            " 9. EPZEeKAE...PUMP | First: 2025-06-15 | Trades: 51.8K | Traders: 183\n",
            "10. 39WSXpJs...PUMP | First: 2025-06-15 | Trades: 37.2K | Traders: 211\n"
          ]
        }
      ],
      "source": [
        "# Step 1: Find all tokens with first trading activity after 2024-01-01\n",
        "print(\"🔍 STEP 1: IDENTIFYING POST-2024 TOKENS\")\n",
        "print(\"=\" * 60)\n",
        "\n",
        "# Query to get first trade date for each token\n",
        "query_first_trades = \"\"\"\n",
        "SELECT \n",
        "    mint,\n",
        "    MIN(block_timestamp) as first_trade_date,\n",
        "    MAX(block_timestamp) as last_trade_date,\n",
        "    COUNT(*) as total_trades,\n",
        "    COUNT(DISTINCT swapper) as unique_traders,\n",
        "    SUM(CASE WHEN succeeded THEN 1 ELSE 0 END) as successful_trades\n",
        "FROM first_day_trades\n",
        "GROUP BY mint\n",
        "HAVING MIN(block_timestamp) >= '2024-01-01 00:00:00'\n",
        "ORDER BY first_trade_date DESC\n",
        "\"\"\"\n",
        "\n",
        "print(\"Executing query to find post-2024 tokens...\")\n",
        "post_2024_tokens = analyzer.execute_query(query_first_trades)\n",
        "\n",
        "if post_2024_tokens is not None and len(post_2024_tokens) > 0:\n",
        "    print(f\"✅ Found {len(post_2024_tokens):,} tokens that started trading after 2024-01-01\")\n",
        "    print(f\"📊 Total trades from these tokens: {post_2024_tokens['total_trades'].sum():,}\")\n",
        "    print(f\"👥 Total unique traders: {post_2024_tokens['unique_traders'].sum():,}\")\n",
        "    print(f\"✅ Success rate: {post_2024_tokens['successful_trades'].sum() / post_2024_tokens['total_trades'].sum():.4f}\")\n",
        "    \n",
        "    # Show first few examples\n",
        "    print(f\"\\n📋 First 10 post-2024 tokens (newest first):\")\n",
        "    display_cols = ['mint', 'first_trade_date', 'total_trades', 'unique_traders']\n",
        "    for i, row in post_2024_tokens.head(10).iterrows():\n",
        "        mint_short = truncate_address(row['mint'])\n",
        "        print(f\"{i+1:2d}. {mint_short} | First: {row['first_trade_date'].date()} | \"\n",
        "              f\"Trades: {format_large_number(row['total_trades'])} | \"\n",
        "              f\"Traders: {format_large_number(row['unique_traders'])}\")\n",
        "else:\n",
        "    print(\"❌ No post-2024 tokens found or query failed\")\n"
      ]
    },
    {
      "cell_type": "code",
      "execution_count": 5,
      "metadata": {},
      "outputs": [
        {
          "name": "stdout",
          "output_type": "stream",
          "text": [
            "\n",
            "📊 STEP 2: FIRST-DAY TRADING ANALYSIS\n",
            "============================================================\n",
            "📈 FIRST-DAY TRADING ANALYSIS:\n",
            "Total post-2024 first-day meme coins: 5,746\n",
            "Total first-day trades: 324,436,589\n",
            "Total unique first-day traders: 43,232,161\n",
            "\n",
            "🔥 TRADING INTENSITY DISTRIBUTION:\n",
            "  🏆 Most active token: 884,631 trades\n",
            "  📊 95th percentile: 185,234 trades\n",
            "  📊 75th percentile: 71,541 trades\n",
            "  📊 50th percentile: 36,500 trades\n",
            "  📊 25th percentile: 11,545 trades\n",
            "\n",
            "👥 TRADER ENGAGEMENT:\n",
            "  🏆 Most traders: 161,259 unique traders\n",
            "  📊 95th percentile: 28,481 traders\n",
            "  📊 Median: 3,180 traders\n",
            "\n",
            "⚡ TRADING INTENSITY:\n",
            "  🔥 Peak intensity: 215,781 trades/hour\n",
            "  📊 Median intensity: 4,618 trades/hour\n",
            "\n",
            "✅ ALL TOKENS INCLUDED:\n",
            "🎯 Strategy: First-day trading opportunities\n",
            "📋 Dataset: Already filtered to first-day trades only\n",
            "🚀 Ready for volume analysis of all 5,746 tokens\n"
          ]
        }
      ],
      "source": [
        "# Step 2: Analysis of first-day trading patterns (NO FILTERING)\n",
        "print(\"\\n📊 STEP 2: FIRST-DAY TRADING ANALYSIS\")\n",
        "print(\"=\" * 60)\n",
        "\n",
        "if post_2024_tokens is not None and len(post_2024_tokens) > 0:\n",
        "    # Add calculated metrics for analysis\n",
        "    post_2024_tokens['trading_hours'] = (post_2024_tokens['last_trade_date'] - post_2024_tokens['first_trade_date']).dt.total_seconds() / 3600\n",
        "    post_2024_tokens['trades_per_trader'] = post_2024_tokens['total_trades'] / post_2024_tokens['unique_traders']\n",
        "    post_2024_tokens['trades_per_hour'] = post_2024_tokens['total_trades'] / (post_2024_tokens['trading_hours'] + 0.1)  # Avoid division by 0\n",
        "    \n",
        "    print(\"📈 FIRST-DAY TRADING ANALYSIS:\")\n",
        "    print(f\"Total post-2024 first-day meme coins: {len(post_2024_tokens):,}\")\n",
        "    print(f\"Total first-day trades: {post_2024_tokens['total_trades'].sum():,}\")\n",
        "    print(f\"Total unique first-day traders: {post_2024_tokens['unique_traders'].sum():,}\")\n",
        "    \n",
        "    print(f\"\\n🔥 TRADING INTENSITY DISTRIBUTION:\")\n",
        "    print(f\"  🏆 Most active token: {post_2024_tokens['total_trades'].max():,} trades\")\n",
        "    print(f\"  📊 95th percentile: {post_2024_tokens['total_trades'].quantile(0.95):,.0f} trades\") \n",
        "    print(f\"  📊 75th percentile: {post_2024_tokens['total_trades'].quantile(0.75):,.0f} trades\")\n",
        "    print(f\"  📊 50th percentile: {post_2024_tokens['total_trades'].median():,.0f} trades\")\n",
        "    print(f\"  📊 25th percentile: {post_2024_tokens['total_trades'].quantile(0.25):,.0f} trades\")\n",
        "    \n",
        "    print(f\"\\n👥 TRADER ENGAGEMENT:\")\n",
        "    print(f\"  🏆 Most traders: {post_2024_tokens['unique_traders'].max():,} unique traders\")\n",
        "    print(f\"  📊 95th percentile: {post_2024_tokens['unique_traders'].quantile(0.95):,.0f} traders\")\n",
        "    print(f\"  📊 Median: {post_2024_tokens['unique_traders'].median():,.0f} traders\")\n",
        "    \n",
        "    print(f\"\\n⚡ TRADING INTENSITY:\")\n",
        "    print(f\"  🔥 Peak intensity: {post_2024_tokens['trades_per_hour'].max():,.0f} trades/hour\")\n",
        "    print(f\"  📊 Median intensity: {post_2024_tokens['trades_per_hour'].median():,.0f} trades/hour\")\n",
        "    \n",
        "    # No filtering - all tokens are valid first-day opportunities\n",
        "    print(f\"\\n✅ ALL TOKENS INCLUDED:\")\n",
        "    print(f\"🎯 Strategy: First-day trading opportunities\")\n",
        "    print(f\"📋 Dataset: Already filtered to first-day trades only\")\n",
        "    print(f\"🚀 Ready for volume analysis of all {len(post_2024_tokens):,} tokens\")\n",
        "    \n",
        "    # Keep all tokens for next step\n",
        "    filtered_tokens = post_2024_tokens.copy()\n",
        "    \n",
        "else:\n",
        "    print(\"❌ No data available for analysis\")\n"
      ]
    },
    {
      "cell_type": "code",
      "execution_count": null,
      "metadata": {},
      "outputs": [],
      "source": [
        "# Export coin addresses for DexPaprika API lookup\n",
        "print(\"\\n💾 EXPORTING COIN ADDRESSES FOR DEXPAPRIKA LOOKUP\")\n",
        "print(\"=\" * 60)\n",
        "\n",
        "if post_2024_tokens is not None and len(post_2024_tokens) > 0:\n",
        "    # Create a simple DataFrame with coin addresses and basic info for DexPaprika lookup\n",
        "    coin_export_df = pd.DataFrame({\n",
        "        'mint_address': post_2024_tokens['mint'],\n",
        "        'first_trade_date': post_2024_tokens['first_trade_date'],\n",
        "        'total_trades': post_2024_tokens['total_trades'],\n",
        "        'unique_traders': post_2024_tokens['unique_traders'],\n",
        "        'successful_trades': post_2024_tokens['successful_trades']\n",
        "    })\n",
        "    \n",
        "    # Sort by total trades (most active first) for easier analysis\n",
        "    coin_export_df = coin_export_df.sort_values('total_trades', ascending=False).reset_index(drop=True)\n",
        "    \n",
        "    # Save to CSV\n",
        "    csv_filename = '../post2024_meme_coins_for_dexpaprika.csv'\n",
        "    coin_export_df.to_csv(csv_filename, index=False)\n",
        "    \n",
        "    print(f\"✅ Exported {len(coin_export_df):,} coin addresses to:\")\n",
        "    print(f\"   📄 {csv_filename}\")\n",
        "    print(f\"   📊 Sorted by trading activity (most active first)\")\n",
        "    print(f\"   🔍 Ready for DexPaprika API enrichment\")\n",
        "    \n",
        "    # Show preview of what was exported\n",
        "    print(f\"\\n📋 PREVIEW OF EXPORTED DATA:\")\n",
        "    print(\"Top 10 most active coins:\")\n",
        "    for i, row in coin_export_df.head(10).iterrows():\n",
        "        mint_short = truncate_address(row['mint_address'])\n",
        "        print(f\"{i+1:2d}. {mint_short} | {row['first_trade_date'].date()} | \"\n",
        "              f\"{format_large_number(row['total_trades'])} trades | \"\n",
        "              f\"{format_large_number(row['unique_traders'])} traders\")\n",
        "    \n",
        "    print(f\"\\n💡 NEXT STEPS:\")\n",
        "    print(f\"   1. Use the exported CSV with DexPaprika API\")\n",
        "    print(f\"   2. Get token metadata (name, symbol, description)\")\n",
        "    print(f\"   3. Merge back with trading data for enriched analysis\")\n",
        "    \n",
        "else:\n",
        "    print(\"❌ No post-2024 tokens available for export\")\n"
      ]
    },
    {
      "cell_type": "code",
      "execution_count": 6,
      "metadata": {},
      "outputs": [
        {
          "name": "stdout",
          "output_type": "stream",
          "text": [
            "\n",
            "💰 CORRECTED STEP 3: SOL VOLUME ANALYSIS\n",
            "============================================================\n",
            "Executing CORRECTED SOL volume analysis query...\n",
            "✅ Got volume data for 5,746 tokens\n",
            "\n",
            "💎 SOL VOLUME INSIGHTS:\n",
            "  🏆 Highest SOL volume: 4,324,645.32 SOL\n",
            "  📊 Total SOL volume (all tokens): 719,816,538.38 SOL\n",
            "  📊 Median SOL volume: 93,425.68 SOL\n",
            "  📊 Average trade size: 2.9564 SOL\n",
            "\n",
            "📊 SOL VOLUME DISTRIBUTION:\n",
            "  🏆 Top 1% by volume: 802,568.26 SOL\n",
            "  📊 95th percentile: 378,664.40 SOL\n",
            "  📊 75th percentile: 158,971.58 SOL\n",
            "  📊 50th percentile: 93,425.68 SOL\n"
          ]
        }
      ],
      "source": [
        "# CORRECTED Step 3: Get SOL volume data for comprehensive analysis\n",
        "print(\"\\n💰 CORRECTED STEP 3: SOL VOLUME ANALYSIS\")\n",
        "print(\"=\" * 60)\n",
        "post_2024_tokens = pd.read_csv('../post2024_meme_coins_enriched.csv')\n",
        "# Corrected Query - uses actual column names from table inspection\n",
        "# SOL mint address: So11111111111111111111111111111111111111112\n",
        "volume_query_corrected = \"\"\"\n",
        "SELECT \n",
        "    mint as mint_address,\n",
        "    COUNT(*) as total_trades,\n",
        "    COUNT(DISTINCT swapper) as unique_traders,\n",
        "    SUM(CASE WHEN succeeded THEN 1 ELSE 0 END) as successful_trades,\n",
        "    -- Calculate SOL volume: when SOL is being sold (swap_from) or bought (swap_to)\n",
        "    SUM(CASE \n",
        "        WHEN succeeded AND swap_from_mint = 'So11111111111111111111111111111111111111112' THEN swap_from_amount \n",
        "        WHEN succeeded AND swap_to_mint = 'So11111111111111111111111111111111111111112' THEN swap_to_amount \n",
        "        ELSE 0 \n",
        "    END) as total_sol_volume,\n",
        "    AVG(CASE \n",
        "        WHEN succeeded AND swap_from_mint = 'So11111111111111111111111111111111111111112' THEN swap_from_amount \n",
        "        WHEN succeeded AND swap_to_mint = 'So11111111111111111111111111111111111111112' THEN swap_to_amount \n",
        "        ELSE NULL \n",
        "    END) as avg_sol_per_trade,\n",
        "    MAX(CASE \n",
        "        WHEN succeeded AND swap_from_mint = 'So11111111111111111111111111111111111111112' THEN swap_from_amount \n",
        "        WHEN succeeded AND swap_to_mint = 'So11111111111111111111111111111111111111112' THEN swap_to_amount \n",
        "        ELSE 0 \n",
        "    END) as max_sol_trade,\n",
        "    MIN(block_timestamp) as first_trade,\n",
        "    MAX(block_timestamp) as last_trade,\n",
        "    -- Count SOL pair trades\n",
        "    SUM(CASE \n",
        "        WHEN (swap_from_mint = mint AND swap_to_mint = 'So11111111111111111111111111111111111111112') \n",
        "          OR (swap_to_mint = mint AND swap_from_mint = 'So11111111111111111111111111111111111111112') \n",
        "        THEN 1 \n",
        "        ELSE 0 \n",
        "    END) as sol_pair_trades,\n",
        "    -- Count non-SOL pair trades\n",
        "    SUM(CASE \n",
        "        WHEN (swap_from_mint = mint AND swap_to_mint != 'So11111111111111111111111111111111111111112') \n",
        "          OR (swap_to_mint = mint AND swap_from_mint != 'So11111111111111111111111111111111111111112') \n",
        "        THEN 1 \n",
        "        ELSE 0 \n",
        "    END) as non_sol_pair_trades,\n",
        "    -- Analyze paired tokens (what tokens are being traded against the mint)\n",
        "    COUNT(DISTINCT CASE \n",
        "        WHEN swap_from_mint = mint THEN swap_to_mint \n",
        "        WHEN swap_to_mint = mint THEN swap_from_mint \n",
        "        ELSE NULL \n",
        "    END) as unique_pairs\n",
        "FROM first_day_trades \n",
        "WHERE block_timestamp >= '2024-01-01 00:00:00'\n",
        "GROUP BY mint\n",
        "HAVING COUNT(*) > 0\n",
        "ORDER BY total_sol_volume DESC\n",
        "\"\"\"\n",
        "\n",
        "print(\"Executing CORRECTED SOL volume analysis query...\")\n",
        "volume_data = analyzer.execute_query(volume_query_corrected)\n",
        "\n",
        "\n",
        "\n",
        "if volume_data is not None and len(volume_data) > 0:\n",
        "    print(f\"✅ Got volume data for {len(volume_data):,} tokens\")\n",
        "    \n",
        "    # Merge with our post-2024 tokens data\n",
        "    enriched_tokens = post_2024_tokens.merge(volume_data, on='mint_address', how='left', suffixes=('', '_vol'))\n",
        "    \n",
        "    print(f\"\\n💎 SOL VOLUME INSIGHTS:\")\n",
        "    print(f\"  🏆 Highest SOL volume: {enriched_tokens['total_sol_volume'].max():,.2f} SOL\")\n",
        "    print(f\"  📊 Total SOL volume (all tokens): {enriched_tokens['total_sol_volume'].sum():,.2f} SOL\") \n",
        "    print(f\"  📊 Median SOL volume: {enriched_tokens['total_sol_volume'].median():,.2f} SOL\")\n",
        "    print(f\"  📊 Average trade size: {enriched_tokens['avg_sol_per_trade'].mean():,.4f} SOL\")\n",
        "    \n",
        "    # Show SOL volume distribution\n",
        "    print(f\"\\n📊 SOL VOLUME DISTRIBUTION:\")\n",
        "    print(f\"  🏆 Top 1% by volume: {enriched_tokens['total_sol_volume'].quantile(0.99):,.2f} SOL\")\n",
        "    print(f\"  📊 95th percentile: {enriched_tokens['total_sol_volume'].quantile(0.95):,.2f} SOL\")\n",
        "    print(f\"  📊 75th percentile: {enriched_tokens['total_sol_volume'].quantile(0.75):,.2f} SOL\")\n",
        "    print(f\"  📊 50th percentile: {enriched_tokens['total_sol_volume'].median():,.2f} SOL\")\n",
        "    \n",
        "else:\n",
        "    print(\"❌ Failed to get volume data\")\n",
        "    enriched_tokens = post_2024_tokens.copy()\n"
      ]
    },
    {
      "cell_type": "code",
      "execution_count": 7,
      "metadata": {},
      "outputs": [
        {
          "name": "stdout",
          "output_type": "stream",
          "text": [
            "\n",
            "🔍 STEP 4: COMPREHENSIVE ENRICHED TOKENS ANALYSIS\n",
            "======================================================================\n",
            "📊 1. DATASET OVERVIEW:\n",
            "   Total tokens analyzed: 5,746\n",
            "   Total trades: 374,886,380\n",
            "   Total unique traders: 43,232,161\n",
            "   Total SOL volume: 719,816,538.38 SOL\n",
            "\n",
            "🎯 2. DEXPAPRIKA ENRICHMENT SUCCESS:\n",
            "   Successfully enriched: 5,739 tokens (99.9%)\n",
            "   Failed enrichment: 7 tokens (0.1%)\n",
            "   Success vs Failed comparison:\n",
            "     Avg trades - Success: 65,247 | Failed: 62,012\n",
            "     Avg SOL volume - Success: 125,240 | Failed: 151,977\n",
            "\n",
            "💰 3. PRICE & MARKET CAP ANALYSIS (Successfully Enriched Tokens):\n",
            "   Tokens with valid price: 2,363 (41.2%)\n",
            "   Tokens with valid FDV: 2,363 (41.2%)\n",
            "   Tokens with valid liquidity: 2,362 (41.2%)\n",
            "\n",
            "   💵 PRICE DISTRIBUTION:\n",
            "     Highest price: $107320.05531353\n",
            "     Median price: $0.00006150\n",
            "     Lowest price: $0.0000000000\n",
            "\n",
            "   📈 FULLY DILUTED VALUATION:\n",
            "     Highest FDV: $869,098,992\n",
            "     Median FDV: $64,737\n",
            "     Lowest FDV: $0\n",
            "\n",
            "   💧 LIQUIDITY ANALYSIS:\n",
            "     Highest liquidity: $22,920,349\n",
            "     Median liquidity: $22,316\n",
            "     Low liquidity (<$1K): 38 tokens\n",
            "\n",
            "🔗 4. SOL vs NON-SOL TRADING PATTERNS:\n",
            "   Total SOL pair trades: 320,832,305.0 (98.9%)\n",
            "   Total non-SOL pair trades: 3,604,284.0 (1.1%)\n",
            "   Tokens with >10% non-SOL trades: 115 (2.0%)\n",
            "   Tokens with >50% non-SOL trades: 54\n",
            "\n",
            "🌐 5. TRADING PAIR DIVERSITY:\n",
            "   Average unique pairs per token: 1.5\n",
            "   Median unique pairs per token: 1\n",
            "   Most diverse token: 194 unique pairs\n",
            "   Tokens with 5+ trading pairs: 163 (2.8%)\n",
            "\n",
            "🚀 6. PUMP.FUN vs OTHER TOKENS ANALYSIS:\n",
            "   Pump.fun tokens: 2,604 (45.3%)\n",
            "   Other tokens: 3,142 (54.7%)\n",
            "\n",
            "   📊 PUMP.FUN vs OTHERS COMPARISON:\n",
            "     Avg trades - Pump.fun: 76,136 | Others: 56,215\n",
            "     Avg SOL volume - Pump.fun: 126,858 | Others: 123,959\n",
            "     Avg unique pairs - Pump.fun: 1.4 | Others: 1.7\n",
            "     Enrichment success - Pump.fun: 99.9% | Others: 99.9%\n",
            "\n",
            "🏆 7. TOP PERFORMERS ANALYSIS:\n",
            "\n",
            "   🥇 TOP 5 BY SOL VOLUME:\n",
            "   1. 🚀 BARRON       |  4,324,645 SOL | 1,111,649 trades\n",
            "   2. 💎 $NAP         |  3,823,539 SOL |  510,855 trades\n",
            "   3. 💎 LIBRA        |  3,199,875 SOL |  615,954 trades\n",
            "   4. 💎 smole        |  3,099,187 SOL |  378,028 trades\n",
            "   5. 💎 ME           |  2,524,242 SOL |  446,223 trades\n",
            "\n",
            "   🥈 TOP 5 BY TRADE COUNT:\n",
            "   1. 🚀 BARRON       | 1,111,649 trades | 129,486 traders\n",
            "   2. 💎 GROK2        |  970,094 trades |  9,020 traders\n",
            "   3. 💎 WEN          |  933,729 trades | 161,259 traders\n",
            "   4. 💎 GrokCoin     |  653,223 trades | 52,336 traders\n",
            "   5. 🚀 MAXIMUS      |  649,559 trades |    724 traders\n",
            "\n",
            "   🥉 TOP 5 BY TRADER COUNT:\n",
            "   1. 💎 WEN          | 161,259 traders |    388,078 SOL\n",
            "   2. 🚀 BANGUI       | 133,737 traders |    156,623 SOL\n",
            "   3. 🚀 BARRON       | 129,486 traders |  4,324,645 SOL\n",
            "   4. 🚀 gorklon      | 123,248 traders |     75,455 SOL\n",
            "   5. 🚀 HarryBolz    | 109,733 traders |    161,143 SOL\n",
            "\n",
            "⚡ 8. TRADING EFFICIENCY METRICS:\n",
            "   Average SOL volume per trader: 189.90 SOL\n",
            "   Average trades per trader: 74.9\n",
            "   Average SOL per trade: 2.9564 SOL\n",
            "   High-efficiency tokens (top 5% SOL/trader): 288\n",
            "\n",
            "✅ COMPREHENSIVE ANALYSIS COMPLETE\n",
            "🎯 Dataset ready for advanced signal generation and trading strategy development\n"
          ]
        }
      ],
      "source": [
        "# Step 4: Comprehensive Analysis of Enriched Tokens\n",
        "print(\"\\n🔍 STEP 4: COMPREHENSIVE ENRICHED TOKENS ANALYSIS\")\n",
        "print(\"=\" * 70)\n",
        "\n",
        "if 'enriched_tokens' in locals() and len(enriched_tokens) > 0:\n",
        "    \n",
        "    # 1. DATASET OVERVIEW\n",
        "    print(\"📊 1. DATASET OVERVIEW:\")\n",
        "    print(f\"   Total tokens analyzed: {len(enriched_tokens):,}\")\n",
        "    print(f\"   Total trades: {enriched_tokens['total_trades'].sum():,}\")\n",
        "    print(f\"   Total unique traders: {enriched_tokens['unique_traders'].sum():,}\")\n",
        "    print(f\"   Total SOL volume: {enriched_tokens['total_sol_volume'].sum():,.2f} SOL\")\n",
        "    \n",
        "    # 2. DEXPAPRIKA ENRICHMENT SUCCESS\n",
        "    print(f\"\\n🎯 2. DEXPAPRIKA ENRICHMENT SUCCESS:\")\n",
        "    successful_enrichment = enriched_tokens['api_status'] == 'success'\n",
        "    success_count = successful_enrichment.sum()\n",
        "    success_rate = success_count / len(enriched_tokens) * 100\n",
        "    \n",
        "    print(f\"   Successfully enriched: {success_count:,} tokens ({success_rate:.1f}%)\")\n",
        "    print(f\"   Failed enrichment: {len(enriched_tokens) - success_count:,} tokens ({100-success_rate:.1f}%)\")\n",
        "    \n",
        "    # Analyze successful vs failed enrichment\n",
        "    if success_count > 0:\n",
        "        successful_tokens = enriched_tokens[successful_enrichment]\n",
        "        failed_tokens = enriched_tokens[~successful_enrichment]\n",
        "        \n",
        "        print(f\"   Success vs Failed comparison:\")\n",
        "        print(f\"     Avg trades - Success: {successful_tokens['total_trades'].mean():,.0f} | Failed: {failed_tokens['total_trades'].mean():,.0f}\")\n",
        "        print(f\"     Avg SOL volume - Success: {successful_tokens['total_sol_volume'].mean():,.0f} | Failed: {failed_tokens['total_sol_volume'].mean():,.0f}\")\n",
        "    \n",
        "    # 3. PRICE AND MARKET CAP ANALYSIS (for successfully enriched tokens)\n",
        "    if success_count > 0:\n",
        "        print(f\"\\n💰 3. PRICE & MARKET CAP ANALYSIS (Successfully Enriched Tokens):\")\n",
        "        \n",
        "        # Filter valid price data\n",
        "        valid_price = successful_tokens['price_usd'] > 0\n",
        "        valid_fdv = successful_tokens['fdv'] > 0\n",
        "        valid_liquidity = successful_tokens['liquidity_usd'] > 0\n",
        "        \n",
        "        price_tokens = successful_tokens[valid_price]\n",
        "        fdv_tokens = successful_tokens[valid_fdv]\n",
        "        liquidity_tokens = successful_tokens[valid_liquidity]\n",
        "        \n",
        "        print(f\"   Tokens with valid price: {len(price_tokens):,} ({len(price_tokens)/success_count:.1%})\")\n",
        "        print(f\"   Tokens with valid FDV: {len(fdv_tokens):,} ({len(fdv_tokens)/success_count:.1%})\")\n",
        "        print(f\"   Tokens with valid liquidity: {len(liquidity_tokens):,} ({len(liquidity_tokens)/success_count:.1%})\")\n",
        "        \n",
        "        if len(price_tokens) > 0:\n",
        "            print(f\"\\n   💵 PRICE DISTRIBUTION:\")\n",
        "            print(f\"     Highest price: ${price_tokens['price_usd'].max():.8f}\")\n",
        "            print(f\"     Median price: ${price_tokens['price_usd'].median():.8f}\")\n",
        "            print(f\"     Lowest price: ${price_tokens['price_usd'].min():.10f}\")\n",
        "            \n",
        "        if len(fdv_tokens) > 0:\n",
        "            print(f\"\\n   📈 FULLY DILUTED VALUATION:\")\n",
        "            print(f\"     Highest FDV: ${fdv_tokens['fdv'].max():,.0f}\")\n",
        "            print(f\"     Median FDV: ${fdv_tokens['fdv'].median():,.0f}\")\n",
        "            print(f\"     Lowest FDV: ${fdv_tokens['fdv'].min():,.0f}\")\n",
        "            \n",
        "        if len(liquidity_tokens) > 0:\n",
        "            print(f\"\\n   💧 LIQUIDITY ANALYSIS:\")\n",
        "            print(f\"     Highest liquidity: ${liquidity_tokens['liquidity_usd'].max():,.0f}\")\n",
        "            print(f\"     Median liquidity: ${liquidity_tokens['liquidity_usd'].median():,.0f}\")\n",
        "            print(f\"     Low liquidity (<$1K): {(liquidity_tokens['liquidity_usd'] < 1000).sum():,} tokens\")\n",
        "    \n",
        "    # 4. SOL vs NON-SOL TRADING PATTERNS\n",
        "    print(f\"\\n🔗 4. SOL vs NON-SOL TRADING PATTERNS:\")\n",
        "    \n",
        "    # Calculate totals\n",
        "    total_sol_trades = enriched_tokens['sol_pair_trades'].sum()\n",
        "    total_non_sol_trades = enriched_tokens['non_sol_pair_trades'].sum()\n",
        "    total_all_trades = total_sol_trades + total_non_sol_trades\n",
        "    \n",
        "    print(f\"   Total SOL pair trades: {total_sol_trades:,} ({total_sol_trades/total_all_trades:.1%})\")\n",
        "    print(f\"   Total non-SOL pair trades: {total_non_sol_trades:,} ({total_non_sol_trades/total_all_trades:.1%})\")\n",
        "    \n",
        "    # Analyze tokens with significant non-SOL trading\n",
        "    enriched_tokens['non_sol_ratio'] = enriched_tokens['non_sol_pair_trades'] / (enriched_tokens['sol_pair_trades'] + enriched_tokens['non_sol_pair_trades'])\n",
        "    high_non_sol = enriched_tokens[enriched_tokens['non_sol_ratio'] > 0.1]  # >10% non-SOL trades\n",
        "    \n",
        "    print(f\"   Tokens with >10% non-SOL trades: {len(high_non_sol):,} ({len(high_non_sol)/len(enriched_tokens):.1%})\")\n",
        "    print(f\"   Tokens with >50% non-SOL trades: {(enriched_tokens['non_sol_ratio'] > 0.5).sum():,}\")\n",
        "    \n",
        "    # 5. TRADING PAIR DIVERSITY\n",
        "    print(f\"\\n🌐 5. TRADING PAIR DIVERSITY:\")\n",
        "    print(f\"   Average unique pairs per token: {enriched_tokens['unique_pairs'].mean():.1f}\")\n",
        "    print(f\"   Median unique pairs per token: {enriched_tokens['unique_pairs'].median():.0f}\")\n",
        "    print(f\"   Most diverse token: {enriched_tokens['unique_pairs'].max()} unique pairs\")\n",
        "    \n",
        "    # Tokens with high pair diversity\n",
        "    diverse_tokens = enriched_tokens[enriched_tokens['unique_pairs'] >= 5]\n",
        "    print(f\"   Tokens with 5+ trading pairs: {len(diverse_tokens):,} ({len(diverse_tokens)/len(enriched_tokens):.1%})\")\n",
        "    \n",
        "    # 6. PUMP.FUN vs OTHER TOKENS\n",
        "    print(f\"\\n🚀 6. PUMP.FUN vs OTHER TOKENS ANALYSIS:\")\n",
        "    \n",
        "    # Identify pump.fun tokens\n",
        "    enriched_tokens['is_pumpfun'] = enriched_tokens['mint_address'].str.lower().str.endswith('pump')\n",
        "    pumpfun_tokens = enriched_tokens[enriched_tokens['is_pumpfun']]\n",
        "    other_tokens = enriched_tokens[~enriched_tokens['is_pumpfun']]\n",
        "    \n",
        "    print(f\"   Pump.fun tokens: {len(pumpfun_tokens):,} ({len(pumpfun_tokens)/len(enriched_tokens):.1%})\")\n",
        "    print(f\"   Other tokens: {len(other_tokens):,} ({len(other_tokens)/len(enriched_tokens):.1%})\")\n",
        "    \n",
        "    if len(pumpfun_tokens) > 0 and len(other_tokens) > 0:\n",
        "        print(f\"\\n   📊 PUMP.FUN vs OTHERS COMPARISON:\")\n",
        "        print(f\"     Avg trades - Pump.fun: {pumpfun_tokens['total_trades'].mean():,.0f} | Others: {other_tokens['total_trades'].mean():,.0f}\")\n",
        "        print(f\"     Avg SOL volume - Pump.fun: {pumpfun_tokens['total_sol_volume'].mean():,.0f} | Others: {other_tokens['total_sol_volume'].mean():,.0f}\")\n",
        "        print(f\"     Avg unique pairs - Pump.fun: {pumpfun_tokens['unique_pairs'].mean():.1f} | Others: {other_tokens['unique_pairs'].mean():.1f}\")\n",
        "        print(f\"     Enrichment success - Pump.fun: {(pumpfun_tokens['api_status'] == 'success').mean():.1%} | Others: {(other_tokens['api_status'] == 'success').mean():.1%}\")\n",
        "    \n",
        "    # 7. TOP PERFORMERS ANALYSIS\n",
        "    print(f\"\\n🏆 7. TOP PERFORMERS ANALYSIS:\")\n",
        "    \n",
        "    # Top by different metrics\n",
        "    top_by_volume = enriched_tokens.nlargest(10, 'total_sol_volume')\n",
        "    top_by_trades = enriched_tokens.nlargest(10, 'total_trades')\n",
        "    top_by_traders = enriched_tokens.nlargest(10, 'unique_traders')\n",
        "    \n",
        "    print(f\"\\n   🥇 TOP 5 BY SOL VOLUME:\")\n",
        "    for i, (_, row) in enumerate(top_by_volume.head(5).iterrows(), 1):\n",
        "        name_display = row.get('symbol', 'Unknown') if pd.notna(row.get('symbol')) else truncate_address(row['mint_address'])\n",
        "        pumpfun_indicator = \"🚀\" if row['is_pumpfun'] else \"💎\"\n",
        "        print(f\"   {i}. {pumpfun_indicator} {name_display:<12} | {row['total_sol_volume']:>10,.0f} SOL | {row['total_trades']:>8,} trades\")\n",
        "    \n",
        "    print(f\"\\n   🥈 TOP 5 BY TRADE COUNT:\")\n",
        "    for i, (_, row) in enumerate(top_by_trades.head(5).iterrows(), 1):\n",
        "        name_display = row.get('symbol', 'Unknown') if pd.notna(row.get('symbol')) else truncate_address(row['mint_address'])\n",
        "        pumpfun_indicator = \"🚀\" if row['is_pumpfun'] else \"💎\"\n",
        "        print(f\"   {i}. {pumpfun_indicator} {name_display:<12} | {row['total_trades']:>8,} trades | {row['unique_traders']:>6,} traders\")\n",
        "    \n",
        "    print(f\"\\n   🥉 TOP 5 BY TRADER COUNT:\")\n",
        "    for i, (_, row) in enumerate(top_by_traders.head(5).iterrows(), 1):\n",
        "        name_display = row.get('symbol', 'Unknown') if pd.notna(row.get('symbol')) else truncate_address(row['mint_address'])\n",
        "        pumpfun_indicator = \"🚀\" if row['is_pumpfun'] else \"💎\"\n",
        "        print(f\"   {i}. {pumpfun_indicator} {name_display:<12} | {row['unique_traders']:>6,} traders | {row['total_sol_volume']:>10,.0f} SOL\")\n",
        "    \n",
        "    # 8. TRADING EFFICIENCY METRICS\n",
        "    print(f\"\\n⚡ 8. TRADING EFFICIENCY METRICS:\")\n",
        "    \n",
        "    # Calculate efficiency metrics\n",
        "    enriched_tokens['sol_per_trader'] = enriched_tokens['total_sol_volume'] / enriched_tokens['unique_traders']\n",
        "    enriched_tokens['trades_per_trader'] = enriched_tokens['total_trades'] / enriched_tokens['unique_traders']\n",
        "    \n",
        "    print(f\"   Average SOL volume per trader: {enriched_tokens['sol_per_trader'].mean():,.2f} SOL\")\n",
        "    print(f\"   Average trades per trader: {enriched_tokens['trades_per_trader'].mean():.1f}\")\n",
        "    print(f\"   Average SOL per trade: {enriched_tokens['avg_sol_per_trade'].mean():.4f} SOL\")\n",
        "    \n",
        "    # High-efficiency tokens\n",
        "    high_efficiency = enriched_tokens[enriched_tokens['sol_per_trader'] > enriched_tokens['sol_per_trader'].quantile(0.95)]\n",
        "    print(f\"   High-efficiency tokens (top 5% SOL/trader): {len(high_efficiency):,}\")\n",
        "    \n",
        "    print(f\"\\n✅ COMPREHENSIVE ANALYSIS COMPLETE\")\n",
        "    print(f\"🎯 Dataset ready for advanced signal generation and trading strategy development\")\n",
        "    \n",
        "else:\n",
        "    print(\"❌ No enriched token data available for analysis\")\n"
      ]
    },
    {
      "cell_type": "code",
      "execution_count": 8,
      "metadata": {},
      "outputs": [
        {
          "data": {
            "text/plain": [
              "Index(['mint_address', 'first_trade_date', 'total_trades', 'unique_traders',\n",
              "       'successful_trades', 'name', 'symbol', 'total_supply', 'price_usd',\n",
              "       'fdv', 'liquidity_usd', 'api_status', 'total_trades_vol',\n",
              "       'unique_traders_vol', 'successful_trades_vol', 'total_sol_volume',\n",
              "       'avg_sol_per_trade', 'max_sol_trade', 'first_trade', 'last_trade',\n",
              "       'sol_pair_trades', 'non_sol_pair_trades', 'unique_pairs',\n",
              "       'non_sol_ratio', 'is_pumpfun', 'sol_per_trader', 'trades_per_trader'],\n",
              "      dtype='object')"
            ]
          },
          "execution_count": 8,
          "metadata": {},
          "output_type": "execute_result"
        }
      ],
      "source": [
        "enriched_tokens.columns"
      ]
    },
    {
      "cell_type": "code",
      "execution_count": 9,
      "metadata": {},
      "outputs": [
        {
          "name": "stdout",
          "output_type": "stream",
          "text": [
            "\n",
            "📊 STEP 5: FDV DISTRIBUTION ANALYSIS\n",
            "============================================================\n",
            "📈 FDV DATA OVERVIEW:\n",
            "   Total tokens: 5,746\n",
            "   Tokens with valid FDV: 2,363 (41.1%)\n",
            "   Tokens without FDV: 3,383\n",
            "\n",
            "💰 FDV DISTRIBUTION STATISTICS:\n",
            "   Count: 2,363\n",
            "   Mean: $6,202,711\n",
            "   Median: $64,737\n",
            "   Standard Deviation: $46,310,079\n",
            "   Minimum: $0\n",
            "   Maximum: $869,098,992\n",
            "\n",
            "📊 FDV PERCENTILE BREAKDOWN:\n",
            "   10.0th percentile: $      11,127\n",
            "   25.0th percentile: $      19,937\n",
            "   50.0th percentile: $      64,737\n",
            "   75.0th percentile: $     474,663\n",
            "   90.0th percentile: $   3,102,274\n",
            "   95.0th percentile: $  11,732,301\n",
            "   99.0th percentile: $ 141,977,935\n",
            "\n",
            "🎯 FDV RANGE DISTRIBUTION:\n",
            "   < $1K          :   22 tokens (  0.9%)\n",
            "   $1K - $10K     :  171 tokens (  7.2%)\n",
            "   $10K - $100K   : 1,158 tokens ( 49.0%)\n",
            "   $100K - $1M    :  579 tokens ( 24.5%)\n",
            "   $1M - $10M     :  305 tokens ( 12.9%)\n",
            "   $10M - $100M   :   91 tokens (  3.9%)\n",
            "   > $100M        :   37 tokens (  1.6%)\n",
            "\n",
            "📈 LOG10(FDV) DISTRIBUTION:\n",
            "   Mean Log10(FDV): 5.06 ($115,428)\n",
            "   Median Log10(FDV): 4.81 ($64,737)\n",
            "   Std Log10(FDV): 1.06\n",
            "\n",
            "🎯 SUGGESTED SUCCESS TIERS (Based on Data Distribution):\n",
            "   🚀 Elite Success    (Top 5%):     FDV > $11,732,301\n",
            "   💎 High Success    (Top 10%):    FDV > $3,102,274\n",
            "   ⭐ Good Success    (Top 25%):    FDV > $474,663\n",
            "   📈 Moderate Success (Top 50%):   FDV > $64,737\n",
            "   📉 Below Average   (Bottom 50%): FDV < $64,737\n",
            "\n",
            "📊 TIER DISTRIBUTION:\n",
            "   🚀 Elite Success:     119 tokens (  5.0%)\n",
            "   💎 High Success:      118 tokens (  5.0%)\n",
            "   ⭐ Good Success:      354 tokens ( 15.0%)\n",
            "   📈 Moderate Success:  590 tokens ( 25.0%)\n",
            "   📉 Below Average:    1,182 tokens ( 50.0%)\n",
            "\n",
            "✅ SUCCESS TIERS DEFINED BASED ON DATA DISTRIBUTION\n",
            "🎯 Ready for success correlation analysis\n"
          ]
        }
      ],
      "source": [
        "# Step 5: FDV Distribution Analysis for Success Definition\n",
        "print(\"\\n📊 STEP 5: FDV DISTRIBUTION ANALYSIS\")\n",
        "print(\"=\" * 60)\n",
        "\n",
        "if 'enriched_tokens' in locals() and len(enriched_tokens) > 0:\n",
        "    \n",
        "    # Filter tokens with valid FDV data\n",
        "    valid_fdv_tokens = enriched_tokens[\n",
        "        (enriched_tokens['api_status'] == 'success') & \n",
        "        (enriched_tokens['fdv'] > 0) & \n",
        "        (enriched_tokens['fdv'].notna())\n",
        "    ].copy()\n",
        "    \n",
        "    print(f\"📈 FDV DATA OVERVIEW:\")\n",
        "    print(f\"   Total tokens: {len(enriched_tokens):,}\")\n",
        "    print(f\"   Tokens with valid FDV: {len(valid_fdv_tokens):,} ({len(valid_fdv_tokens)/len(enriched_tokens):.1%})\")\n",
        "    print(f\"   Tokens without FDV: {len(enriched_tokens) - len(valid_fdv_tokens):,}\")\n",
        "    \n",
        "    if len(valid_fdv_tokens) > 0:\n",
        "        # Basic FDV statistics\n",
        "        fdv_stats = valid_fdv_tokens['fdv'].describe()\n",
        "        \n",
        "        print(f\"\\n💰 FDV DISTRIBUTION STATISTICS:\")\n",
        "        print(f\"   Count: {fdv_stats['count']:,.0f}\")\n",
        "        print(f\"   Mean: ${fdv_stats['mean']:,.0f}\")\n",
        "        print(f\"   Median: ${fdv_stats['50%']:,.0f}\")\n",
        "        print(f\"   Standard Deviation: ${fdv_stats['std']:,.0f}\")\n",
        "        print(f\"   Minimum: ${fdv_stats['min']:,.0f}\")\n",
        "        print(f\"   Maximum: ${fdv_stats['max']:,.0f}\")\n",
        "        \n",
        "        # Detailed percentile analysis\n",
        "        percentiles = [0.1, 0.25, 0.5, 0.75, 0.9, 0.95, 0.99]\n",
        "        print(f\"\\n📊 FDV PERCENTILE BREAKDOWN:\")\n",
        "        for p in percentiles:\n",
        "            value = valid_fdv_tokens['fdv'].quantile(p)\n",
        "            print(f\"   {p*100:4.1f}th percentile: ${value:>12,.0f}\")\n",
        "        \n",
        "        # Count tokens in different ranges\n",
        "        fdv_ranges = [\n",
        "            (0, 1000, \"< $1K\"),\n",
        "            (1000, 10000, \"$1K - $10K\"), \n",
        "            (10000, 100000, \"$10K - $100K\"),\n",
        "            (100000, 1000000, \"$100K - $1M\"),\n",
        "            (1000000, 10000000, \"$1M - $10M\"),\n",
        "            (10000000, 100000000, \"$10M - $100M\"),\n",
        "            (100000000, float('inf'), \"> $100M\")\n",
        "        ]\n",
        "        \n",
        "        print(f\"\\n🎯 FDV RANGE DISTRIBUTION:\")\n",
        "        for min_val, max_val, label in fdv_ranges:\n",
        "            if max_val == float('inf'):\n",
        "                count = (valid_fdv_tokens['fdv'] >= min_val).sum()\n",
        "            else:\n",
        "                count = ((valid_fdv_tokens['fdv'] >= min_val) & (valid_fdv_tokens['fdv'] < max_val)).sum()\n",
        "            pct = count / len(valid_fdv_tokens) * 100\n",
        "            print(f\"   {label:<15}: {count:>4,} tokens ({pct:>5.1f}%)\")\n",
        "        \n",
        "        # Analyze log distribution for better understanding\n",
        "        import numpy as np\n",
        "        valid_fdv_tokens['log_fdv'] = np.log10(valid_fdv_tokens['fdv'])\n",
        "        \n",
        "        print(f\"\\n📈 LOG10(FDV) DISTRIBUTION:\")\n",
        "        log_stats = valid_fdv_tokens['log_fdv'].describe()\n",
        "        print(f\"   Mean Log10(FDV): {log_stats['mean']:.2f} (${10**log_stats['mean']:,.0f})\")\n",
        "        print(f\"   Median Log10(FDV): {log_stats['50%']:.2f} (${10**log_stats['50%']:,.0f})\")\n",
        "        print(f\"   Std Log10(FDV): {log_stats['std']:.2f}\")\n",
        "        \n",
        "        # Identify natural breakpoints based on distribution\n",
        "        q25 = valid_fdv_tokens['fdv'].quantile(0.25)\n",
        "        q50 = valid_fdv_tokens['fdv'].quantile(0.50) \n",
        "        q75 = valid_fdv_tokens['fdv'].quantile(0.75)\n",
        "        q90 = valid_fdv_tokens['fdv'].quantile(0.90)\n",
        "        q95 = valid_fdv_tokens['fdv'].quantile(0.95)\n",
        "        \n",
        "        print(f\"\\n🎯 SUGGESTED SUCCESS TIERS (Based on Data Distribution):\")\n",
        "        print(f\"   🚀 Elite Success    (Top 5%):     FDV > ${q95:,.0f}\")\n",
        "        print(f\"   💎 High Success    (Top 10%):    FDV > ${q90:,.0f}\")  \n",
        "        print(f\"   ⭐ Good Success    (Top 25%):    FDV > ${q75:,.0f}\")\n",
        "        print(f\"   📈 Moderate Success (Top 50%):   FDV > ${q50:,.0f}\")\n",
        "        print(f\"   📉 Below Average   (Bottom 50%): FDV < ${q50:,.0f}\")\n",
        "        \n",
        "        # Count tokens in each tier\n",
        "        elite_count = (valid_fdv_tokens['fdv'] > q95).sum()\n",
        "        high_count = ((valid_fdv_tokens['fdv'] > q90) & (valid_fdv_tokens['fdv'] <= q95)).sum()\n",
        "        good_count = ((valid_fdv_tokens['fdv'] > q75) & (valid_fdv_tokens['fdv'] <= q90)).sum()\n",
        "        moderate_count = ((valid_fdv_tokens['fdv'] > q50) & (valid_fdv_tokens['fdv'] <= q75)).sum()\n",
        "        below_count = (valid_fdv_tokens['fdv'] <= q50).sum()\n",
        "        \n",
        "        print(f\"\\n📊 TIER DISTRIBUTION:\")\n",
        "        print(f\"   🚀 Elite Success:    {elite_count:>4,} tokens ({elite_count/len(valid_fdv_tokens)*100:>5.1f}%)\")\n",
        "        print(f\"   💎 High Success:     {high_count:>4,} tokens ({high_count/len(valid_fdv_tokens)*100:>5.1f}%)\")\n",
        "        print(f\"   ⭐ Good Success:     {good_count:>4,} tokens ({good_count/len(valid_fdv_tokens)*100:>5.1f}%)\")\n",
        "        print(f\"   📈 Moderate Success: {moderate_count:>4,} tokens ({moderate_count/len(valid_fdv_tokens)*100:>5.1f}%)\")\n",
        "        print(f\"   📉 Below Average:    {below_count:>4,} tokens ({below_count/len(valid_fdv_tokens)*100:>5.1f}%)\")\n",
        "        \n",
        "        # Store the thresholds for next analysis\n",
        "        success_thresholds = {\n",
        "            'elite': q95,\n",
        "            'high': q90, \n",
        "            'good': q75,\n",
        "            'moderate': q50\n",
        "        }\n",
        "        \n",
        "        print(f\"\\n✅ SUCCESS TIERS DEFINED BASED ON DATA DISTRIBUTION\")\n",
        "        print(f\"🎯 Ready for success correlation analysis\")\n",
        "        \n",
        "    else:\n",
        "        print(\"❌ No valid FDV data available\")\n",
        "        \n",
        "else:\n",
        "    print(\"❌ No enriched token data available\")\n"
      ]
    },
    {
      "cell_type": "code",
      "execution_count": 10,
      "metadata": {},
      "outputs": [
        {
          "name": "stdout",
          "output_type": "stream",
          "text": [
            "\n",
            "📊 STEP 6: CORRELATION ANALYSIS - FIRST DAY METRICS vs FDV/LIQUIDITY\n",
            "================================================================================\n",
            "📈 ANALYSIS DATASET:\n",
            "   Total tokens: 5,746\n",
            "   Tokens with valid FDV & Liquidity: 2,362 (41.1%)\n",
            "\n",
            "🎯 CORRELATION WITH LOG10(FDV):\n",
            "   Total Trades             :  -0.059 (n=2,362)\n",
            "   Unique Traders           :  -0.073 (n=2,362)\n",
            "   Total SOL Volume         :   0.095 (n=2,347)\n",
            "   Avg SOL per Trade        :   0.120 (n=2,347)\n",
            "   SOL per Trader           :   0.038 (n=2,347)\n",
            "   Trades per Trader        :  -0.071 (n=2,362)\n",
            "   Trading Intensity (trades/hour):  -0.037 (n=2,362)\n",
            "   Unique Trading Pairs     :   0.172 (n=2,362)\n",
            "   SOL Pair Trades          :  -0.095 (n=2,347)\n",
            "   Non-SOL Pair Trades      :   0.295 (n=780)\n",
            "\n",
            "💧 CORRELATION WITH LOG10(LIQUIDITY):\n",
            "   Total Trades             :  -0.037 (n=2,362)\n",
            "   Unique Traders           :  -0.033 (n=2,362)\n",
            "   Total SOL Volume         :   0.119 (n=2,347)\n",
            "   Avg SOL per Trade        :   0.100 (n=2,347)\n",
            "   SOL per Trader           :  -0.105 (n=2,347)\n",
            "   Trades per Trader        :  -0.145 (n=2,362)\n",
            "   Trading Intensity (trades/hour):  -0.012 (n=2,362)\n",
            "   Unique Trading Pairs     :   0.143 (n=2,362)\n",
            "   SOL Pair Trades          :  -0.078 (n=2,347)\n",
            "   Non-SOL Pair Trades      :   0.226 (n=780)\n",
            "\n",
            "🏆 STRONGEST CORRELATIONS WITH LOG(FDV):\n",
            "   1. Non-SOL Pair Trades      :   0.295\n",
            "   2. Unique Trading Pairs     :   0.172\n",
            "   3. Avg SOL per Trade        :   0.120\n",
            "   4. Total SOL Volume         :   0.095\n",
            "   5. SOL Pair Trades          :  -0.095\n",
            "\n",
            "🏆 STRONGEST CORRELATIONS WITH LOG(LIQUIDITY):\n",
            "   1. Non-SOL Pair Trades      :   0.226\n",
            "   2. Trades per Trader        :  -0.145\n",
            "   3. Unique Trading Pairs     :   0.143\n",
            "   4. Total SOL Volume         :   0.119\n",
            "   5. SOL per Trader           :  -0.105\n",
            "\n",
            "📊 CORRELATION INSIGHTS:\n",
            "   Strong FDV predictors (|r| > 0.3): 0\n",
            "   Strong Liquidity predictors (|r| > 0.3): 0\n",
            "   Log(FDV) vs Log(Liquidity) correlation: 0.842\n",
            "\n",
            "✅ CORRELATION ANALYSIS COMPLETE\n",
            "🎯 Ready for visualization and deeper analysis\n"
          ]
        }
      ],
      "source": [
        "# Step 6: First-Day Trading Metrics vs FDV/Liquidity Correlation Analysis\n",
        "print(\"\\n📊 STEP 6: CORRELATION ANALYSIS - FIRST DAY METRICS vs FDV/LIQUIDITY\")\n",
        "print(\"=\" * 80)\n",
        "\n",
        "if 'enriched_tokens' in locals() and len(enriched_tokens) > 0:\n",
        "    \n",
        "    # Filter tokens with valid FDV and liquidity data\n",
        "    analysis_tokens = enriched_tokens[\n",
        "        (enriched_tokens['api_status'] == 'success') & \n",
        "        (enriched_tokens['fdv'] > 0) & \n",
        "        (enriched_tokens['fdv'].notna()) &\n",
        "        (enriched_tokens['liquidity_usd'] > 0) & \n",
        "        (enriched_tokens['liquidity_usd'].notna())\n",
        "    ].copy()\n",
        "    \n",
        "    print(f\"📈 ANALYSIS DATASET:\")\n",
        "    print(f\"   Total tokens: {len(enriched_tokens):,}\")\n",
        "    print(f\"   Tokens with valid FDV & Liquidity: {len(analysis_tokens):,} ({len(analysis_tokens)/len(enriched_tokens):.1%})\")\n",
        "    \n",
        "    if len(analysis_tokens) > 0:\n",
        "        \n",
        "        # Create log-scale versions of target variables\n",
        "        import numpy as np\n",
        "        analysis_tokens['log_fdv'] = np.log10(analysis_tokens['fdv'])\n",
        "        analysis_tokens['log_liquidity'] = np.log10(analysis_tokens['liquidity_usd'])\n",
        "        \n",
        "        # Calculate additional first-day metrics if not already present\n",
        "        if 'trading_hours' not in analysis_tokens.columns:\n",
        "            analysis_tokens['trading_hours'] = (analysis_tokens['last_trade'] - analysis_tokens['first_trade']).dt.total_seconds() / 3600\n",
        "        if 'trades_per_hour' not in analysis_tokens.columns:\n",
        "            analysis_tokens['trades_per_hour'] = analysis_tokens['total_trades'] / (analysis_tokens['trading_hours'] + 0.1)\n",
        "        if 'sol_per_trader' not in analysis_tokens.columns:\n",
        "            analysis_tokens['sol_per_trader'] = analysis_tokens['total_sol_volume'] / analysis_tokens['unique_traders']\n",
        "        if 'trades_per_trader' not in analysis_tokens.columns:\n",
        "            analysis_tokens['trades_per_trader'] = analysis_tokens['total_trades'] / analysis_tokens['unique_traders']\n",
        "        \n",
        "        # Define first-day metrics for correlation analysis\n",
        "        first_day_metrics = {\n",
        "            'total_trades': 'Total Trades',\n",
        "            'unique_traders': 'Unique Traders',\n",
        "            'total_sol_volume': 'Total SOL Volume',\n",
        "            'avg_sol_per_trade': 'Avg SOL per Trade',\n",
        "            'sol_per_trader': 'SOL per Trader',\n",
        "            'trades_per_trader': 'Trades per Trader',\n",
        "            'trades_per_hour': 'Trading Intensity (trades/hour)',\n",
        "            'unique_pairs': 'Unique Trading Pairs',\n",
        "            'sol_pair_trades': 'SOL Pair Trades',\n",
        "            'non_sol_pair_trades': 'Non-SOL Pair Trades'\n",
        "        }\n",
        "        \n",
        "        # Calculate correlations with log(FDV)\n",
        "        print(f\"\\n🎯 CORRELATION WITH LOG10(FDV):\")\n",
        "        fdv_correlations = []\n",
        "        for metric, label in first_day_metrics.items():\n",
        "            if metric in analysis_tokens.columns:\n",
        "                # Filter out any infinite or NaN values\n",
        "                valid_data = analysis_tokens[\n",
        "                    (analysis_tokens[metric].notna()) & \n",
        "                    (np.isfinite(analysis_tokens[metric])) &\n",
        "                    (analysis_tokens[metric] > 0)\n",
        "                ]\n",
        "                if len(valid_data) > 10:  # Need sufficient data points\n",
        "                    corr = valid_data[metric].corr(valid_data['log_fdv'])\n",
        "                    fdv_correlations.append((metric, label, corr, len(valid_data)))\n",
        "                    print(f\"   {label:<25}: {corr:>7.3f} (n={len(valid_data):,})\")\n",
        "        \n",
        "        # Calculate correlations with log(Liquidity)\n",
        "        print(f\"\\n💧 CORRELATION WITH LOG10(LIQUIDITY):\")\n",
        "        liquidity_correlations = []\n",
        "        for metric, label in first_day_metrics.items():\n",
        "            if metric in analysis_tokens.columns:\n",
        "                valid_data = analysis_tokens[\n",
        "                    (analysis_tokens[metric].notna()) & \n",
        "                    (np.isfinite(analysis_tokens[metric])) &\n",
        "                    (analysis_tokens[metric] > 0)\n",
        "                ]\n",
        "                if len(valid_data) > 10:\n",
        "                    corr = valid_data[metric].corr(valid_data['log_liquidity'])\n",
        "                    liquidity_correlations.append((metric, label, corr, len(valid_data)))\n",
        "                    print(f\"   {label:<25}: {corr:>7.3f} (n={len(valid_data):,})\")\n",
        "        \n",
        "        # Sort correlations by strength\n",
        "        fdv_correlations.sort(key=lambda x: abs(x[2]), reverse=True)\n",
        "        liquidity_correlations.sort(key=lambda x: abs(x[2]), reverse=True)\n",
        "        \n",
        "        print(f\"\\n🏆 STRONGEST CORRELATIONS WITH LOG(FDV):\")\n",
        "        for i, (metric, label, corr, n) in enumerate(fdv_correlations[:5], 1):\n",
        "            print(f\"   {i}. {label:<25}: {corr:>7.3f}\")\n",
        "        \n",
        "        print(f\"\\n🏆 STRONGEST CORRELATIONS WITH LOG(LIQUIDITY):\")\n",
        "        for i, (metric, label, corr, n) in enumerate(liquidity_correlations[:5], 1):\n",
        "            print(f\"   {i}. {label:<25}: {corr:>7.3f}\")\n",
        "        \n",
        "        # Summary insights\n",
        "        print(f\"\\n📊 CORRELATION INSIGHTS:\")\n",
        "        \n",
        "        # Find strongest predictors\n",
        "        strong_fdv_predictors = [x for x in fdv_correlations if abs(x[2]) > 0.3]\n",
        "        strong_liq_predictors = [x for x in liquidity_correlations if abs(x[2]) > 0.3]\n",
        "        \n",
        "        print(f\"   Strong FDV predictors (|r| > 0.3): {len(strong_fdv_predictors)}\")\n",
        "        print(f\"   Strong Liquidity predictors (|r| > 0.3): {len(strong_liq_predictors)}\")\n",
        "        \n",
        "        # Compare FDV vs Liquidity correlations\n",
        "        fdv_liq_corr = analysis_tokens['log_fdv'].corr(analysis_tokens['log_liquidity'])\n",
        "        print(f\"   Log(FDV) vs Log(Liquidity) correlation: {fdv_liq_corr:.3f}\")\n",
        "        \n",
        "        print(f\"\\n✅ CORRELATION ANALYSIS COMPLETE\")\n",
        "        print(f\"🎯 Ready for visualization and deeper analysis\")\n",
        "        \n",
        "        # Store correlation results for plotting\n",
        "        correlation_results = {\n",
        "            'fdv_correlations': fdv_correlations,\n",
        "            'liquidity_correlations': liquidity_correlations,\n",
        "            'analysis_tokens': analysis_tokens\n",
        "        }\n",
        "        \n",
        "    else:\n",
        "        print(\"❌ No valid FDV and liquidity data available\")\n",
        "        \n",
        "else:\n",
        "    print(\"❌ No enriched token data available\")\n"
      ]
    },
    {
      "cell_type": "code",
      "execution_count": 11,
      "metadata": {},
      "outputs": [
        {
          "name": "stdout",
          "output_type": "stream",
          "text": [
            "\n",
            "📊 STEP 8: ENHANCED CORRELATION ANALYSIS - LOG TRANSFORMATIONS\n",
            "================================================================================\n",
            "📈 ENHANCED ANALYSIS DATASET:\n",
            "   Tokens with valid FDV & Liquidity: 2,362\n",
            "🎯 ENHANCED CORRELATION WITH LOG10(FDV):\n",
            "   Metric                         Original   Log Version  Better\n",
            "   -----------------------------------------------------------------\n",
            "   Total Trades                     -0.059      -0.164   LOG\n",
            "   Unique Traders                   -0.073      -0.164   LOG\n",
            "   Total SOL Volume                  0.095      -0.126   LOG\n",
            "   SOL per Trader                    0.038      -0.069   LOG\n",
            "   Trading Intensity                -0.037      -0.178   LOG\n",
            "\n",
            "💧 ENHANCED CORRELATION WITH LOG10(LIQUIDITY):\n",
            "   Metric                         Original   Log Version  Better\n",
            "   -----------------------------------------------------------------\n",
            "   Total Trades                     -0.037      -0.134   LOG\n",
            "   Unique Traders                   -0.033      -0.125   LOG\n",
            "   Total SOL Volume                  0.119      -0.096   ORIG\n",
            "   SOL per Trader                   -0.105      -0.064   ORIG\n",
            "   Trading Intensity                -0.012      -0.132   LOG\n",
            "\n",
            "🏆 TOP 5 STRONGEST FDV PREDICTORS (Enhanced):\n",
            "   1. 📊 Log(Trading Intensity)   :  -0.178\n",
            "   2. 📈 Unique Trading Pairs     :   0.172\n",
            "   3. 📊 Log(Unique Traders)      :  -0.164\n",
            "   4. 📊 Log(Total Trades)        :  -0.164\n",
            "   5. 📊 Log(Total SOL Volume)    :  -0.126\n",
            "\n",
            "🏆 TOP 5 STRONGEST LIQUIDITY PREDICTORS (Enhanced):\n",
            "   1. 📈 Trades per Trader        :  -0.145\n",
            "   2. 📈 Unique Trading Pairs     :   0.143\n",
            "   3. 📊 Log(Total Trades)        :  -0.134\n",
            "   4. 📊 Log(Trading Intensity)   :  -0.132\n",
            "   5. 📊 Log(Unique Traders)      :  -0.125\n",
            "\n",
            "💡 LOG TRANSFORMATION IMPROVEMENTS:\n",
            "   Variables with improved correlations: 2\n",
            "   Log transformations generally improve predictive power\n",
            "\n",
            "✅ ENHANCED CORRELATION ANALYSIS COMPLETE\n",
            "🎯 Log-transformed variables ready for improved visualizations\n"
          ]
        }
      ],
      "source": [
        "# Step 8: Enhanced Correlation Analysis with Log Transformations\n",
        "print(\"\\n📊 STEP 8: ENHANCED CORRELATION ANALYSIS - LOG TRANSFORMATIONS\")\n",
        "print(\"=\" * 80)\n",
        "\n",
        "if 'enriched_tokens' in locals() and len(enriched_tokens) > 0:\n",
        "    \n",
        "    # Filter tokens with valid FDV and liquidity data\n",
        "    analysis_tokens = enriched_tokens[\n",
        "        (enriched_tokens['api_status'] == 'success') & \n",
        "        (enriched_tokens['fdv'] > 0) & \n",
        "        (enriched_tokens['fdv'].notna()) &\n",
        "        (enriched_tokens['liquidity_usd'] > 0) & \n",
        "        (enriched_tokens['liquidity_usd'].notna())\n",
        "    ].copy()\n",
        "    \n",
        "    print(f\"📈 ENHANCED ANALYSIS DATASET:\")\n",
        "    print(f\"   Tokens with valid FDV & Liquidity: {len(analysis_tokens):,}\")\n",
        "    \n",
        "    if len(analysis_tokens) > 0:\n",
        "        \n",
        "        import numpy as np\n",
        "        \n",
        "        # Create log-scale versions of both target AND predictor variables\n",
        "        analysis_tokens['log_fdv'] = np.log10(analysis_tokens['fdv'])\n",
        "        analysis_tokens['log_liquidity'] = np.log10(analysis_tokens['liquidity_usd'])\n",
        "        \n",
        "        # Calculate additional metrics if needed\n",
        "        if 'trading_hours' not in analysis_tokens.columns:\n",
        "            analysis_tokens['trading_hours'] = (analysis_tokens['last_trade'] - analysis_tokens['first_trade']).dt.total_seconds() / 3600\n",
        "        if 'trades_per_hour' not in analysis_tokens.columns:\n",
        "            analysis_tokens['trades_per_hour'] = analysis_tokens['total_trades'] / (analysis_tokens['trading_hours'] + 0.1)\n",
        "        if 'sol_per_trader' not in analysis_tokens.columns:\n",
        "            analysis_tokens['sol_per_trader'] = analysis_tokens['total_sol_volume'] / analysis_tokens['unique_traders']\n",
        "        if 'trades_per_trader' not in analysis_tokens.columns:\n",
        "            analysis_tokens['trades_per_trader'] = analysis_tokens['total_trades'] / analysis_tokens['unique_traders']\n",
        "        \n",
        "        # Create log versions of skewed predictor variables\n",
        "        log_transform_vars = ['total_trades', 'unique_traders', 'total_sol_volume', 'sol_pair_trades', 'trades_per_hour', 'sol_per_trader']\n",
        "        \n",
        "        for var in log_transform_vars:\n",
        "            if var in analysis_tokens.columns:\n",
        "                # Only log transform positive values\n",
        "                valid_mask = (analysis_tokens[var] > 0) & (analysis_tokens[var].notna())\n",
        "                analysis_tokens[f'log_{var}'] = np.nan\n",
        "                analysis_tokens.loc[valid_mask, f'log_{var}'] = np.log10(analysis_tokens.loc[valid_mask, var])\n",
        "        \n",
        "        # Define enhanced metrics for correlation analysis (both original and log versions)\n",
        "        enhanced_metrics = {\n",
        "            # Original metrics\n",
        "            'total_trades': 'Total Trades',\n",
        "            'unique_traders': 'Unique Traders', \n",
        "            'total_sol_volume': 'Total SOL Volume',\n",
        "            'avg_sol_per_trade': 'Avg SOL per Trade',\n",
        "            'sol_per_trader': 'SOL per Trader',\n",
        "            'trades_per_trader': 'Trades per Trader',\n",
        "            'trades_per_hour': 'Trading Intensity',\n",
        "            'unique_pairs': 'Unique Trading Pairs',\n",
        "            # Log-transformed metrics\n",
        "            'log_total_trades': 'Log(Total Trades)',\n",
        "            'log_unique_traders': 'Log(Unique Traders)',\n",
        "            'log_total_sol_volume': 'Log(Total SOL Volume)',\n",
        "            'log_sol_pair_trades': 'Log(SOL Pair Trades)',\n",
        "            'log_trades_per_hour': 'Log(Trading Intensity)',\n",
        "            'log_sol_per_trader': 'Log(SOL per Trader)'\n",
        "        }\n",
        "        \n",
        "        # Calculate correlations with log(FDV)\n",
        "        print(f\"🎯 ENHANCED CORRELATION WITH LOG10(FDV):\")\n",
        "        print(f\"   {'Metric':<30} {'Original':<10} {'Log Version':<12} {'Better'}\")\n",
        "        print(f\"   {'-'*65}\")\n",
        "        \n",
        "        enhanced_fdv_correlations = []\n",
        "        \n",
        "        for base_metric in ['total_trades', 'unique_traders', 'total_sol_volume', 'sol_per_trader', 'trades_per_hour']:\n",
        "            if base_metric in analysis_tokens.columns:\n",
        "                log_metric = f'log_{base_metric}'\n",
        "                \n",
        "                # Original correlation\n",
        "                orig_valid = analysis_tokens[\n",
        "                    (analysis_tokens[base_metric].notna()) & \n",
        "                    (np.isfinite(analysis_tokens[base_metric])) &\n",
        "                    (analysis_tokens[base_metric] > 0)\n",
        "                ]\n",
        "                orig_corr = orig_valid[base_metric].corr(orig_valid['log_fdv']) if len(orig_valid) > 10 else np.nan\n",
        "                \n",
        "                # Log-transformed correlation\n",
        "                log_valid = analysis_tokens[\n",
        "                    (analysis_tokens[log_metric].notna()) & \n",
        "                    (np.isfinite(analysis_tokens[log_metric]))\n",
        "                ]\n",
        "                log_corr = log_valid[log_metric].corr(log_valid['log_fdv']) if len(log_valid) > 10 else np.nan\n",
        "                \n",
        "                # Determine which is better\n",
        "                better = \"LOG\" if abs(log_corr) > abs(orig_corr) else \"ORIG\"\n",
        "                if pd.isna(orig_corr) or pd.isna(log_corr):\n",
        "                    better = \"N/A\"\n",
        "                \n",
        "                print(f\"   {enhanced_metrics[base_metric]:<30} {orig_corr:>8.3f}  {log_corr:>10.3f}   {better}\")\n",
        "                \n",
        "                # Store best correlation\n",
        "                if not pd.isna(log_corr):\n",
        "                    enhanced_fdv_correlations.append((log_metric, enhanced_metrics[log_metric], log_corr, len(log_valid)))\n",
        "                if not pd.isna(orig_corr):\n",
        "                    enhanced_fdv_correlations.append((base_metric, enhanced_metrics[base_metric], orig_corr, len(orig_valid)))\n",
        "        \n",
        "        # Add remaining non-transformed metrics\n",
        "        for metric in ['avg_sol_per_trade', 'trades_per_trader', 'unique_pairs']:\n",
        "            if metric in analysis_tokens.columns:\n",
        "                valid_data = analysis_tokens[\n",
        "                    (analysis_tokens[metric].notna()) & \n",
        "                    (np.isfinite(analysis_tokens[metric])) &\n",
        "                    (analysis_tokens[metric] > 0)\n",
        "                ]\n",
        "                if len(valid_data) > 10:\n",
        "                    corr = valid_data[metric].corr(valid_data['log_fdv'])\n",
        "                    enhanced_fdv_correlations.append((metric, enhanced_metrics[metric], corr, len(valid_data)))\n",
        "        \n",
        "        # Same analysis for liquidity\n",
        "        print(f\"\\n💧 ENHANCED CORRELATION WITH LOG10(LIQUIDITY):\")\n",
        "        print(f\"   {'Metric':<30} {'Original':<10} {'Log Version':<12} {'Better'}\")\n",
        "        print(f\"   {'-'*65}\")\n",
        "        \n",
        "        enhanced_liq_correlations = []\n",
        "        \n",
        "        for base_metric in ['total_trades', 'unique_traders', 'total_sol_volume', 'sol_per_trader', 'trades_per_hour']:\n",
        "            if base_metric in analysis_tokens.columns:\n",
        "                log_metric = f'log_{base_metric}'\n",
        "                \n",
        "                # Original correlation\n",
        "                orig_valid = analysis_tokens[\n",
        "                    (analysis_tokens[base_metric].notna()) & \n",
        "                    (np.isfinite(analysis_tokens[base_metric])) &\n",
        "                    (analysis_tokens[base_metric] > 0)\n",
        "                ]\n",
        "                orig_corr = orig_valid[base_metric].corr(orig_valid['log_liquidity']) if len(orig_valid) > 10 else np.nan\n",
        "                \n",
        "                # Log-transformed correlation\n",
        "                log_valid = analysis_tokens[\n",
        "                    (analysis_tokens[log_metric].notna()) & \n",
        "                    (np.isfinite(analysis_tokens[log_metric]))\n",
        "                ]\n",
        "                log_corr = log_valid[log_metric].corr(log_valid['log_liquidity']) if len(log_valid) > 10 else np.nan\n",
        "                \n",
        "                # Determine which is better\n",
        "                better = \"LOG\" if abs(log_corr) > abs(orig_corr) else \"ORIG\"\n",
        "                if pd.isna(orig_corr) or pd.isna(log_corr):\n",
        "                    better = \"N/A\"\n",
        "                \n",
        "                print(f\"   {enhanced_metrics[base_metric]:<30} {orig_corr:>8.3f}  {log_corr:>10.3f}   {better}\")\n",
        "                \n",
        "                # Store best correlation\n",
        "                if not pd.isna(log_corr):\n",
        "                    enhanced_liq_correlations.append((log_metric, enhanced_metrics[log_metric], log_corr, len(log_valid)))\n",
        "                if not pd.isna(orig_corr):\n",
        "                    enhanced_liq_correlations.append((base_metric, enhanced_metrics[base_metric], orig_corr, len(orig_valid)))\n",
        "        \n",
        "        # Add remaining metrics\n",
        "        for metric in ['avg_sol_per_trade', 'trades_per_trader', 'unique_pairs']:\n",
        "            if metric in analysis_tokens.columns:\n",
        "                valid_data = analysis_tokens[\n",
        "                    (analysis_tokens[metric].notna()) & \n",
        "                    (np.isfinite(analysis_tokens[metric])) &\n",
        "                    (analysis_tokens[metric] > 0)\n",
        "                ]\n",
        "                if len(valid_data) > 10:\n",
        "                    corr = valid_data[metric].corr(valid_data['log_liquidity'])\n",
        "                    enhanced_liq_correlations.append((metric, enhanced_metrics[metric], corr, len(valid_data)))\n",
        "        \n",
        "        # Sort by absolute correlation strength\n",
        "        enhanced_fdv_correlations.sort(key=lambda x: abs(x[2]), reverse=True)\n",
        "        enhanced_liq_correlations.sort(key=lambda x: abs(x[2]), reverse=True)\n",
        "        \n",
        "        print(f\"\\n🏆 TOP 5 STRONGEST FDV PREDICTORS (Enhanced):\") \n",
        "        for i, (metric, label, corr, n) in enumerate(enhanced_fdv_correlations[:5], 1):\n",
        "            log_indicator = \"📊\" if \"log_\" in metric else \"📈\"\n",
        "            print(f\"   {i}. {log_indicator} {label:<25}: {corr:>7.3f}\")\n",
        "            \n",
        "        print(f\"\\n🏆 TOP 5 STRONGEST LIQUIDITY PREDICTORS (Enhanced):\")\n",
        "        for i, (metric, label, corr, n) in enumerate(enhanced_liq_correlations[:5], 1):\n",
        "            log_indicator = \"📊\" if \"log_\" in metric else \"📈\"\n",
        "            print(f\"   {i}. {log_indicator} {label:<25}: {corr:>7.3f}\")\n",
        "        \n",
        "        # Summary of improvements\n",
        "        print(f\"\\n💡 LOG TRANSFORMATION IMPROVEMENTS:\")\n",
        "        \n",
        "        log_improvements = 0\n",
        "        for base_metric in ['total_trades', 'unique_traders', 'total_sol_volume', 'sol_per_trader']:\n",
        "            if base_metric in analysis_tokens.columns and f'log_{base_metric}' in analysis_tokens.columns:\n",
        "                orig_fdv_corr = analysis_tokens[base_metric].corr(analysis_tokens['log_fdv'])\n",
        "                log_fdv_corr = analysis_tokens[f'log_{base_metric}'].corr(analysis_tokens['log_fdv'])\n",
        "                \n",
        "                if abs(log_fdv_corr) > abs(orig_fdv_corr) + 0.05:  # Significant improvement\n",
        "                    log_improvements += 1\n",
        "        \n",
        "        print(f\"   Variables with improved correlations: {log_improvements}\")\n",
        "        print(f\"   Log transformations generally improve predictive power\")\n",
        "        \n",
        "        print(f\"\\n✅ ENHANCED CORRELATION ANALYSIS COMPLETE\")\n",
        "        print(f\"🎯 Log-transformed variables ready for improved visualizations\")\n",
        "        \n",
        "        # Store enhanced results\n",
        "        enhanced_correlation_results = {\n",
        "            'fdv_correlations': enhanced_fdv_correlations,\n",
        "            'liquidity_correlations': enhanced_liq_correlations,\n",
        "            'analysis_tokens': analysis_tokens,\n",
        "            'enhanced_metrics': enhanced_metrics\n",
        "        }\n",
        "        \n",
        "    else:\n",
        "        print(\"❌ No valid data for enhanced analysis\")\n",
        "        \n",
        "else:\n",
        "    print(\"❌ No enriched token data available\")\n"
      ]
    },
    {
      "cell_type": "code",
      "execution_count": 12,
      "metadata": {},
      "outputs": [
        {
          "name": "stdout",
          "output_type": "stream",
          "text": [
            "\n",
            "📊 STEP 9: ENHANCED CORRELATION VISUALIZATIONS\n",
            "======================================================================\n",
            "🎯 CREATING ENHANCED VISUALIZATIONS...\n",
            "   📊 1. Correlation comparison chart\n"
          ]
        },
        {
          "data": {
            "application/vnd.plotly.v1+json": {
              "config": {
                "plotlyServerURL": "https://plot.ly"
              },
              "data": [
                {
                  "hovertemplate": "<b>%{text}</b><br>Original: %{x:.3f}<br>Log: %{y:.3f}<extra></extra>",
                  "marker": {
                    "color": "blue",
                    "opacity": 0.7,
                    "size": 10
                  },
                  "mode": "markers+text",
                  "name": "FDV Correlations",
                  "text": [
                    "Total Trades",
                    "Unique Traders",
                    "Total SOL Volume",
                    "SOL per Trader",
                    "Trading Intensity"
                  ],
                  "textposition": "middle right",
                  "type": "scatter",
                  "x": {
                    "bdata": "1KvkF04wrr/o0na8XsKyv+XbnmezZ7Y/zc8JqliBoD9w9H0j89Givw==",
                    "dtype": "f8"
                  },
                  "xaxis": "x",
                  "y": {
                    "bdata": "a7ZWKWT7xL9I/n6oVALFvxqj1+0AJsC/AVZJiem8sb8te0kbGM/Gvw==",
                    "dtype": "f8"
                  },
                  "yaxis": "y"
                },
                {
                  "line": {
                    "color": "gray",
                    "dash": "dash"
                  },
                  "mode": "lines",
                  "name": "Equal Performance",
                  "showlegend": false,
                  "type": "scatter",
                  "x": [
                    -0.17819501240134042,
                    0.08751984863088998
                  ],
                  "xaxis": "x",
                  "y": [
                    -0.17819501240134042,
                    0.08751984863088998
                  ],
                  "yaxis": "y"
                },
                {
                  "hovertemplate": "<b>%{text}</b><br>Original: %{x:.3f}<br>Log: %{y:.3f}<extra></extra>",
                  "marker": {
                    "color": "green",
                    "opacity": 0.7,
                    "size": 10
                  },
                  "mode": "markers+text",
                  "name": "Liquidity Correlations",
                  "text": [
                    "Total Trades",
                    "Unique Traders",
                    "Total SOL Volume",
                    "SOL per Trader",
                    "Trading Intensity"
                  ],
                  "textposition": "middle right",
                  "type": "scatter",
                  "x": {
                    "bdata": "eQcIAaXror9/pybjSeSgv1pzWWW4p7w/9RmHXC29u7++vv8XkrqIvw==",
                    "dtype": "f8"
                  },
                  "xaxis": "x2",
                  "y": {
                    "bdata": "M02J+xUewb87AdR6Lv+/v/cKDf8RiLi/XhVxhzdEsL/1TCT5eOfAvw==",
                    "dtype": "f8"
                  },
                  "yaxis": "y2"
                },
                {
                  "line": {
                    "color": "gray",
                    "dash": "dash"
                  },
                  "mode": "lines",
                  "name": "Equal Performance",
                  "showlegend": false,
                  "type": "scatter",
                  "x": [
                    -0.13373064786956376,
                    0.11193420862532602
                  ],
                  "xaxis": "x2",
                  "y": [
                    -0.13373064786956376,
                    0.11193420862532602
                  ],
                  "yaxis": "y2"
                }
              ],
              "layout": {
                "annotations": [
                  {
                    "font": {
                      "size": 16
                    },
                    "showarrow": false,
                    "text": "FDV Correlations: Original vs Log",
                    "x": 0.225,
                    "xanchor": "center",
                    "xref": "paper",
                    "y": 1,
                    "yanchor": "bottom",
                    "yref": "paper"
                  },
                  {
                    "font": {
                      "size": 16
                    },
                    "showarrow": false,
                    "text": "Liquidity Correlations: Original vs Log",
                    "x": 0.775,
                    "xanchor": "center",
                    "xref": "paper",
                    "y": 1,
                    "yanchor": "bottom",
                    "yref": "paper"
                  }
                ],
                "height": 600,
                "template": {
                  "data": {
                    "bar": [
                      {
                        "error_x": {
                          "color": "#2a3f5f"
                        },
                        "error_y": {
                          "color": "#2a3f5f"
                        },
                        "marker": {
                          "line": {
                            "color": "#E5ECF6",
                            "width": 0.5
                          },
                          "pattern": {
                            "fillmode": "overlay",
                            "size": 10,
                            "solidity": 0.2
                          }
                        },
                        "type": "bar"
                      }
                    ],
                    "barpolar": [
                      {
                        "marker": {
                          "line": {
                            "color": "#E5ECF6",
                            "width": 0.5
                          },
                          "pattern": {
                            "fillmode": "overlay",
                            "size": 10,
                            "solidity": 0.2
                          }
                        },
                        "type": "barpolar"
                      }
                    ],
                    "carpet": [
                      {
                        "aaxis": {
                          "endlinecolor": "#2a3f5f",
                          "gridcolor": "white",
                          "linecolor": "white",
                          "minorgridcolor": "white",
                          "startlinecolor": "#2a3f5f"
                        },
                        "baxis": {
                          "endlinecolor": "#2a3f5f",
                          "gridcolor": "white",
                          "linecolor": "white",
                          "minorgridcolor": "white",
                          "startlinecolor": "#2a3f5f"
                        },
                        "type": "carpet"
                      }
                    ],
                    "choropleth": [
                      {
                        "colorbar": {
                          "outlinewidth": 0,
                          "ticks": ""
                        },
                        "type": "choropleth"
                      }
                    ],
                    "contour": [
                      {
                        "colorbar": {
                          "outlinewidth": 0,
                          "ticks": ""
                        },
                        "colorscale": [
                          [
                            0,
                            "#0d0887"
                          ],
                          [
                            0.1111111111111111,
                            "#46039f"
                          ],
                          [
                            0.2222222222222222,
                            "#7201a8"
                          ],
                          [
                            0.3333333333333333,
                            "#9c179e"
                          ],
                          [
                            0.4444444444444444,
                            "#bd3786"
                          ],
                          [
                            0.5555555555555556,
                            "#d8576b"
                          ],
                          [
                            0.6666666666666666,
                            "#ed7953"
                          ],
                          [
                            0.7777777777777778,
                            "#fb9f3a"
                          ],
                          [
                            0.8888888888888888,
                            "#fdca26"
                          ],
                          [
                            1,
                            "#f0f921"
                          ]
                        ],
                        "type": "contour"
                      }
                    ],
                    "contourcarpet": [
                      {
                        "colorbar": {
                          "outlinewidth": 0,
                          "ticks": ""
                        },
                        "type": "contourcarpet"
                      }
                    ],
                    "heatmap": [
                      {
                        "colorbar": {
                          "outlinewidth": 0,
                          "ticks": ""
                        },
                        "colorscale": [
                          [
                            0,
                            "#0d0887"
                          ],
                          [
                            0.1111111111111111,
                            "#46039f"
                          ],
                          [
                            0.2222222222222222,
                            "#7201a8"
                          ],
                          [
                            0.3333333333333333,
                            "#9c179e"
                          ],
                          [
                            0.4444444444444444,
                            "#bd3786"
                          ],
                          [
                            0.5555555555555556,
                            "#d8576b"
                          ],
                          [
                            0.6666666666666666,
                            "#ed7953"
                          ],
                          [
                            0.7777777777777778,
                            "#fb9f3a"
                          ],
                          [
                            0.8888888888888888,
                            "#fdca26"
                          ],
                          [
                            1,
                            "#f0f921"
                          ]
                        ],
                        "type": "heatmap"
                      }
                    ],
                    "histogram": [
                      {
                        "marker": {
                          "pattern": {
                            "fillmode": "overlay",
                            "size": 10,
                            "solidity": 0.2
                          }
                        },
                        "type": "histogram"
                      }
                    ],
                    "histogram2d": [
                      {
                        "colorbar": {
                          "outlinewidth": 0,
                          "ticks": ""
                        },
                        "colorscale": [
                          [
                            0,
                            "#0d0887"
                          ],
                          [
                            0.1111111111111111,
                            "#46039f"
                          ],
                          [
                            0.2222222222222222,
                            "#7201a8"
                          ],
                          [
                            0.3333333333333333,
                            "#9c179e"
                          ],
                          [
                            0.4444444444444444,
                            "#bd3786"
                          ],
                          [
                            0.5555555555555556,
                            "#d8576b"
                          ],
                          [
                            0.6666666666666666,
                            "#ed7953"
                          ],
                          [
                            0.7777777777777778,
                            "#fb9f3a"
                          ],
                          [
                            0.8888888888888888,
                            "#fdca26"
                          ],
                          [
                            1,
                            "#f0f921"
                          ]
                        ],
                        "type": "histogram2d"
                      }
                    ],
                    "histogram2dcontour": [
                      {
                        "colorbar": {
                          "outlinewidth": 0,
                          "ticks": ""
                        },
                        "colorscale": [
                          [
                            0,
                            "#0d0887"
                          ],
                          [
                            0.1111111111111111,
                            "#46039f"
                          ],
                          [
                            0.2222222222222222,
                            "#7201a8"
                          ],
                          [
                            0.3333333333333333,
                            "#9c179e"
                          ],
                          [
                            0.4444444444444444,
                            "#bd3786"
                          ],
                          [
                            0.5555555555555556,
                            "#d8576b"
                          ],
                          [
                            0.6666666666666666,
                            "#ed7953"
                          ],
                          [
                            0.7777777777777778,
                            "#fb9f3a"
                          ],
                          [
                            0.8888888888888888,
                            "#fdca26"
                          ],
                          [
                            1,
                            "#f0f921"
                          ]
                        ],
                        "type": "histogram2dcontour"
                      }
                    ],
                    "mesh3d": [
                      {
                        "colorbar": {
                          "outlinewidth": 0,
                          "ticks": ""
                        },
                        "type": "mesh3d"
                      }
                    ],
                    "parcoords": [
                      {
                        "line": {
                          "colorbar": {
                            "outlinewidth": 0,
                            "ticks": ""
                          }
                        },
                        "type": "parcoords"
                      }
                    ],
                    "pie": [
                      {
                        "automargin": true,
                        "type": "pie"
                      }
                    ],
                    "scatter": [
                      {
                        "fillpattern": {
                          "fillmode": "overlay",
                          "size": 10,
                          "solidity": 0.2
                        },
                        "type": "scatter"
                      }
                    ],
                    "scatter3d": [
                      {
                        "line": {
                          "colorbar": {
                            "outlinewidth": 0,
                            "ticks": ""
                          }
                        },
                        "marker": {
                          "colorbar": {
                            "outlinewidth": 0,
                            "ticks": ""
                          }
                        },
                        "type": "scatter3d"
                      }
                    ],
                    "scattercarpet": [
                      {
                        "marker": {
                          "colorbar": {
                            "outlinewidth": 0,
                            "ticks": ""
                          }
                        },
                        "type": "scattercarpet"
                      }
                    ],
                    "scattergeo": [
                      {
                        "marker": {
                          "colorbar": {
                            "outlinewidth": 0,
                            "ticks": ""
                          }
                        },
                        "type": "scattergeo"
                      }
                    ],
                    "scattergl": [
                      {
                        "marker": {
                          "colorbar": {
                            "outlinewidth": 0,
                            "ticks": ""
                          }
                        },
                        "type": "scattergl"
                      }
                    ],
                    "scattermap": [
                      {
                        "marker": {
                          "colorbar": {
                            "outlinewidth": 0,
                            "ticks": ""
                          }
                        },
                        "type": "scattermap"
                      }
                    ],
                    "scattermapbox": [
                      {
                        "marker": {
                          "colorbar": {
                            "outlinewidth": 0,
                            "ticks": ""
                          }
                        },
                        "type": "scattermapbox"
                      }
                    ],
                    "scatterpolar": [
                      {
                        "marker": {
                          "colorbar": {
                            "outlinewidth": 0,
                            "ticks": ""
                          }
                        },
                        "type": "scatterpolar"
                      }
                    ],
                    "scatterpolargl": [
                      {
                        "marker": {
                          "colorbar": {
                            "outlinewidth": 0,
                            "ticks": ""
                          }
                        },
                        "type": "scatterpolargl"
                      }
                    ],
                    "scatterternary": [
                      {
                        "marker": {
                          "colorbar": {
                            "outlinewidth": 0,
                            "ticks": ""
                          }
                        },
                        "type": "scatterternary"
                      }
                    ],
                    "surface": [
                      {
                        "colorbar": {
                          "outlinewidth": 0,
                          "ticks": ""
                        },
                        "colorscale": [
                          [
                            0,
                            "#0d0887"
                          ],
                          [
                            0.1111111111111111,
                            "#46039f"
                          ],
                          [
                            0.2222222222222222,
                            "#7201a8"
                          ],
                          [
                            0.3333333333333333,
                            "#9c179e"
                          ],
                          [
                            0.4444444444444444,
                            "#bd3786"
                          ],
                          [
                            0.5555555555555556,
                            "#d8576b"
                          ],
                          [
                            0.6666666666666666,
                            "#ed7953"
                          ],
                          [
                            0.7777777777777778,
                            "#fb9f3a"
                          ],
                          [
                            0.8888888888888888,
                            "#fdca26"
                          ],
                          [
                            1,
                            "#f0f921"
                          ]
                        ],
                        "type": "surface"
                      }
                    ],
                    "table": [
                      {
                        "cells": {
                          "fill": {
                            "color": "#EBF0F8"
                          },
                          "line": {
                            "color": "white"
                          }
                        },
                        "header": {
                          "fill": {
                            "color": "#C8D4E3"
                          },
                          "line": {
                            "color": "white"
                          }
                        },
                        "type": "table"
                      }
                    ]
                  },
                  "layout": {
                    "annotationdefaults": {
                      "arrowcolor": "#2a3f5f",
                      "arrowhead": 0,
                      "arrowwidth": 1
                    },
                    "autotypenumbers": "strict",
                    "coloraxis": {
                      "colorbar": {
                        "outlinewidth": 0,
                        "ticks": ""
                      }
                    },
                    "colorscale": {
                      "diverging": [
                        [
                          0,
                          "#8e0152"
                        ],
                        [
                          0.1,
                          "#c51b7d"
                        ],
                        [
                          0.2,
                          "#de77ae"
                        ],
                        [
                          0.3,
                          "#f1b6da"
                        ],
                        [
                          0.4,
                          "#fde0ef"
                        ],
                        [
                          0.5,
                          "#f7f7f7"
                        ],
                        [
                          0.6,
                          "#e6f5d0"
                        ],
                        [
                          0.7,
                          "#b8e186"
                        ],
                        [
                          0.8,
                          "#7fbc41"
                        ],
                        [
                          0.9,
                          "#4d9221"
                        ],
                        [
                          1,
                          "#276419"
                        ]
                      ],
                      "sequential": [
                        [
                          0,
                          "#0d0887"
                        ],
                        [
                          0.1111111111111111,
                          "#46039f"
                        ],
                        [
                          0.2222222222222222,
                          "#7201a8"
                        ],
                        [
                          0.3333333333333333,
                          "#9c179e"
                        ],
                        [
                          0.4444444444444444,
                          "#bd3786"
                        ],
                        [
                          0.5555555555555556,
                          "#d8576b"
                        ],
                        [
                          0.6666666666666666,
                          "#ed7953"
                        ],
                        [
                          0.7777777777777778,
                          "#fb9f3a"
                        ],
                        [
                          0.8888888888888888,
                          "#fdca26"
                        ],
                        [
                          1,
                          "#f0f921"
                        ]
                      ],
                      "sequentialminus": [
                        [
                          0,
                          "#0d0887"
                        ],
                        [
                          0.1111111111111111,
                          "#46039f"
                        ],
                        [
                          0.2222222222222222,
                          "#7201a8"
                        ],
                        [
                          0.3333333333333333,
                          "#9c179e"
                        ],
                        [
                          0.4444444444444444,
                          "#bd3786"
                        ],
                        [
                          0.5555555555555556,
                          "#d8576b"
                        ],
                        [
                          0.6666666666666666,
                          "#ed7953"
                        ],
                        [
                          0.7777777777777778,
                          "#fb9f3a"
                        ],
                        [
                          0.8888888888888888,
                          "#fdca26"
                        ],
                        [
                          1,
                          "#f0f921"
                        ]
                      ]
                    },
                    "colorway": [
                      "#636efa",
                      "#EF553B",
                      "#00cc96",
                      "#ab63fa",
                      "#FFA15A",
                      "#19d3f3",
                      "#FF6692",
                      "#B6E880",
                      "#FF97FF",
                      "#FECB52"
                    ],
                    "font": {
                      "color": "#2a3f5f"
                    },
                    "geo": {
                      "bgcolor": "white",
                      "lakecolor": "white",
                      "landcolor": "#E5ECF6",
                      "showlakes": true,
                      "showland": true,
                      "subunitcolor": "white"
                    },
                    "hoverlabel": {
                      "align": "left"
                    },
                    "hovermode": "closest",
                    "mapbox": {
                      "style": "light"
                    },
                    "paper_bgcolor": "white",
                    "plot_bgcolor": "#E5ECF6",
                    "polar": {
                      "angularaxis": {
                        "gridcolor": "white",
                        "linecolor": "white",
                        "ticks": ""
                      },
                      "bgcolor": "#E5ECF6",
                      "radialaxis": {
                        "gridcolor": "white",
                        "linecolor": "white",
                        "ticks": ""
                      }
                    },
                    "scene": {
                      "xaxis": {
                        "backgroundcolor": "#E5ECF6",
                        "gridcolor": "white",
                        "gridwidth": 2,
                        "linecolor": "white",
                        "showbackground": true,
                        "ticks": "",
                        "zerolinecolor": "white"
                      },
                      "yaxis": {
                        "backgroundcolor": "#E5ECF6",
                        "gridcolor": "white",
                        "gridwidth": 2,
                        "linecolor": "white",
                        "showbackground": true,
                        "ticks": "",
                        "zerolinecolor": "white"
                      },
                      "zaxis": {
                        "backgroundcolor": "#E5ECF6",
                        "gridcolor": "white",
                        "gridwidth": 2,
                        "linecolor": "white",
                        "showbackground": true,
                        "ticks": "",
                        "zerolinecolor": "white"
                      }
                    },
                    "shapedefaults": {
                      "line": {
                        "color": "#2a3f5f"
                      }
                    },
                    "ternary": {
                      "aaxis": {
                        "gridcolor": "white",
                        "linecolor": "white",
                        "ticks": ""
                      },
                      "baxis": {
                        "gridcolor": "white",
                        "linecolor": "white",
                        "ticks": ""
                      },
                      "bgcolor": "#E5ECF6",
                      "caxis": {
                        "gridcolor": "white",
                        "linecolor": "white",
                        "ticks": ""
                      }
                    },
                    "title": {
                      "x": 0.05
                    },
                    "xaxis": {
                      "automargin": true,
                      "gridcolor": "white",
                      "linecolor": "white",
                      "ticks": "",
                      "title": {
                        "standoff": 15
                      },
                      "zerolinecolor": "white",
                      "zerolinewidth": 2
                    },
                    "yaxis": {
                      "automargin": true,
                      "gridcolor": "white",
                      "linecolor": "white",
                      "ticks": "",
                      "title": {
                        "standoff": 15
                      },
                      "zerolinecolor": "white",
                      "zerolinewidth": 2
                    }
                  }
                },
                "title": {
                  "text": "Log Transformation Impact on Correlations<br><sub>Points above diagonal line = Log transformation improved correlation</sub>"
                },
                "width": 1200,
                "xaxis": {
                  "anchor": "y",
                  "domain": [
                    0,
                    0.45
                  ],
                  "title": {
                    "text": "Original Correlation"
                  }
                },
                "xaxis2": {
                  "anchor": "y2",
                  "domain": [
                    0.55,
                    1
                  ],
                  "title": {
                    "text": "Original Correlation"
                  }
                },
                "yaxis": {
                  "anchor": "x",
                  "domain": [
                    0,
                    1
                  ],
                  "title": {
                    "text": "Log-Transformed Correlation"
                  }
                },
                "yaxis2": {
                  "anchor": "x2",
                  "domain": [
                    0,
                    1
                  ],
                  "title": {
                    "text": "Log-Transformed Correlation"
                  }
                }
              }
            }
          },
          "metadata": {},
          "output_type": "display_data"
        },
        {
          "name": "stdout",
          "output_type": "stream",
          "text": [
            "   📈 2. Top correlations scatter plots\n"
          ]
        },
        {
          "data": {
            "application/vnd.plotly.v1+json": {
              "config": {
                "plotlyServerURL": "https://plot.ly"
              },
              "data": [
                {
                  "customdata": {
                    "bdata": "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",
                    "dtype": "f8"
                  },
                  "hovertemplate": "<b>Log(Trading Intensity)</b>: %{x:,.2f}<br>Log(FDV): %{y:.2f}<br>FDV: $%{customdata:,.0f}<extra></extra>",
                  "marker": {
                    "color": "blue",
                    "line": {
                      "width": 0
                    },
                    "opacity": 0.6,
                    "size": 3
                  },
                  "mode": "markers",
                  "name": "Log(Trading Intensity)",
                  "showlegend": false,
                  "type": "scatter",
                  "x": {
                    "bdata": "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",
                    "dtype": "f8"
                  },
                  "xaxis": "x",
                  "y": {
                    "bdata": "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",
                    "dtype": "f8"
                  },
                  "yaxis": "y"
                },
                {
                  "customdata": {
                    "bdata": "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",
                    "dtype": "f8"
                  },
                  "hovertemplate": "<b>Unique Trading Pairs</b>: %{x:,.2f}<br>Log(FDV): %{y:.2f}<br>FDV: $%{customdata:,.0f}<extra></extra>",
                  "marker": {
                    "color": "blue",
                    "line": {
                      "width": 0
                    },
                    "opacity": 0.6,
                    "size": 3
                  },
                  "mode": "markers",
                  "name": "Unique Trading Pairs",
                  "showlegend": false,
                  "type": "scatter",
                  "x": {
                    "bdata": "DwDCAAcACwADAAQAAwALADIAAQABACsABwAJAAIABAAEAAEAAwADACsADAADAA0ABAAEAAQAAgAoABgAAgACAAQABgADAAMABAACAAQAAQAFAAEAAQACAAQABAACAAMAAQAOAAMAAwACAAQAAQAIAAIADQAGAAMACQABAAIAAwAKAAEAAgAEAAIACwABAAIAAQABAAYABAAWAB4AAgACAAMAAQAHAAMAAQADAAkAAQABAAEAAQAFAAQACgABAAMAAgAFAAMAAwAEAAYABAACAB8AAQACAAEAAwADAAEABAAEAAIABAAEAAEAAwAEAAIABAANAAcABgACAAEAAgAEAAEAGgACAAIABQAEAAIAAgACAAMAAwACAAMAAgACAAcAAwACAAEAAgAFAAIAFQAFAAEAAQADAAEAAwADAAIAAgABAAIAAwACAAIADQABAAUAAQAUAAEAFgAIAAEAAwADAAYAAwAFAAkAAwACAAEAAQABAAIAAwABAAQAAwABAAEAAwANAAIAAwAEAAIAAwAEAAQAAQABAAEAAwAEAAIAAgADAAEAAgACAAEAAgABAAIAAgABAAUABAAEAAQAAQACAAIAAQAEAAMAAQABAAIAAgAEAAQAAQADAAIAAgACAAYACAAGAAEAAwACAAEAAgABAAMAAQAEAAEAAQADAAEAAQACAAcAAgABAAMAAQABAAMABQADAAEABgAGAAIAAwABAAEAAwABAAUABQAGAAIAAwADAAIAAgADAAEAAQADAAIAAQABAAMAAQABAAEAAQABAAIAAwABAAEAAwAGAAEABAAEAAIAAwABAAIAAwACAAMABgACAAMAAQACAAMAAQACAAcAAgABAAIABgACAAQAAQABAAIAAgACAAoAAQABAAIAAgABAAIABQABAAIAAgACAAQAAQADAAEAAwAEAAIAAgABABIAAgACAAEAAwACAAIABwACAAIAAwACAAMAAgACAAIAAgADAAEAAQABAAEAAQABAAkACQABAAMAIQACAAIAAQACAAMAAgABAAEABQAGAAEAAQABAAIAAQABAAIAAQABAAIAAQACAAIABQADAAIAAgAEAAQAAQADAAIAAQABAAIAEgABAAMABAABAAMAAQABAAEAAQACAAcAAgABAAEAAgAIAAMAAgADAAEAAgACAAgAAQABAAIAAgABAAIAAwADAAEABwABAAEAAgABAAIAAQACAAEAAgABAAIABgAEAAEAAQACAAEAAQAEAAIAAQABAAEAAQADAAEAAwACAAEAAQACAAEABAABAAIAAgABAAEAAgABAAIAAgACAAMAAwABAAIAAgACAAEAAQACAAEAAQACAAMAAQACAAEAAQABAAIAAgABAAEAAgABAAIAEQAOAAQAAQABAA4AAQACAAEAAQABAAEAAQACAAEACwAEAAEAAQABACYAAgADAAMAAgACAAEAAwABAAIAAQAEAAIAAQABAAIAAgAEAAIAAQACAAEAAQABAAMAAQABAAIAAgACAAEAAQAEAAIAAQABAAIAAgACAAEAAwACAAEAAgAiAAIAAQADAAIAAgACAAEAAQABAAMAAQACAAQAAQACAAMAAwACAAEAAwABAAIAAQADAAEAAQABAAIAAQABAAEABAABAAEAAgACAAEAAwABAAIAAQAMAAEAFQABAAMAAgACAAEAAQABAAIAAgABAAEAAQACAAEAAQABAAMAAgABAAEAAQADAAEAAwAEAAEAAgACAAIAAwABAAIAAgADAAEAAgABAAEAAgABAAEAAgABAAIAAQABAAEAAQABAAEAAgACAAEAAQACAAIAAQACAAEAAgAEAAIABQACAAEAAQABAAIAAgACAAEAAQADAAQAAgABAAIAAQADAAIAAgABAAEAAQABAAIAAwABAAIAAgABAAEAAgABAAEAAQACAAEABAABAAIAAQACAAEAAQABAAQAAgABAAEAEAABAAIAAQABAAEAGgAHAAQAAwABAAEAAgABAAIAAQACAAEAAgACAAYAAwABAAEAAQADAAEAAQACAAEAAgABAAIABgACAAIAAQACAAQAAgABAAEAAwADAAQAAgACAAEAAwABAAMAAgABAAEAAgABAAIAAgABAAEAAQACAAEACQAEAAEAAQACAAIAAQABAAEAAQAFAAMAAQADAAIAAQABAAEAAgACAAEAHwABAAMAAQABAAEAAQABAAIAAQACAAIAAQABAAEAAQABAAIAAgABAAoAAgABAAEAAQABAAMAAQABAAEAAQABAAQACgAGAAEAAgABAAMAAQADAAEAAgABAAEAAwADAAIAAgABAA0AAQABAAIAAQACAAEAAQACAAEAAQABAAMAAQABAAEAAQABAAEAAQABAAEAAQACAAMAAQAEAAEAAgACAAEAAgABAAIAAQABAAEAAQACAAEAAQABAAEAAQABAAIAAgABAAIAAQABAAIADwABAAEAAQACAAEAAQABAAEAAQABAAEAAgADAAEAAQADAAEAAgABAAEAAgABAAEAAgABAAEAAQABAAEAAgACAAMAAgABAAMAAQACAAEAAQABAAEAAgABAAMAAQABAAEAAgABAAEAAQADAAEAAQACAAIABQABAAEAAgACAAEAAQABAAEAAQACAAYABwADAAIAAQACAAEAAgABAAEAAQABAAEAAQABAAIABAABAAEAAQACAAEAAgABAAEAAQADAAQAAgACAAEAAQACAAEAAQABAAMAAQABAAEAAwABAAUAAQABAAEAAQACAAEAAQACAAEAAQABAAIAAQABAAEAAQABAAEAAgADAAEAAQABAAEAAQABAAEAAQABAAEACwABAAEAAgABAAEAAQABAAEAAQAGAAMAAQABAAcAAQACAAEAAQACAAEAAQABAAEAAQADAAEAAQABAAIAAgABAAQAAQACAAEAAQABAAIAAQABAAEAAQABAAEAAQABAAEAAQABAAIAAQABAAEAAwABAAEAAQABAAEAAgABAAEAAQACAAEAAQACAA4AAQABAAEAAQABAAEAAgABAAEAAQABAAIAAQABAAEAAQABAAEAAQABAAEAAwABAAEAAQABAAEAAgABAAEABQABAAEAAQAHAA0AAQABAAMAAQADAAEAAQABAAEAAQABAAMAAQABAAEAAQABAB0AAQABAAEAAQADAAEAAwAFAAEAAQACAAMAAgABAAEAAQABAAEAAQACAAIAAgABAAEAAwABAAEAAQABAAEAAgABAAEAAQABAAEAAgABAAEAAQABAAEAAQABAAEAAQADAAEAAQABAAEAAQABAAEAAQABAAEAAQABAAEAAQABAAEAAQABAAEAAQABAAEAAQABAAEABQACAAEAAwABAAIAAQABAAMAAQACAAEAAQABAAEAAQABAAIAAgABAAEAAQABAAIAAQAFAAEAAwACAAEAAQABAAEAAQABAAEAAQACAAEAAgABAAEAAQABAAEAAQABAAIABAABAAEAAQAFAAEAAgABAAIAAQABAAEAAQABAAEABwAFAAIAAQABAAIAAQABAAIABAABAAEAAQATAAEAAQAGAAIAAgABAAEAAwACAAEAAQABAAEAAwABAAEAAQABAAEAAQADAAEAAQABAAkABQABAAEACQABAAEAAgABAAIAAQABAAEAAQACAAEAAQAEAAIAAQABAAEAAQABAAEAAQABAAEAAQABAAEAAQABAAEAAQABAAIAAQAEAAEAAQABAAEAAQABAAEAAQABAAIAAQACAAEAAQABAAEAAQABAAEAAQABAAYAAQABAAIAAQABAAEAAQABAAEAAQABAAEAAQACAAEAAgADAAIAAQABAAUAAQABAAEAAgABAAEAAQABAAEAAQABAAEAAQABAAIAAQABAAEAAQABAAEAAQACAAEAAQABAAEAAgABAAEAAQABAAEAAQABAAEAAQABAAEAAQABAAIAAgADAAEAAQACAAEAAQABAAEAAQADAAEAAQACAAEAAQABAAMAAQABAAEAAQABAAEADQABAAEAAQABAAEAAQABAAEAAQABAAEAAQABAAEAAQACAAEAAQABAAEAAQABAAEAAQABAAEAAQABAAEAAQABAAEAAQACAAEAAQABAAEAAQABAAEAAQACAAEAAQABAAEAGgABAAEAAgABAAEAAQAEAAEAAQABAAEAAgADAAEAAQABAAIAAgABAAEAAQABAAEAAQABAAEAAgACAAEAAQABAAEAAQABAAEAAQABAAEAAgABAAEAAQABAAMAAQABAAEAAQABAAIAAQABAAEAAQABAAEAAQABAAMAAQABAAEAAQABAAEAAQABAAEAAQABAAEAAQABAAEAAQABAAEAAQABAAEAAQABAAEAAQABAAEAAQABAAIAAQABAAEAAQABAAEAAQABAAEAAQABAAEAAQABAAEAAQABAAEAAgABAAEAAQABAAEAAQABAAEAAQABAAEAAQABAAEAAQABAAEAAQABAAEAAQABAAEAAQABAAEAAQABAAEAAQABAAEAAQABAAEAAQABAAEAAQABAAEAAgABAAEAAQABAAEAAQABAAEAAQABAAEAAQABAAEAAQABAAEAAQABAAEAAQABAAcAAQABAAEAAQABAAIAAQABAAEAAQABAAEAAQABAAEAAQABAAEAAQACAAEAAQABAAEABAABAAEAAQACAAEAAQABAAEAAQABAAEAAQABAAEAAQABAAEAAQACAAEAAgABAAEAAQABAAEAAQABAAEAAQABAAEAAQABAAEAAQABAAMAAQABAAEAAQADAAEAAQABAAEAAQABAAEAAQABAAEAAQABAAEAAQABAAEAAQAEAAEAAQABAAEAAQABAAEAAQABAAEAAQABAAEAAQABAAIAAQABAAEAAQABAAEAAQABAAEAAQABAAEAAQACAAEAAQABAAEAAQABAAEAAgABAAEAAQABAAEAAQABAAEAAQABAAEAAQABAAEAAQABAAEACAABAAEAAQABAAEAAQABAAMAAQABAAEAAQABAAEAAQABAAEAAQABAAEAAQABAAEAAQABAAEAAQABAAEAAgABAAEAAQABAAIAAQABAAEAAQABAAMAAQABAAEAAQABAAEAAgABAAEAAQABAAEAAQACAAEAAQABAAEAAQACAAEAAgABAAEAAQABAAEAAQADAAEAAQABAAEAAQABAAUAAQABAAEAAQABAAEAAQABAAEAAwABAAEAAQABAAEAAQABAAIAAQABAAEAAQABAAEAAQABAAEABAABAAEAAQABAAEAAQABAAEAAQABAAEAAQABAAEAAQABAAEAAQABAAEAAQABAAEAAQABAAEAAQABAAEAAQABAAEAAQABAAEAAQABAAEAAQABAAEAAQABAAMAAQABAAEAAgABAAEAAQABAAEAAgABAAEAAQABAAEAAQABAAEAAQABAAEAAQABAAEAAQABAAEAAQABAAEAAQABAAEAAQABAAEAAQABAAEAAQABAAEAAQABAAEAAQABAAEAAQABAAEAAQABAAIAAQABAAEAAQABAAEAAQABAAEAAQABAAEAAQABAAEAAQABAAEAAQABAAEAAQABAAEAAQABAAEAAQABAAEAAQABAAEAAQABAAEAAQABAAEAAQABAAEAAQABAAEAAQABAAEAAQABAAEAAQABAAEAAQABAAEAAQAEAAEAAQABAAEAAQABAAEAAQABAAEAAQABAAEAAQABAAEAAQABAAIAAQABAAEAAQABAAEAAQABAAEAAQABAAIAAQABAAEAAQABAAEAAQABAAEAAQABAAEAAQABAAEAAQABAAEAAQABAAEAAQABAAEAAQABAAEAAgABAAEAAQABAAEAAQABAAEAAQABAAEAAQABAAEAAQABAAEAAQABAAEAAQABAAEAAQABAAIAAQABAAEAAQABAAEAAQABAAEAAQABAAEAAQABAAEAAQABAAEAAQABAAEAAQABAAEAAQABAAEAAgABAAEAAQABAAEAAQABAAEAAQABAAEAAQABAAEAAQABAAEAAQABAAEAAQABAAEAAQABAAEAAQABAAEAAQABAAEAAQABAAEAAQABAAEAAQABAAEAAwABAAEAAQABAAEAAQACAAEAAQACAAEAAQABAAEAAQABAAEAAQABAAEAAQABAAEAAQABAAEAAQABAAEAAQABAAEAAQABAAEAAQABAAEAAQABAAEAAQABAAEAAQABAAEAAQABAAEAAQABAAEAAQABAAIAAQABAAIAAQABAAEAAQABAAEAAQABAAEAAQABAAEAAQA=",
                    "dtype": "i2"
                  },
                  "xaxis": "x2",
                  "y": {
                    "bdata": "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",
                    "dtype": "f8"
                  },
                  "yaxis": "y2"
                },
                {
                  "customdata": {
                    "bdata": "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",
                    "dtype": "f8"
                  },
                  "hovertemplate": "<b>Log(Unique Traders)</b>: %{x:,.2f}<br>Log(FDV): %{y:.2f}<br>FDV: $%{customdata:,.0f}<extra></extra>",
                  "marker": {
                    "color": "blue",
                    "line": {
                      "width": 0
                    },
                    "opacity": 0.6,
                    "size": 3
                  },
                  "mode": "markers",
                  "name": "Log(Unique Traders)",
                  "showlegend": false,
                  "type": "scatter",
                  "x": {
                    "bdata": "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",
                    "dtype": "f8"
                  },
                  "xaxis": "x3",
                  "y": {
                    "bdata": "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",
                    "dtype": "f8"
                  },
                  "yaxis": "y3"
                },
                {
                  "customdata": {
                    "bdata": "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",
                    "dtype": "f8"
                  },
                  "hovertemplate": "<b>Log(Total Trades)</b>: %{x:,.2f}<br>Log(FDV): %{y:.2f}<br>FDV: $%{customdata:,.0f}<extra></extra>",
                  "marker": {
                    "color": "blue",
                    "line": {
                      "width": 0
                    },
                    "opacity": 0.6,
                    "size": 3
                  },
                  "mode": "markers",
                  "name": "Log(Total Trades)",
                  "showlegend": false,
                  "type": "scatter",
                  "x": {
                    "bdata": "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",
                    "dtype": "f8"
                  },
                  "xaxis": "x4",
                  "y": {
                    "bdata": "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",
                    "dtype": "f8"
                  },
                  "yaxis": "y4"
                },
                {
                  "customdata": {
                    "bdata": "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",
                    "dtype": "f8"
                  },
                  "hovertemplate": "<b>Trades per Trader</b>: %{x:,.2f}<br>Log(Liquidity): %{y:.2f}<br>Liquidity: $%{customdata:,.0f}<extra></extra>",
                  "marker": {
                    "color": "green",
                    "line": {
                      "width": 0
                    },
                    "opacity": 0.6,
                    "size": 3
                  },
                  "mode": "markers",
                  "name": "Trades per Trader",
                  "showlegend": false,
                  "type": "scatter",
                  "x": {
                    "bdata": "AeAD9JArIUBGmu/KNSkXQHOcRytx9ihAXWUDvjKdGUBKOnUTcPcjQEMN2awumSJA2MYb8AIyPEBjtYT/ckoZQMANZfEhQChAhRAflAt2REBze4gB0uNQQHl/wK1NYRdAYT9CwHJhJECnxv1DmPUlQGzrjvnIbiVARJGfCW1mIkAdeRkOjMQiQJfviQODYUFA+E43VLhtJEBYTfoxG1YvQP9KLjxONxlAXeJjf/aVH0DpJc5SlR4gQGlsQiZrjCJAVO9PBrBFIEC7a2McGrUjQPHSO/mEGh5AL9GEnaDbIkBtB/jxsCcUQLrbvCbEVSdAAYsoAYuQKkCPmQiregFZQJh/+Zd/+SVAt9bUpWkiIUAquZQZrDQjQDBWvjf4uBlAGbztvXxMIUDNHbB55LAhQHTGRGzAMCRAEi4zJYAlKkB2eaGG+tYdQI8CUMR2vyRA8Z7339LQQkDCWPY367QTQEDLiKNXuiNAx7pwAmpLJ0CgOk5khlAaQEfAtZaANCZAo4SJOIYtK0BIKbvQ7kcrQOCbVxPPWiFA64x/hkiSFEAhPQR2klkjQF/QK8+/vyRAU9hqjWepI0Dvua5CfTghQPNKbwfXxyFAYxCfiqnfH0ChBS1oQashQLuXz9BqJR1A49qMgAU3JkAClkEtOxAiQJr+50qArxpAFbW+l5qRIUAGHxIJjXcmQPLupwBcZ1ZAno9rDCvxEEBn8zR4Q/wcQEPjL1Jv3xpAQhaHJpkqHkCUbvKWtDcbQMhrPdcv2SRAHos7fBy1SEDWas2FeJkpQBcpRNVBtiJAqEZQ4wS0KUDL9dybWQ8hQCenOTyQCiJAL72P85CUJ0D1wtmxd90jQO04sswepBlAVmgysfFiTEBfOsoRBGogQJjc0yfzOBZAqLGaqmEINUCMXDludJkkQFgSvLSchyRAX80eR4eQQEDvlQ0vYXQhQHz4GoH0HWJAg0WxvyluIkA5uwTVbBUWQP/iof0HxSdA4SC393UaJEAndyFTmuwKQKlYxpa1qBpAKb7O1Q3jIkBGkvI+x3IrQEtuHdhHEhtAV0DNmbLfDkBbNxBiCwUpQHxO1FlimClAi82S3+84IEC4EMG/0+IlQDpUh6mTShtAmwgJ4cSuEEDzE+Ks/DYYQDjI/f0fNQ9A6g2Gr68jHkBr43df95kiQEQPObHqrxdA0ThvAZSLJ0C5tmQfvukYQEIWaSonUCFAPHq3HqCnIEAxD1eimbwpQJD4PljKPkBA006hxLmbKEC2vUPSDVMhQICBWS6J7ypATLR2DTFAGEBO+ZGL30AgQOuw3DhtsR1A+Uh8hULIK0DHnRyxcTdlQG9NIRkhZjZA0vncSMRJFEAxviYDwxQnQAGaSJ21bS1AS/NQ2rRKE0AAeCDWSQckQP0kKGh1tSBAH9MSb8+wKkDF0R6WRjYqQNiXKwH0uiNAnqtUu0lOHkA8Ob3ZaJAdQBgY33eUPiBAF6Pv995UI0Dqv6QjIvccQPvt34Me6iVAP8YHunXcKUBZfmPkrB0hQOr/rHWUeCdALJck+c7pGkDMTfdOnMwjQNBfS3w8vPo/qQwhCEPJOkBX9KG9sZ8iQN2B82L6ZR1AlNkEpMfLGkARp88kWf4kQHIzAfQAWA5AG/LgE96dI0DA4x7NOIEkQFb7wq/QCShAxIc77EK1KUDy+TOCJB0aQCqrmkjTiyRArEhClc1BHkDjxuO111oXQCCCrXat8SZAJ5waCCpBF0BzsbF3YzEfQJVH0dpVPhVA0GVcOoRAEECwQ5Q4DpkgQD1UkVbAziBASbOnRu8JLUCAvMR7q94WQC3/bk+cdiVA2CwnwZT1FECr70BVmusjQKPmO4mo7SJA72zllzhbIkD8C55FQRErQGuZVw6i6yNAj1AsFPabKEBQeDbbHXAgQPxrodGN3iFAx8tTsgGOHEBu2PemrTcwQHuI3R5itydAiN3Nn6JpHEDOj7Lu4JMiQEneHHhB5yhAk8Ze7FicI0CxSUw8OrkwQIyeKxE/QiBAphL+Rp+6IkAvJMU179sgQEv05KsZvSNAHezUz2o1IECcm1ZOsUocQCKAi5K+ESNAfEC0McQ4JUDz/b78+SYpQN1iWzZOARxAInZhTtqCIEBGddSJpZMiQGz/joo4FxlA3coPzNsLJEAuBOh+xDEbQLj2dhvZiSFA6PTOJJkfIkDi2iOuPeIkQKLawu4XPhVA/pIq/APrG0Adpy/ft6kcQFNKXyhAhRlADbhlaCVdG0AWEzYY6O4cQFMgsS5sdyBAyoRco9ZpIED90ENmvQo3QN1tf4HA1h5AUNrwOoCHIEAF4lcnxGghQBUeYUXV+iZAKLAB/kAzKECPo17Ayy0+QC7Qm0kJHiZAfmlSr548H0DlcCcBirEkQFHEo6xHDR9A2LWnClZGFEAB9yEqfc0jQIGDfyGQsSVA5ShhgHWtDECvKCLlMVojQO//JQF67BVARCEidhV9IECl0qEZ4dAkQMemFYNPDyFAz5hQMnh0JUB/srUREwAoQKn86Fi1/h9Avu2wNSjcIkD72VnIDasaQHoXj4CJ4S1AIk/N9tXAJUA8/M+bQhEpQPAWqfmB9CNAiFkmGQdEFkAudIUGyLUoQKSnmJO7NxxAs7H5wfwxIEA0YZQIyo4fQPbtyp/WgyVAugpkLZXUH0D0WCmn2uQhQP5rlrItpSBA7nbBYUX7JUDDBSrTagIhQL8Hmr4Hmh5AtaCMeGRQEEDGP8Fw6msoQNQkar4l8yRA1UNVAeZ6P0AAAAAAAKJ6QFpkO99PTT9AZLy6SVI9H0AqEwDyOawmQIiCP5+0KRdAnKC5wq5hJEC/f4BuosgjQK8Lq7yBEkNAvQIZudfzK0DIymz/xlgmQLoh9uZjRRhACs/REgBzHUDyBhwxRlscQBGFzRpLKSBA2G6WJ5GdGEDdco+gQ7ssQN1cXfZxqihAIHilcFzjIkBzg94OTEkiQIIHJrknwxhA+396CPihJUBAwzf/Z0cjQC7JuV+tQiNAgzhAtBIgHUCDBNTseqEkQIjp1JQv2iNAP0muA9SANUA3En6PVnYkQNy0vlVGpBdAA4v6BOUmGUDqXhIUylwgQIjsUms9DCdAvzn7NsoyF0C/exTJGhIOQHquCfYN+RpA5BkQW42VHkB4MdL63Y4UQE+k47enaCNAJRgKVqHQGEBOApslOzAmQCEslHAeEidAplgFnGCMFUC4/SWDOU8ZQAjOQB3D9iNAoPszGpsWJEDwX65/7iIkQCT99KV+ZiZAcXIvchREI0AzxAQ+g0AfQLsReR2A7hlAji78ug7zGUCAe1sUD0QcQLO73ft1PB1Aqz0AtKnaIEBPrn8hWSweQKl0dMJARCBAaUTzz8ZjLkCYd3piCGETQOE8KeUwIhxAiSn/P1vhHEB9yIq96NMcQPIVZhf89xxAOsXktTbaJkA5yUct9QZOQMjbwTnv5ylAYy0mFGc2I0CXEYTzvk4iQPYkdYsHzCVAfqY3Lo8sHkAaZvxBIaYcQCnEiTHTKB9ANRcYSSi9IEAbN4QhgXwiQGdtfX3Y0xpAr255skOVKEDjboc+3JoSQFNdq5e2ySNAXn6au8FiGEBxaGtqFeclQEx8VYx1rxdA78o3UdL4I0A2hh1rY6ckQAF08DQqLiRAhf1Oi7TmIkDrdar/e6YhQG97EF+iNiRAJK5LJK5LIEB246FTTTMjQFjURTu/TSBAtlD6zTrBIUBCpLM35YsiQLc+s0uQJiBAGlKYmgqXHUBN8Rg6vKYmQPpsJYYSpBJAHkErSI1nHkAN9MCHtm4gQOSC8xb9YhlA0Au6EOcMIEDWgqyYfTkkQMEqA3IIACFAYMzhRNL5HkB4GGya3KgkQCb/su4jBCNANKDe+g5aIkBmXdLqdrImQGT9nsU/WyBAsElvqiIgEEB7dgjcWGYWQKkArZFGhhZAION5wKXaHkALNsjCS6QYQEvBDoR3ehJAP2U2sKLYGEBlopI04t0gQKUU2feZVyBA7FTs5FFeE0CFbZVlQAQ8QOIdH8sa8SFAw6ZlIkhOF0DtbVPqjowVQBQQbgcqOhtA8+Ynn1CxGECl4RHeHN8TQP3uEQ5oSRxAPeKzFPX6DkDYXGk1AB0bQLZQdoF9wCBAfT9AMbztIkDU62NVA8NEQFi4pqbdtCBAqoePtOXdG0DxApkUL7AdQEq91XAXLzRApW91Q+lbHUBe5vdQwHMfQFxJj1uTZilAcT0hfGekF0DT7RTx0UMhQNR7iwjtfydAms0bQTcTE0C0DLLSWxIcQLwRPlk4RTNANXpEBdmGC0DBknMGZuMsQKg/brFgCh9ArdGARkR6JEA0k0CqnjoXQAWJypgrKSlAZz65D+CYHEAylcGBSM0kQPEhX4ZTUh1A1jmJiRP2H0CsoCZI4WMcQBkKSvUtZxxA6Xcho2DEJkA3lck3WcUWQLfILKyIvBpA1q1IqKc1CkAAAAAAAG0gQO3rGdLcYiZAXk2Hp/RtIkDSD1zpDTIfQJJRRxkf3iNA5IulrgyDDUAgvX3T8KAfQAhRFZ0gRSRAvWIO7PJ3MkBo+SuvXdkjQEuiY71DMBVA7qPPBbWCGUBFhFoz+5U1QFUpI9lgvUtAip3YiZ34IkAog5smviYkQLvMFg4dHRpAjt8MY9+GFUDkAweVVCMgQG3HhyDljiNADdVqmmiUHEBqWNpLBzsZQMe/kzw/UiFAOaKlkTimIEBzAPez8LEoQKuDRHu4TRxAs9MR8yl5IkAPi/mthQoqQCIEddYWrxdAsqa8OLrPBEBuP20QrnMlQDazYxlh0BpAN5n3RCc2JECcd7JX14M5QN49NpoOhBlAII2Py1hAF0Asycw9B3EYQMBQLl13tRdA8WDER10rIEBpBPMI1wobQNx+D436Hx1AJxLb8ty3IEAzItwrI8IjQAgxOp3GARxA72L26GjFHUAtGzYTmqUdQF+rIdg/thlAq53HH+X1IUBkjj7+rQIaQPGlS5WZYhxAVxtD0x1sIUD5wz5hafQnQDDg1/0f0CJATXMA0+zYFkBEPqSGFUMXQN831DDgghhARIbFnyNpH0D9i3GqpEwdQHs2fgAslxlAqOZ1im9FG0DRt6YDhUsbQJOQly+aKBVAOcc4xzhHHUDFQ+E0R2cfQEwdu3xtpx1AiScH8xtLJEAhSDArVzUcQC5SWCjvfSJAHg9z6efxFEDNojAY0mchQOaVZbVMhyZAsbkfME4FHUCM8LgQpxogQISOCnxxtSBA/9S6AKh4HUALVatIQmceQKh3ugtIKCxAOmC3x1rWJkAW0PcWKvYVQNg2jwYMFh1AvODZkKvtGUC+xwEVK8kZQIGtETM+lyJArtvgo1V9HkBmCCsvjxwhQKFUap17axlAoHJMXSwuGUDZskKJaAguQGdpOlr3FCBAz1kwH/opEkABK8yuWmcYQK+Wv5GUCEdAEPleOkO2IEBMHgw444JyQCNv3PAHnRtAFdgQ1YWrIEC2HUrXD/EfQDjFtd6SfSBAhjs3b+HOG0Bgdp34ugEYQJ6taBBbaSBAQFwC8zt+G0BKkyZNmjQnQHsNO90Wgh5AbS2yy8lyIUAFL2DkbaMaQLUOZGB4Ow9AvW7AgAW+FUDDXO0Eu4UkQM9TPklQRCNAf4AwGkZMHkB8RFrQYlElQHoQzlBhmhlAgnssHjUaI0AGdLteOLcHQNrPvbARoiFATl0WoUHKJUAxjI7dyBkYQHaigyaGjQFAyQQfTqgZEkBnkjDF3HUeQMgaPMToSCdAhR30Q/UPIkCE8Ylwn5clQOKPd/jm4xlAqKp5315lG0ApzjJmHmwfQC9q5WF2Lx1AAO79kjt6H0CYEd/9sU0XQMYKdsi6oCJAyD0DRfc3GEAOttbnvPggQJbryeAUbx9APlfDRnbWGkDuWR42V+gfQNe6m6TjGCJA19N+JDzsHEDvmBrYO6YeQGMxLVO5QB1A8CVCOG/2IEDa7z997moiQGac6zbDThlAm0aikuaBGkD4paConC4oQJeclpyWHCJANktbCENWIEBPo8BXSP0XQEdPCQSIiwdAtaP5yIzWHkBR7AmvES8dQNF2O48FFBtABg5RX5NEFUBl0ScucegmQPI/pz1RxhdA/06+YY4FG0CkzgW0zEkxQFm3GhnByBxAXN/SIZQpH0BT7VHLNg0ZQE1jkMEWsSFA0gaKezBZI0AZrjgZrjgjQBZ9K+3dwyNAPWOEDs4WI0An6F5jTcMTQO20keLk7CBALg5I8JZfFEDpyntrz08eQCFy/nOmEiJATf3EZzBpI0B3IJcLMgceQKoOa/1aaiFA4/9mDgycFkCSBJFcisIeQJK7pQswBiVAFWYv+A9wHUB1s/aVNwcgQCPLRgba2iBAvLyfJ3LtFkAYgZ5/cgQhQJh3JwdskiRAqvQ4x9CnHkDOSHYeUSQdQK/H812xZx5Ap5njy+L1FkCbURW2XvIdQFbECeGZxBZAtfS4d8QAKUAh1HuFUO8fQLYJ709X4RxAbYVeI6q/FEDGGtqnw/4bQHz7VbNtAg1AInOZFZ9rGUDlYSalzcgdQH3Y5iQlOBlA1mUqW3TvG0Bm/DQoxP8UQAcYUGCWyjBAtn2/bOhaHUBf0Bf0BX0BQHn0vyX4HRhAdFkkRAOcIUA8uRLzRcEYQNTodFQWkiBAJ9X6N0zGH0Asg1Jh4n0jQMyHCCfhkRxAk4ghilPsFkBy3WxLxb0eQJfQSMJlpx9AkSoXoerSGUB7rCBMWlkiQKlutHTpcwFA2ENv36vmFkDt0wKs1n0OQI9X9mLq+xtAmThN8bwDB0Cnno8J68UgQJif87qZtDpAy49PP8+vL0DGU/Jpo6sWQOJBxP3nvRZAUG44oNuvG0CN2haFf8g0QM+tfhL9KCdABLyWr0k4EUC1hUjLm8w3QC5qdRyWmhdATnPekFhCJEDGhx/1u8UaQMfzwxsZZSVAvVnNm9UcJkCgpKfvxnocQOdpnKS+wTFAHr0XCVmPI0AtvB/rPpkSQHbwBfvz/w1AVwZTLQfRIUAHM2hm3FkWQFeCvRROgBdAGtCcGBEsH0AjFisulswiQJecOP0srhlASodrHoEhI0AlBqjdKKwUQJRSREpXJx9AhiVDsXx2IkCNEJflrHMiQKPB1SLI5hlAFhsN3QfrFUDF7mr8uo8eQBVaDk8byiBAbKH3Mkp7F0DQ8nBypG8TQHVHVEIosxpAzM5kWUz0I0DtkrS879k1QMPHy5hwbhhAjHpA+DW0G0A52gim5f8fQEH+qHyOaxpA/UYnjMSbIEDHvCv8WT0aQEsDuTueVyBAr8Y3xJeKH0CucDlR/GcfQFeOWe216hpAmHgNKydjHkDNWP+e9uAfQAKxlkDhCRxAAuzy0B6VEEC95Z23vHMgQHekxuU07BRA3Ig2w45FSkB/KfHb2tMbQEXdTU3GLhxAuz2g6h4OH0AT66W2aKcgQOAlqTpmcyVAC+n9RrAuIUCKPq6kkfIhQN/sEOZMDhlARQ5Fa14sJEAbNcnzs1UUQCTTbRbJNCNA6fom4TBIGUAKLiKh97MaQE/N7ezMLyBA9ChOb91RGkBjsYNl0oIVQCAc3b8vARNA7YIrpn8ZF0CTVWFqrMEaQB5NJCG2ahlAPusGU+TnH0Cv3/o82EMaQAu0ljyDbhtAvK06ot4hJUDAy9CROjwAQJrhSJuIcSVAPgwRe2F4IEAYetwb4PUcQJ8SHDKPmhRAbVezVDoWFEDIy2AUcCgXQKrpcPJAZh5AmYdkHpL5IEAUUjwaqcQYQNzc23Y3kBtA8GbiRj//FkDGhbF+FXUYQCp+QEqzLxxAL3uCpU0OVUA9ff0UE/ocQEDxNgReIx1Ap945wT9zF0AC0OrbgUEKQAjeCvKlhB1AAmkIvfN7JkBQURvIulcdQCB6V6fSriJAiIVa07wjTUD/2r0tyf4dQFN74SviexhA3OJTVGrdJEAhsaqt6mIIQIYsZCELUSBAr6v/s77kHkC6hmNJobcTQEmc/pWKghRAHmwMj6WvEkDW/9nQdfceQFypa9HPyx1AMizIvw0XF0CrXW3QvPMiQKN2T+4QCBZAFCBTxyqNGUBkY9Q8hm48QEhkaJl+hxZAYCVaeeAlKUDnAjQ6R3QnQI7YHPPhiCBAmZM5mZO5OUDkXMz0gOgdQKdTYW1gmBhATTebzxGuF0DGm88BLSwgQLm4uLi4CBFACVRi02iSE0Bg7Uu4CYobQE5328G2pRdAQ5GlsztNEkAecbtm25wUQEAyzrhdyRVAnOm4fHnTFkA4rxJ397wYQFqrJH9n9hZA82Q0WnYIIEASxKiChUEdQNhS2x8c5QRA1mY3BHwXGkDpH3BmBNMgQJ/iQ44wNBtAT4RcCpIcIEBvK/GBUCwXQF8xv+p5chZAYtBfe7n5IECQXDrrSckmQEH2HA10qRdAVTLANSTjIUAD4aEs5TseQFnUuefwpRpAGtZKmWp+H0CORlJAGJsWQGlcN/9yohhAX897X897HkD/ZaMDrpkZQJq8HcwomxpAQ+OTz8NPEkDlUmxpv4sgQNhiuXhBcBZAkCZa4Ny/IkDMrbHdJa0XQLhndcJqvxRAFVZoUiLVHUAPPedXrq4cQBIIS6mCfSFAm1V7sFvSOUDKWcdQeooAQAhlQ0WMFiVAaKnkUnbzGkC/SIquhnsXQEvIwKzMwRNAVTz4Q0gFIEDkqehD9b0gQK1YEYhgNBxAgF+2UIa0OUCpa8UuZOYcQGbxuC6wnRZAVuwB61QDG0C7orzF1tUZQDi7L8KebyJALM11WP8RG0D1tA2FN+cWQNh2Ea/tYhpArNXNPwnlGUBhW74cdZkjQDlZJIpypBVAnqgIrBb/G0Ddl8dWBA0ZQMedHLFxJx1AjyOertivIUD4KyKNtssaQInwpCD58yRA19nxK24vCUCjiy666KITQFf9xS0LbBpAElUUyUrAFkAdjJXu+L0YQND0ya3bXCBAif2S+tzAFUDkgc8cdZIlQD/OvqGwdAlAD8HMNjKaK0ATMAY29RcjQEqmM9+1iBhAl0ux+IS6HEDKhmERSjgbQCi2uPR2axlA9mPMuAE3FkD6/p3nWMUSQN/mw5+tdwRAEut4DH8FOUADXcwwWTchQKs6+F/46iZAvy444uOUB0BjOUTOs8QiQE0asew5Uh9AQrGACcluFkAwGEmFRaghQLZ9ybwaTyFAPGs7vPhaCUBpMH3nmuodQGhV/f6jDRpALUchfg9+9T9Yq0FEPKABQIIIv3sgYlZAhII15I8uHEC8RPp5a+QTQLx4Rm366BdAuz07bSZYJECyhI71nEscQBS5TaDqkytAwu1p9VI6DkBIv5wAHr4bQJHnLByA7hhAvN5Pe7kw/T9RL7a46HgcQKztk8GxeCNAonr2rubCFUBiDCF6uusfQO1kVPhUXBJA7mVHaOIeGkBqOOowU3MaQLAzUc91VBxAHG3CHvtMGEC8naJeia8bQFboDFbovF1AK1ASvxRCHEC8kajVIDEYQGBSChRmdh1A3mbiGwGxEUBia1+uC9ceQNUof1g/oRJA2CT4LHpNGkDeHLqbQ3chQLl5S6RRdhVAlaRDWwmnQECyySabbLIdQEKDTgocXzBAbianOA2XHUBOpZng424gQBbJCdCxrBtAUh9yYKY1FkArnyxuCa84QL9zJLsfjBtAFCTEdPhdJ0AujABP1lgCQLZjSmWUQxNA5OYwkFl9IEDArdy+uRAeQKSmCymAwxZA0SM5kRuaFUCPATlpqVsVQD0Xmsthrx5AyQyHYg00GEBUyB1RRScRQKaIC7qigxpAvMF3UIQBFUCYVauvxD8ZQCOjjzD3oCFAffT0aaySD0Bi82HzYfMbQIXQwpbkJyFASET3OfgtJEDdB+/pnSMaQMyE/I40wxdAv0BlyoUTB0BkEM8sTE4gQByCPwKIJE1ARA4lceE8/z9R0UFkwtQjQLxFegwSOxFAmXValNSPGkB0R9cxjfUUQEozJeWt/iFAT9+L1ceJH0CFloT57CEhQPwQBjlL1h5Ao1UZ7tPKDkCbDfu7GFQfQAG3DHDLABdAA9/rhDPtEUB7rVDqtUIZQIiBsgJZeQhAPNrHU49pGUAUSDTaD3QPQBQVUw5+iBdAQBzPAollGUBs9hYPUxkVQBt/N49Q/TNAzI8p7eNZEkDFYb7edxoVQNVUBKKQSw9AdrkyQCXbI0CZtIpJq5gcQG5maZXytCNAk6WYfl3oGUBciwOCleAfQMNY+jgAnSFAlPJnx2vQE0BOkk33fb4bQInLRlA9I19A0yGY5TLyFEC8se8ROREUQNafwW+iJ1VAgUEeAa8tCUBTas39UAMfQAai0pE9IxpARChjQbuSDkBXLB712WUhQD+0Dbj5YCJAkNkHFGgSGkBxL1BT8xQZQAAAAAAAQB5AsOcqlo0vUUDQTboAD4QlQAWnwCrUhAlAK6WZuKuoFUAsh95GtVwbQLvm4vCzzRJAPSKfry+1E0B+/Pjx46drQID3qwmX/RdA+7f4OvIgG0CShL7vNLgcQKufywHlKxdAvDNPxWWiFkAhWYfxc94JQHE7SvBdJyFAiVuJNaglHEDpQgQliqQXQAmYGKLD/RFAaufhAh7eBEAq+8JHXMsjQPpxdPWSjRtAo/S3/Ij5IUAvOkfe91QYQIBsMYBsMRxAJrmV4FB5HkCYEegakJIXQHcThBLZ9xZAR+jILD09F0BfhlJCrR4aQKN2XzUReRtAmeTihh4bIUCAPYHpNt4eQMjHbrTA7hNANzZrpTz5I0BNrwjKCRYCQFaBRFdJORdAzEsEyTT5F0CoZXA4ANEMQKV/WBJsNRdALmdPQ95qHUD5RMzm0qEVQI5c0GOQVxRA0Nl6nGNTIECfHLk84e4nQAfzdJmh+h9AMYPd04aHIEDOI1SfaWsYQL5SEPC48whAS2b12+thF0A3IgQK52oWQKVpe/HUJg1Ada8trw+WE0Azw0wytywdQFXD2G9HoiJAmdo1rskTK0BAU4SzENEdQDAfYFJG2yFADr7sujRDHkAKxlvZ55ASQH+7o/LiGx9AC8kHQS7VQ0DP9Dfodi0YQFP43ATAORpAmHwOQz6CF0ARVdHk8Z4TQMoHLsoHLh5As7cajHQ3FkBbPTsEbiwhQOsHHRX44jFAzT+8+HXBGkCL2mB8i2YhQAPQn0JbAhJAnte4UlFYH0DLHVmNuKkVQKuQwUiCTixAElbp5fHHIECe6AF4WdkTQB1z/wl1XC5AFfOjkzz6GkAtSy1LLUsjQNJuzb1eDBVARD/GwhTTGECHn6rdLnE1QO0U28nOThlA7yQ04JZrC0DoldXFVFv4P5Ubh3hgUhpAqO8NC0KeHkDZnyu/MjcaQAT8XTnTqBRA80r13LsJGEB2oeh1oUg1QJk2Yj9muQxAxHDFy1uoH0D2wVlo23AXQMaSXyz5RT5AUS4L/FtlG0Dq+nR9ut4wQNGZD32gLRRAxui7bEp3HkDxBmdsxMURQBLfDhLf7hRAGxK8b9q3EUDQ7vdUcIcZQFSSYgloBBJA0vTli8wGEkDQdMj5B48ZQCVJkiRJ2iFAegzqDk40CkDAfHIEBcQRQBdfE9a8/RVAFs/l45kEFkDtlpDZ3AIdQDG/6rxw+RpAa1Zjxr17LUBPQ275LAcfQA0leEdP3RtAuNGGjf+RE0A24l8j/rUXQNOw7jx6fBxALuUuuWnoIEC+xTqLkgcaQCXe+5biNxFAQMyqLOmjHUAKDSVfoWITQIqpR7lziCBACGnnPsplDEALgLu6i2opQD+y6zmgXBdAkUap5K6rH0AOAcXnTG0TQBNHE0cTRxFAuuq3BpCfFECkkBaY7JsgQIp3X8K/NhRAIzcJ8zTLFkAw50EXcYkYQMwZPHaTiBpA2lZDxtXRIUBGDYElo/8UQCAQ1aXCmBtAsPFo/mAjE0CSJEmSJOkVQJqZmZmZ2RdAiQJ8qU4XGEABhhCKCTAQQO29ovwAfhlAupE3x1afGECyPkZ8+pcSQCD2JiBzgxlACCfp59VQF0CndGeMvssWQCF1HW4PkhhACjCFP2EuEkCKqjVcP6MVQOiJP1fmaBNAZYBMSFf1IECmuMbNTDIVQAsT70dOcxhAeIptN3ThC0DgVTW1PAIcQFOxl3m4z/0/2eKcSF0wIkCO77DPADsUQK76Mcb7chxAqwJExj9aFUCbpQGBedgTQO5ioPs9biRAHWNiA2ZeIEDpDip6aLAbQABPv/nzIyBAOrJnICqdFUBMGpvrXQUaQIAsPMm+YCBAlCyfcB8mFEBHgvU5ntAWQDSnIwOWyRNAmj/YeDR/EEDJcuJ6gx0UQLaq/X1sHRFA8Sg31A9TDECZDJ1sqHsVQIjcvicgKRJAZnWQOu6XIUC1qPWct0oZQB84g0Uskx1APgBc8Wo5H0BSTfwRV54VQAjB1EhlxRRA+Q/pt68DJUCNiX0Ja8ceQMgKgpx+5xRAq+avr8rhFUCj6HDqTpUZQKbhpeGl4Q1AMJLlThfRGED8VLHWEMAaQLLklAX7gBlAvns65fjWF0B7wjU95FEPQJeVfzXewBhA5PHNJ8e4IEDPvBmLJKoYQKeKfUXcYCRAlHqi6GXLHUCceD0pcwwgQJ6oqSPmxxlAh9VMhCy1EkC6jSkI/eMWQN+zCcXIBRdAGN4L74X3EkA9lniC1GMeQIsU8GV3gw9Ahz7QeOA7IEA2+3I4tQIRQERG4HYmdCJAksmBh583F0Cue2HVeA8XQOc5/Sfq+htA4C71ZPxGG0AI1J1BaTAbQFNnEx90IhJA67s34fl8EUBmJHUNxHMiQBMuLaYEvhxATTctAWNBJECgfU8M8jEcQOp+L5tc2CBABLHbLZLfF0B32aqTst4XQESJnOkd7xVAkOr4Zl1pFkBQyWiCLT8iQAQ/8AM/kCNArgesacrlE0BAK+pdKHQoQFzlub8GxRBAd5O7yd3kG0CEbBXW7UQSQJeCbVO18QdAOTNsBn17EkBhYWFhYWEdQKV9kAyoZxRAfypwv4vEF0AoKH3H+zcLQGw4uY7qgRZAvPSOMFF1FkBRPjbUzuIXQG4At1uJ8hFARry2i3htGECAOeeZ+vUQQGeRTLdZJCZAW3eJ74taH0Ax6pGjObUXQMSeK/xLTgVAVsTZSgFUEEDYWQ5AB/8QQNUVgyAllBdAEZg12uJpEEBSv5pRv5oVQI9iXJupnhtAQgp9Ed1kFEBqksKrgL0gQJsnXYQOiRNAnIWtAb+fE0Alx4zx7N0bQCh1ll1U1hJAM+LNiDejQkCbxp3zHJsSQEWBZH5NxhhAv21BVWeOGUBU2Uck8TsWQNRDostCHhBAcYib2/UNGkBfCbVXQm0UQPaymrxBjhZAqFvK+j9+IUC7BpBwAgESQPcTfN74ZRlAxeVnGzDnFEC0hju/8uIPQKwuSamFZB1Au4rqKqqrEUDP98wQkEYWQFVfcH1QHhZAsU7kBgt4KkA+GntOi4AZQFMUShas/xZASisjXtO3HUAyAKJbDKgLQFCNl24SgxZAVcbgIAN7GEC9hvIaymsUQBxGH1jsJQ5A8UE8LpR+I0BTLuVSLuUUQJBLgtOF8RxAW7AFW7A1EkBA2QiFVD3/PyXBwdNmWf0/a9AmC0IcFkD1+5ItvaIYQKxAJ+Yq0CVAv+nLiTVYEEDYtyY20GobQHqOPie4fhFAwy4WkSorHkCzbLEpfAwXQNuAZ9yaaRpARTxqi4YWHkCkFjgiiVkZQPmVVlL48B9AoXr3DC/7IUAzQbNSE3oXQIHycOAX/RNAjr3kL7FIGEBXcyQQqPIYQOgkkoxLqhdA6g72W22sHUAgigourmQaQMb8vgJYHhpAFeq0+ex8G0AEfnri5uQkQGsOVgdhKxhAiqZoiqZoHkDYj9RlftMKQP7NPbKXOxlAiu8/9WBTE0AOc6z8ZoEYQCPK0QRZihpA4xEwMUQHGkBUOPdSXVoSQNaI/VmrETNAfUeGDeLmIUA4VWM+oiEgQCCedl//1hFAf0jg7YckGkBYAJzdqDcfQNSHiT9SJBJAtbS0tLS0H0BIKAAtRmYMQCtzoxHd9BhAU9qIVFfQF0AjcGxgeQoWQEOfEugJURNALDr6GQvOE0CZlxLBI/0dQPkh5gvmtB5Aj38Z71pVB0BdMXwp/kgXQNoR+UpJoRhABqi8KfOeF0AIlhWFouMUQMdqrMZqrA5AXDP/A+xjEUA9413LqM4QQIoN8HjWlRZAKiV197zPEkC3xt/NI1QjQJ73RYBAdh9AWpu1WZuVF0Ac1DYbzPoGQJU1ZU1ZUyVAnbnUOPlmFkDf5SEgkVEOQPbiBRcQYRZA1hwgmKPHG0ACsSO/rY0eQL784UbWERpAdlVb8nfBH0BTQy5cfuwsQGAgXikxChlAivqF7/BfD0CnJoDqWxIUQE9Qe/G+gS5A3aL8b9o3F0CDKLbCf4/7P/Mp2BoPyRlAfN+SMw6CGEBWUKCVeoMXQOO+aKXfzxJALW8W4icgJEBFngRJPQcUQJIZ8RxYrRNADvcWa3fGGUBgzwN59+QcQKeu5eBmvxdAHRY+86pzNkCl2pfkwkAVQA49qb6S+RRAytvxOiKtFEDIcNMAdLEJQI2Y/3Vo2RRA2x4bcfhqG0BIxHy4O4MTQIw9azq4ByBAg8BTLpP1EUDGkRNPOm4OQDsRNctwxRRAhLCRAC6xHEBu9SB72lYfQH0Qy/qJNxpAQPLVRgUfGEDcPfvYjNwhQP2d2U+FsRlA440Fz1LUMkAGZOix/dAUQBvmVcpCnBpARqfZWbK8EEDLM/Fx3y0PQG4BhVGdJg9AW9KWtCUtEkC2g7Mf7GkSQDrjYJqDvg5AJFFZXia1NkDfhIXKKfwQQOHcbkK/bA5AFZ/u5VgFGECqpICEn1wcQCzdWtELTxZAdPJV8UKuEkDGXmXGybYWQEHtBt3pVAtAqof+bJOWHUD98IGSUjUiQOXQKw+Vrx1Aq6diUVpnEkAskcQbiusQQCulh4B9+RRA939Z0HUiE0AfRlGe4aARQAtElOqhPxNAki2iOWtQHEDz9rhsY/4QQCGEEEIIgRdAvyuV/QRAFUAwxw2PlyUXQJ6N+s5GfRJAT4/PbP9zE0AXklYgJvoQQLZJX4h+CRdARX46Qq+XE0Cwm/SDR+4UQIH4aEJe2BJAenwXDqLHGUBs7G1er0UUQPb3tEPNexdApl/6pV/6EUC7n0oHQMINQJDHNfAdYxRAylF8qMKiGkBgOIyqDDsnQAePuhR08ApAVhzxYuq4C0B8T+XAut4SQObDBwOwRBBA6gv128wQE0BMLo6xr+UPQNmAy7a6xwhA0gc9GB+aGEBN9j9qOzgTQM3MzMzMTmlAWNiLtMZQCkBIPrI4XxcQQAFHBBwRcBpANLVcuKtvEkCZU+LQjAwaQLd8OeoyXRNAPVY+zVEMDkBJx3rw2BAMQHnwC1tTwhFAxvIRQ7fiFkDaDDI8Vl0QQLrG9Hvf6hNA0FsiHimmFkAwOW0Rg64TQLE2nFxuJxJAj/aPbIgfD0AJ96MiEh0QQGbXXRoZ6hNA3kMlAtewGkAPJShWHTUSQBLIXyI1WAtAWr/FSAMFC0CBEDQhwb8WQEJqgxCxABRA2DAJiX/jF0BnixJ5SGwQQB3bC3M2XBlAu8EU+aybEEDwo4d1VacVQAVbns0WMhZANUWggObfGUAc//e3dzUZQGzK0HP0NxNAwJJe/rQFF0Db42GgpakTQAieSq/U/xJA7mfzFLJpCkAE+PAfPIARQMwC8kWi1BRAH/sFZIV9EUBYNkLMYhEXQGMGG8F/HBtAamo9P7i9EEAlZOu/xKcRQNv1W3yQ6hFARQdDMf8UFkD6Iz0Gfr4WQFGfpTY+7BZAiP4jjuWHGkAUHHJSzHQFQIfUBOOt7BlAKZQsWP+JEUBEv9k69HsTQNKAk7ZfTBFAbaN91QKzGEDzIoNxJPYIQBzmCU/pxA9AtStRuxK1C0DJ/0G13CoWQGKmWmacuxdAUgeccsUfEUB68lK+SVMXQJE2FL8jaxRAoCAQ9R7lEkBTT8Zvl3oYQLtdh1oorRVAndPLg2m2E0Ax74+/p7MRQODhDDkhkxNAs5pTorTQHkCuG1b3vVYVQOphppA2gxdAJpDGIKLdH0DTjkgf01UQQA55Q96QtxhAYbYJaYzbF0AYp5fukn4TQK3a5HdurRJABZM5CLj1EEDjKI7iKI4SQMVyiJxniQ9A2E2hCQzPE0AT5b7JUpoTQKwhRq1P1RlAdeU3LxXHGECE5FDmfUsXQJlLhCcFyRtAMwJOUUbAEUDIpHiBTMoRQMQo0LIBHhJAlwdtb2n4EkB+y+wFJy0TQEB+CsF5JR9AVF1QDGdDHkBVK5g34P4SQBli9Bhi9BNAp5DRislfFkD2G8uDIPITQJ66R0W9xRJA58PbXuYKG0BZnfcmhyIOQDlncsHY+gxAI2c5SmovE0CnNptSzbUUQM3ZcqywVw9Ae9hMHmR7EECu6d+xj+4UQMyEUouPPhFAfhdS4gCrFkDUvDUIk70QQH0wFtb5YBJAcKORchLRHEDL5j5QJ5IUQNHKMNHKMAlA7eMzTbFrFEBBDSg3bkcRQGhBZP6xuCdAK29oxXpFGUA2tMo6fHwWQJhFeoaothJAmFfc9xnqEED06LR2WZ8VQGoDLvJRUAxA859y46EQGEDbtm3btm0xQFNxlPGwaR1AYStetLcNEECe4HHmGgwPQOqCBofigQ1AjuM4juM4FEA1DWq1P7QQQFp/z6D8NhZAa+Wp7nk3CECYAX7i5KEQQHXMmxcKEA5Az6XakInREkA8V8a8JeoMQMLOVkCpYgNASKXPY9OIEUCVVJY7GVsDQBnCGj3nPRBAIeg/ujI4FECumxlZmGYKQFnAnf6IBRBAPGWLcyJ1FUDqzmd4gzUQQNxLbc1hzCBAU3t9CGf8FkAhrRCHARwUQF6J2pWoXRVAQUyuICbXEUCEz4RAUnwNQDV589TbZgtAdtQi5K/ZEECykIUsZCETQGkSQXLdfiNApiE8nVb+D0BMnZaM/SYhQPiDFKAeVf4/fSrZjvZdF0AAq8dM1bgOQMUTpB5LPBlAlVJKKaWUEkAyfrvUk/EHQLelrHa/CBlALXWE2KYVEEDhDeK5v28CQGIU1KrAWhJAwb6ovDBm+j9mj+jeZ1YRQMEJZVXQrBtA0yNfiau7EUD5P7BheCYQQIRIskfMZRRA7fcrryQGCkDLJQwN+2IQQF/KgYYUVwlAgtlQZ0akFEAqEhbAI5MQQC8dTMtbWw9ACvIdq4gxEEBreI0VvPkRQHgdtlYSXQ5AysSV7g0oD0ADwh6LIuMQQAl3JkzTixJAtY43J5RoE0ACVJbk6eUUQAOMXq5DRhJA4tLVboMyEUCxtsLaCmsXQF9qzD5EdRZAwRi0ynGxEUACaeTecVUHQMwn1dYRRRVA6ce8Y5tYDkA9BiwaVREYQCrvG2PhjwpAGyqOpbveEUDbPyfp6hMUQC6gMKrTZAhAabK9YkuvEUDDp7IUh4wNQBvuhCTMpShAyBvyhrwhE0CDeFXe4osSQIXoFijG2g5AN+PXrG+6EUCvzGciY1oTQCn6Sax5JRBAAZL8VV03EECe/LXPm9cNQFVXr42Refk/+PcsBE8SFUAjRowYMWIQQCi19Gl6Rw9AK3D4r1tKFEBdUthKRbUNQAAAAAAALjVA50OgVB6vD0Dxpul52yQVQDLjDv7pWxRAAAAAAAAAFEC5zyKX08ERQAW47+OIgwpAklYFR9KqDEAGCxpPJLAKQPf6niRPaBVAVn5CnJWfIkDopH2QDKgfQOKM6sjxbw5AKd+zCcXIEUDUQR3UQR0PQF8MfH8FcBRAbL1CiItnE0BpaWlpaWkzQMs7bSI3pw5Asf5t6LtXE0BfSrY1520TQNGMHT6SqxFAQdhqatHaGECYwrJ4Tl4UQO5HUvSXjw5AgsaiYQjjEEAO9lGajJwTQNylnozfLhFA/5Wl9mi7E0DcGRLzdoYYQCnOdYziHBBAYXSsLUF5EkAIzB4we0AbQEB6Yf5xQBJAVx9z9TFXEUBtZa6WcSoLQNwAgZYv4g9Ao9FoNBqNIkCA8Sqc1UYIQDknUhcc+QxA6gysIaXOEEDayNb+EWkPQK15T2ZyHghAFvdpolipCkAiMW9nSEwhQPK2iRYBFxBAlhqgx2ZWCECn4OUUvLwQQAYJfiJN0g1AKLd4counGkDANURP7mcRQN4YwUR/JwtACtejcD1KQECttdZaa60NQAYaI8r+LQ5AVRy05kzEEEC20gN+QwkNQK9evXr16g1AjFTBiUe3DED3nqCfBvwPQOB5qKzuyQxAPkgpPNnpB0ApXI/C9SgMQG4gKbmaIhFAAgaP5b3aEkDuPvoMwu0GQLFIGXi6dRJAyZuXSDYDDkBmNYo4dFICQFeIxJGXjxZAWbBMi1grEUCrrb89sNEHQPcLhpn+kAdA6Zd+6Zd+FUDsjO743yYUQAnylCBPiRpAYGp/qf2lCkAGdmOrtBAMQMje7zY44AxA1jyjCXDWCkD1/ETkyR8OQK644oorrhBAUX85IsVQDkARq67SOkwKQGIAS2zpthBAIN1jVnE7EUAM+R7TajsSQO6jxPLHwA9A64D6IDqjDEBRXkN5DRUSQGapOzNyQQxAUOX+WdlND0AR64AphxAPQCEyVZsnQBFAT9YY/PFkDUDx5YYYkI4vQARYDH2DBwZAjC666KLLM0CuafK083IRQI+/ao1qoA9APCN/RHbgE0AxZIPK8yYPQLjdcoJl5BFAExs6tqZoCEB/DmhGsMMUQD4tOJ2JNQ5AA/VOhh5BEEAQf/2jCscIQLDVJnPclw5A3FQWmg0REECpl5FYDRcTQC41G/Z3MRBAuVssesM4DUCEd4skbOwMQBPITCAzgQxAw4HYp7Y3C0D5OgdgU2sRQN5NEZLnTxNASueZAoRrEEAfFJPs23MRQKLqTB7GNg1AFMl9MuebEEB3NoGGLoUQQPrUi/nUCxRAcZ8B5CImDkDM9xtyTJ4LQKdi8qb8fBBAuqsUE3RXDUCaG8gqtigJQCELWchCVglA/Vo0oww5CkBX0pluLw4QQPPTZWTfjfQ/MIj9fmIFEECJbQM+1iMGQOQzuo8KFhBAcOdF6niAEED2a1i/hvULQEN5DeU1FB1AdFNSHWIDD0AcuZEbudEQQEjTbp9eCgZA+/r6+vr6DkB2r3vd614YQBXu0PBVjxRAb3NZ3uayDEAo47dLPRkOQFmVHGDW0AdAk6fOUJwIBkCodzL0CAILQLoyXZmuTA9AdL9cBf1WCkAxyb49l4YOQKJVs1AkHQ1A43sFTu0YEEAe5K6fLVYEQCqzizB5aRZAJLO+wp1dAkAbcygFIzERQElnNuX+exFA9Q2gE5lDG0BwvBDpKFYTQImhW3H4dwdAbv9ADqebEUBl+UuWv2QJQN1RL0yrDg1ArvJWeau8DUCMLrrooosNQG/VTYDpgAJAQuLbQeLbCUAW7qd5axAOQGlMaj/sKw9A4uHh4eEBbEA+QNKYxeMMQJjUtPpg5ghA4LivIJG3DkCpdjFUwLkOQKuqqqqqMhNAaHQrr1bvCUAAAAAAAAAIQMpnho9xrwhAiwHxIzXXCECyDgKfJYAQQAFMfb41yxFA/KguMWuhEUAmwpOC5M8nQLY9gPLzohpAGgf+nGJWBUBDK+3CR2ULQL2BqTmEUgpAQ4x9gBkuEUCml1566aUTQHqe53me5xFA5lu+5Vu+EUAi+Zp65wQJQAHvDwHvDwtAq6qqqqqqCkBbNAqpw4cGQDavVM+9mwhApCK0qNN/EUCJiIiIiOgKQM0tCKbdeQtAW3Gxe39CEUAUrSJ9EeYNQPmeTShGLhJA6IoOvlJuCEDRcSvPR3gRQL2xm+sJXApAppsjDGe6CUAFFJW5FFgGQHJXhZmkoAJAn3WDKfJZCkBmZmZmZiYNQFOMGv42xQxAkAyoZyrXEUDQuFvnFdAIQNELvdALPQZATLwfOc3XJ0CX8heM84MFQLoiz95rYQtA83aGxLydLEAWqDDYN3UIQDGdxXQW0whAAAAAAAAACECs5vbUvngFQDjkDXlD3hxALvJQAWZhDEAUuBXNQJYOQNACLdACLR5AZsHXU5GmB0BJkiRJkiQRQHf0mWVbsgJA3ib4CIhkD0BYLo9Ads4KQEqo1UMGAwJAQgghhBCCJUAxwB44EwMQQPcNa9+w9gdA2tdM7liSEUBSlrRs920EQIJTmbANggtAEvnvSr1FEUCEZEA9U7kOQKaB+rw0UAVAtut+ulC1EEBhbBZUe04RQDaU11BeQw1AFjgHv0hxFEBVVVVVVTUQQJHZV4CR/AhA/PV5unssBUDPhTXiwOYRQMs9jbDc0w5AzsOpokNYB0C3Mi7bqfcHQAAAAAAAPBFAT6AcxYcqDEDVk/HbpZ4IQAAAAAAAQDNAkDiWH/qPCEC7IOyCsAsKQJoAAVfmf/o/TmIQWDm0IEB45gayii0GQN+VA9+VAwdAxSVDsI62IEBaGFm2Q9ICQJn+oDhNaQ1AvdZrvdZrDUDTsN0sTyILQMVO7MROzBJAo4suuugiRkB7mAXki0QFQLg9o9WD4wVAKv5NjYp/C0DX2RdRrbMPQDMzMzMzsw9A1Xyf7AsgBkAVKlSoUKEJQOyyQF4UTQdAip3YiZ3YHUDmzJkzZ84MQFcQkyuISRNAUvOvNilEBkAOnoibTmUHQLgM+ORwGQZA7SxcSkByBUBWEs3iwqkSQG7btm3btiZA4tjBSqSeB0AQNh7NH2wMQCaLHCCkuAdAQnGa0qrRCECwxkR6oHIGQLKbyG4iuyNA975k1FO5A0A0id4zid4FQCnV5HFnCQtAInikv56rCEA2lNdQXkMTQK2SNzuXagdAflkQflkQBkBYYyI9UDkIQFznFdC4WxFA55xzzjnnFECxEzuxE7sEQHwaYbmnkQtAHmmbZ5oRCUBu27Zt2zY8QOXc+hFBHBVAy7d8y7f8QkA8PDw8PDwEQJvNZrPZbA5A868fvnS8AkBYbA0WW4MFQO5elVRkKQRAzczMzMzMBkCARRsrZY8DQAticgUxuQpADqbIZ91g/j9Bw0ndl8cHQO9TXDIE6xZAvoT2EtrLOUC78md8sREIQLdt27Zt2xRADIiiA71kBkCDYNqdN5wRQASDC4kimwdARnwCqeS8CkAdEBnuVTATQA8BamjJrAZAyf5Z/A31CUAAAAAAAAAMQHwCqeS8LApAU+v5we1FCUAyOB+D8zEQQBvYO6YG9gZA8PjDAY8/EkCPENu04t4JQE9dy8HNfhdA/QCSaHRMA0CyLUipYgoEQOtvD2z0rghARe1K1K5EDUAbo+00KzgEQMzIb6qTrglAtvtwCyiMGkBmZmZmZmYeQCEhISEhIQtAZefBASkSBUD7QGtRqA8MQJmSKZmSKQNAQy/0Qi/0BkBSpuK5ZnUMQEmSJEmSJBVAS0wlphJTDUD0aZOgnGoGQMyh0Hi9HAJAAR2b74YfBUCoZyrXHS8KQOpm0LLjOQVAaxdUoq92AUDEmxFvRrwFQNA///zzzwdAWyNmfC6/BEB0XgydF0P3PwZ/FSek5B1Aw6Sxud5VAEA7sRM7sRMLQI2J9EDl7AZACQgn4iUBEUCOdNhIh40EQEhISEhISAZA+COn+Vo9D0DXygnP9DcEQLI+NNaHxgJAntiJndhJEUAndmIndmIHQPEVX/EVXwhATBwRLvJQAUCrqqqqqioRQJqNm2+ghgFAyyqrrLLKAkDbtm3btm0GQEQJWEQJWAxAZmZmZmZm/D/KUKswQmQHQLnKFDAfyP4/cVZ+QpyVA0DWXM3VXM0FQLuirqgr6gZA27Zt27atCUCDvqAv6AsGQKRwPQrXoxJAV9QVdUVdBUAHRIZ7FcwCQGNjY2NjYw9AeHh4eHh4A0AT3mjq/Nr/P0FBQUFBQRFAQBSSC3i9DUBqV6J2JWr/P2CNifRA5SJA5DiO4ziOAUDQF/QFfUEtQMDz6XEz9gdAX0J7Ce0lB0DUCMs9jbAMQFqeRKZhuwlAuSDjgowLAkB0w8hzw8gDQNu2bdu2bQNAAAAAAAAAA0BBTK4gJlcIQFOMGv42xRBAUuJnlPgZBUAzMzMzMzMCQGisD431oQFAzZXyG9uMAkAdUhOMt7ITQOZbvuVbvhFAMdKOFQgjBUAAAAAAAOAEQHYLvxoT6f0/9w1r37D2AUCuP14Go4ADQEHGBRkXZPw/9jmkJhhvAUCpJo87S9j9P4X2EtpLaABAAAAAAAAADUDokJpgvJUFQCd2Yid2YgBAD7znG9MmAEArWclKVrICQOFJQfLnVQZAjUaj0Wg0+j+GYRiGYRgKQGlpaWlpaQFA09LS0tLSAkCuHZhrB+YGQIuv+Iqv+ARAznWM4lzH+D/gAhe4wAUOQAjK3teEoPw/Y8kvlvxiAUBVVVVVVdURQEt6+dMWGgBARShCEYpQDEDC+Ricj8ENQAAAAAAAgP4/eyzxBKnH8j8AAAAAAOASQHVQB3VQBxFABxKtsDmQAEDZiqDhpO4TQJMriMkVxPg/q6qqqqqqH0B5bEXQcFITQLDVs0PgxgJAdvZFVOvs+z9u27Zt27YTQDhSNMQft/4/AAAAAAAAAkC0mM5iOosBQIuv+Iqv+AJAf88tcer3BEAfhetRuB4TQHqe53me5/k/kiRJkiTJAEA+t8Sp33MDQERERERERARAIsO9CmZJ+T+8frZYGb4BQLIENu0nSwBA0V5CewntBUBlnSsPSNb5P7olTv2eWwJAdgu/GhPp+T+2bNmyZcsGQOaeRljuafw/H9+Fg+jx/T8s9zTCck/7Pzv0m61DvwFAFl/xFV/xBUCysbGxsbEBQI1nPOMZzwBA0AIt0AItAEBZGb4RBSb9P0SlI3sGogJAv+eWOPV7/j+BTIoXyKQAQGB7yGXFQAFAK4KGk7ovB0DEhZqTQFz4P4uv+Iqv+AJAOY7jOI7jAUDMYQ5zmMP8Pw3lNZTXUAZA5DiO4ziOEEA3Nzc3NzcHQJIbuZEbuQFAiqIoiqIoAkB+eWxF0HACQPWmN73pTf8/vLu7u7u7AUA5juM4juMAQOzETuzETgRAQ3kN5TWU+z/hehSuR+ECQPcS2ktoLxFAj8L1KFyPAkAAAAAAAMD8PwAAAAAAAABAm2C8lX0OAUC6ubm5ubkBQMdxHMdxHPk/5DiO4ziOA0BF7UrUrkQFQMoVxOQKYgJAlNdQXkN5FUAAAAAAAAAAQGZmZmZmZgpAQUyuICZXAEAUrkfhehT+PwAAAAAAgAdAAAAAAAAABEB7FK5H4Xr8P16J2pWoXQFA5DiO4ziOA0Dpoosuuuj+P8/zPM/zPP8/bEXQcFL39T9w+ZZv+Zb/PxJ3xB1xR/w/oQ7qoA7qAEBVVVVVVVUFQOQ4juM4jv8/TyMs9zTCAkD5rBtMkc/6PwAAAAAAAABAt23btm3bBkAAAAAAAAANQO/u7u7u7v4/ntiJndiJAUAAAAAAAAAAQEmSJEmSJPk/xU7sxE7sAEAhC1nIQhYCQAAAAAAAAAFAzczMzMzMAkDRRRdddNH1PwAAAAAAgAZAFDuxEzux+z8xDMMwDMMAQBiGYRiGYQBAOY7jOI7j+D/hehSuR+H6PzaU11BeQwFAAAAAAACABED2KFyPwvX4P27btm3btv0/AAAAAAAAAEAJyz2NsNzzPy+66KKLLgpAAAAAAAAA/D+amZmZmZkZQEYXXXTRRfc/KK+hvIby+j8AAAAAAAAAQAAAAAAAAP8/5DiO4ziO+z9u27Zt27YBQAAAAAAAAP4/AAAAAAAABEAAAAAAAAAIQKuqqqqqqvo/QxaykIUs9D+9hvIaymv4P1VVVVVVVQNAXXTRRRddBEAAAAAAAAD8P6uqqqqqqgJAWlpaWlpa+j+xEzuxEzsBQGlpaWlpafk/t23btm3b/j/NzMzMzMwEQAAAAAAAABlAT+zETuzE/j+rqqqqqqoAQHTRRRdddAFAVVVVVVVVBUDbtm3btm37PxzHcRzHcfQ/uuiiiy66AEDkOI7jOI4DQAAAAAAAAABAVVVVVVVV/T/NzMzMzMwAQAAAAAAAAPg/VVVVVVVV9T8XXXTRRRf9P7dt27Zt2wZAchzHcRzHAUBmZmZmZmb+P6OLLrroovs/o4suuuii+z8AAAAAAAAAQCVJkiRJkgRAAAAAAAAAAkAAAAAAAAACQKuqqqqqqgZA27Zt27ZtA0CO4ziO4zj+P1VVVVVVVQVAmpmZmZmZ+T9JkiRJkiQBQAAAAAAAABRAAAAAAAAAAEAAAAAAAAD8PwAAAAAAAABAAAAAAAAAAEBVVVVVVVUBQM3MzMzMzARAbtu2bdu2/T8AAAAAAAAAQNu2bdu2bfs/AAAAAAAAAEAzMzMzMzMDQAAAAAAAAABA27Zt27Zt+z9JkiRJkiT5PwAAAAAAAAZAq6qqqqqq+j+rqqqqqqr6PwAAAAAAAABAAAAAAAAAAEAAAAAAAAAAQLdt27Zt2/Y/AAAAAAAAAEAAAAAAAAAUQAAAAAAAAABAzczMzMzM/D/NzMzMzMz8P83MzMzMzPw/AAAAAAAAAkBVVVVVVVUFQAAAAAAAABBAAAAAAAAAAEBVVVVVVVUFQJqZmZmZmfk/AAAAAAAAAECSJEmSJEnyP1VVVVVVVQVAmpmZmZmZ+T+amZmZmZn5PwAAAAAAAPw/AAAAAAAA/D8AAAAAAAD8PwAAAAAAAPw/ZmZmZmZm9j+rqqqqqqoCQKuqqqqqqgJAAAAAAAAA/D8AAAAAAAD8PwAAAAAAAPw/AAAAAAAAAEAAAAAAAAAAQDMzMzMzM/M/AAAAAAAAAEAAAAAAAAD4P6uqqqqqqvo/q6qqqqqq+j+rqqqqqqr6P6uqqqqqqvo/AAAAAAAA9D9VVVVVVVX1PwAAAAAAAABAAAAAAAAAAEAAAAAAAAAAQAAAAAAAAABAAAAAAAAAAEAAAAAAAAD4PwAAAAAAAPg/AAAAAAAA+D8AAAAAAAD4PwAAAAAAAPA/AAAAAAAAAEAAAAAAAAAAQAAAAAAAAPA/AAAAAAAAAEAAAAAAAAAAQAAAAAAAAPA/AAAAAAAAAEAAAAAAAADwPwAAAAAAAPA/AAAAAAAA8D8AAAAAAADwPwAAAAAAAPA/AAAAAAAA8D8AAAAAAADwPwAAAAAAAPA/AAAAAAAA8D8AAAAAAADwPwAAAAAAAPA/AAAAAAAA8D8=",
                    "dtype": "f8"
                  },
                  "xaxis": "x5",
                  "y": {
                    "bdata": "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",
                    "dtype": "f8"
                  },
                  "yaxis": "y5"
                },
                {
                  "customdata": {
                    "bdata": "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",
                    "dtype": "f8"
                  },
                  "hovertemplate": "<b>Unique Trading Pairs</b>: %{x:,.2f}<br>Log(Liquidity): %{y:.2f}<br>Liquidity: $%{customdata:,.0f}<extra></extra>",
                  "marker": {
                    "color": "green",
                    "line": {
                      "width": 0
                    },
                    "opacity": 0.6,
                    "size": 3
                  },
                  "mode": "markers",
                  "name": "Unique Trading Pairs",
                  "showlegend": false,
                  "type": "scatter",
                  "x": {
                    "bdata": "DwDCAAcACwADAAQAAwALADIAAQABACsABwAJAAIABAAEAAEAAwADACsADAADAA0ABAAEAAQAAgAoABgAAgACAAQABgADAAMABAACAAQAAQAFAAEAAQACAAQABAACAAMAAQAOAAMAAwACAAQAAQAIAAIADQAGAAMACQABAAIAAwAKAAEAAgAEAAIACwABAAIAAQABAAYABAAWAB4AAgACAAMAAQAHAAMAAQADAAkAAQABAAEAAQAFAAQACgABAAMAAgAFAAMAAwAEAAYABAACAB8AAQACAAEAAwADAAEABAAEAAIABAAEAAEAAwAEAAIABAANAAcABgACAAEAAgAEAAEAGgACAAIABQAEAAIAAgACAAMAAwACAAMAAgACAAcAAwACAAEAAgAFAAIAFQAFAAEAAQADAAEAAwADAAIAAgABAAIAAwACAAIADQABAAUAAQAUAAEAFgAIAAEAAwADAAYAAwAFAAkAAwACAAEAAQABAAIAAwABAAQAAwABAAEAAwANAAIAAwAEAAIAAwAEAAQAAQABAAEAAwAEAAIAAgADAAEAAgACAAEAAgABAAIAAgABAAUABAAEAAQAAQACAAIAAQAEAAMAAQABAAIAAgAEAAQAAQADAAIAAgACAAYACAAGAAEAAwACAAEAAgABAAMAAQAEAAEAAQADAAEAAQACAAcAAgABAAMAAQABAAMABQADAAEABgAGAAIAAwABAAEAAwABAAUABQAGAAIAAwADAAIAAgADAAEAAQADAAIAAQABAAMAAQABAAEAAQABAAIAAwABAAEAAwAGAAEABAAEAAIAAwABAAIAAwACAAMABgACAAMAAQACAAMAAQACAAcAAgABAAIABgACAAQAAQABAAIAAgACAAoAAQABAAIAAgABAAIABQABAAIAAgACAAQAAQADAAEAAwAEAAIAAgABABIAAgACAAEAAwACAAIABwACAAIAAwACAAMAAgACAAIAAgADAAEAAQABAAEAAQABAAkACQABAAMAIQACAAIAAQACAAMAAgABAAEABQAGAAEAAQABAAIAAQABAAIAAQABAAIAAQACAAIABQADAAIAAgAEAAQAAQADAAIAAQABAAIAEgABAAMABAABAAMAAQABAAEAAQACAAcAAgABAAEAAgAIAAMAAgADAAEAAgACAAgAAQABAAIAAgABAAIAAwADAAEABwABAAEAAgABAAIAAQACAAEAAgABAAIABgAEAAEAAQACAAEAAQAEAAIAAQABAAEAAQADAAEAAwACAAEAAQACAAEABAABAAIAAgABAAEAAgABAAIAAgACAAMAAwABAAIAAgACAAEAAQACAAEAAQACAAMAAQACAAEAAQABAAIAAgABAAEAAgABAAIAEQAOAAQAAQABAA4AAQACAAEAAQABAAEAAQACAAEACwAEAAEAAQABACYAAgADAAMAAgACAAEAAwABAAIAAQAEAAIAAQABAAIAAgAEAAIAAQACAAEAAQABAAMAAQABAAIAAgACAAEAAQAEAAIAAQABAAIAAgACAAEAAwACAAEAAgAiAAIAAQADAAIAAgACAAEAAQABAAMAAQACAAQAAQACAAMAAwACAAEAAwABAAIAAQADAAEAAQABAAIAAQABAAEABAABAAEAAgACAAEAAwABAAIAAQAMAAEAFQABAAMAAgACAAEAAQABAAIAAgABAAEAAQACAAEAAQABAAMAAgABAAEAAQADAAEAAwAEAAEAAgACAAIAAwABAAIAAgADAAEAAgABAAEAAgABAAEAAgABAAIAAQABAAEAAQABAAEAAgACAAEAAQACAAIAAQACAAEAAgAEAAIABQACAAEAAQABAAIAAgACAAEAAQADAAQAAgABAAIAAQADAAIAAgABAAEAAQABAAIAAwABAAIAAgABAAEAAgABAAEAAQACAAEABAABAAIAAQACAAEAAQABAAQAAgABAAEAEAABAAIAAQABAAEAGgAHAAQAAwABAAEAAgABAAIAAQACAAEAAgACAAYAAwABAAEAAQADAAEAAQACAAEAAgABAAIABgACAAIAAQACAAQAAgABAAEAAwADAAQAAgACAAEAAwABAAMAAgABAAEAAgABAAIAAgABAAEAAQACAAEACQAEAAEAAQACAAIAAQABAAEAAQAFAAMAAQADAAIAAQABAAEAAgACAAEAHwABAAMAAQABAAEAAQABAAIAAQACAAIAAQABAAEAAQABAAIAAgABAAoAAgABAAEAAQABAAMAAQABAAEAAQABAAQACgAGAAEAAgABAAMAAQADAAEAAgABAAEAAwADAAIAAgABAA0AAQABAAIAAQACAAEAAQACAAEAAQABAAMAAQABAAEAAQABAAEAAQABAAEAAQACAAMAAQAEAAEAAgACAAEAAgABAAIAAQABAAEAAQACAAEAAQABAAEAAQABAAIAAgABAAIAAQABAAIADwABAAEAAQACAAEAAQABAAEAAQABAAEAAgADAAEAAQADAAEAAgABAAEAAgABAAEAAgABAAEAAQABAAEAAgACAAMAAgABAAMAAQACAAEAAQABAAEAAgABAAMAAQABAAEAAgABAAEAAQADAAEAAQACAAIABQABAAEAAgACAAEAAQABAAEAAQACAAYABwADAAIAAQACAAEAAgABAAEAAQABAAEAAQABAAIABAABAAEAAQACAAEAAgABAAEAAQADAAQAAgACAAEAAQACAAEAAQABAAMAAQABAAEAAwABAAUAAQABAAEAAQACAAEAAQACAAEAAQABAAIAAQABAAEAAQABAAEAAgADAAEAAQABAAEAAQABAAEAAQABAAEACwABAAEAAgABAAEAAQABAAEAAQAGAAMAAQABAAcAAQACAAEAAQACAAEAAQABAAEAAQADAAEAAQABAAIAAgABAAQAAQACAAEAAQABAAIAAQABAAEAAQABAAEAAQABAAEAAQABAAIAAQABAAEAAwABAAEAAQABAAEAAgABAAEAAQACAAEAAQACAA4AAQABAAEAAQABAAEAAgABAAEAAQABAAIAAQABAAEAAQABAAEAAQABAAEAAwABAAEAAQABAAEAAgABAAEABQABAAEAAQAHAA0AAQABAAMAAQADAAEAAQABAAEAAQABAAMAAQABAAEAAQABAB0AAQABAAEAAQADAAEAAwAFAAEAAQACAAMAAgABAAEAAQABAAEAAQACAAIAAgABAAEAAwABAAEAAQABAAEAAgABAAEAAQABAAEAAgABAAEAAQABAAEAAQABAAEAAQADAAEAAQABAAEAAQABAAEAAQABAAEAAQABAAEAAQABAAEAAQABAAEAAQABAAEAAQABAAEABQACAAEAAwABAAIAAQABAAMAAQACAAEAAQABAAEAAQABAAIAAgABAAEAAQABAAIAAQAFAAEAAwACAAEAAQABAAEAAQABAAEAAQACAAEAAgABAAEAAQABAAEAAQABAAIABAABAAEAAQAFAAEAAgABAAIAAQABAAEAAQABAAEABwAFAAIAAQABAAIAAQABAAIABAABAAEAAQATAAEAAQAGAAIAAgABAAEAAwACAAEAAQABAAEAAwABAAEAAQABAAEAAQADAAEAAQABAAkABQABAAEACQABAAEAAgABAAIAAQABAAEAAQACAAEAAQAEAAIAAQABAAEAAQABAAEAAQABAAEAAQABAAEAAQABAAEAAQABAAIAAQAEAAEAAQABAAEAAQABAAEAAQABAAIAAQACAAEAAQABAAEAAQABAAEAAQABAAYAAQABAAIAAQABAAEAAQABAAEAAQABAAEAAQACAAEAAgADAAIAAQABAAUAAQABAAEAAgABAAEAAQABAAEAAQABAAEAAQABAAIAAQABAAEAAQABAAEAAQACAAEAAQABAAEAAgABAAEAAQABAAEAAQABAAEAAQABAAEAAQABAAIAAgADAAEAAQACAAEAAQABAAEAAQADAAEAAQACAAEAAQABAAMAAQABAAEAAQABAAEADQABAAEAAQABAAEAAQABAAEAAQABAAEAAQABAAEAAQACAAEAAQABAAEAAQABAAEAAQABAAEAAQABAAEAAQABAAEAAQACAAEAAQABAAEAAQABAAEAAQACAAEAAQABAAEAGgABAAEAAgABAAEAAQAEAAEAAQABAAEAAgADAAEAAQABAAIAAgABAAEAAQABAAEAAQABAAEAAgACAAEAAQABAAEAAQABAAEAAQABAAEAAgABAAEAAQABAAMAAQABAAEAAQABAAIAAQABAAEAAQABAAEAAQABAAMAAQABAAEAAQABAAEAAQABAAEAAQABAAEAAQABAAEAAQABAAEAAQABAAEAAQABAAEAAQABAAEAAQABAAIAAQABAAEAAQABAAEAAQABAAEAAQABAAEAAQABAAEAAQABAAEAAgABAAEAAQABAAEAAQABAAEAAQABAAEAAQABAAEAAQABAAEAAQABAAEAAQABAAEAAQABAAEAAQABAAEAAQABAAEAAQABAAEAAQABAAEAAQABAAEAAgABAAEAAQABAAEAAQABAAEAAQABAAEAAQABAAEAAQABAAEAAQABAAEAAQABAAcAAQABAAEAAQABAAIAAQABAAEAAQABAAEAAQABAAEAAQABAAEAAQACAAEAAQABAAEABAABAAEAAQACAAEAAQABAAEAAQABAAEAAQABAAEAAQABAAEAAQACAAEAAgABAAEAAQABAAEAAQABAAEAAQABAAEAAQABAAEAAQABAAMAAQABAAEAAQADAAEAAQABAAEAAQABAAEAAQABAAEAAQABAAEAAQABAAEAAQAEAAEAAQABAAEAAQABAAEAAQABAAEAAQABAAEAAQABAAIAAQABAAEAAQABAAEAAQABAAEAAQABAAEAAQACAAEAAQABAAEAAQABAAEAAgABAAEAAQABAAEAAQABAAEAAQABAAEAAQABAAEAAQABAAEACAABAAEAAQABAAEAAQABAAMAAQABAAEAAQABAAEAAQABAAEAAQABAAEAAQABAAEAAQABAAEAAQABAAEAAgABAAEAAQABAAIAAQABAAEAAQABAAMAAQABAAEAAQABAAEAAgABAAEAAQABAAEAAQACAAEAAQABAAEAAQACAAEAAgABAAEAAQABAAEAAQADAAEAAQABAAEAAQABAAUAAQABAAEAAQABAAEAAQABAAEAAwABAAEAAQABAAEAAQABAAIAAQABAAEAAQABAAEAAQABAAEABAABAAEAAQABAAEAAQABAAEAAQABAAEAAQABAAEAAQABAAEAAQABAAEAAQABAAEAAQABAAEAAQABAAEAAQABAAEAAQABAAEAAQABAAEAAQABAAEAAQABAAMAAQABAAEAAgABAAEAAQABAAEAAgABAAEAAQABAAEAAQABAAEAAQABAAEAAQABAAEAAQABAAEAAQABAAEAAQABAAEAAQABAAEAAQABAAEAAQABAAEAAQABAAEAAQABAAEAAQABAAEAAQABAAIAAQABAAEAAQABAAEAAQABAAEAAQABAAEAAQABAAEAAQABAAEAAQABAAEAAQABAAEAAQABAAEAAQABAAEAAQABAAEAAQABAAEAAQABAAEAAQABAAEAAQABAAEAAQABAAEAAQABAAEAAQABAAEAAQABAAEAAQAEAAEAAQABAAEAAQABAAEAAQABAAEAAQABAAEAAQABAAEAAQABAAIAAQABAAEAAQABAAEAAQABAAEAAQABAAIAAQABAAEAAQABAAEAAQABAAEAAQABAAEAAQABAAEAAQABAAEAAQABAAEAAQABAAEAAQABAAEAAgABAAEAAQABAAEAAQABAAEAAQABAAEAAQABAAEAAQABAAEAAQABAAEAAQABAAEAAQABAAIAAQABAAEAAQABAAEAAQABAAEAAQABAAEAAQABAAEAAQABAAEAAQABAAEAAQABAAEAAQABAAEAAgABAAEAAQABAAEAAQABAAEAAQABAAEAAQABAAEAAQABAAEAAQABAAEAAQABAAEAAQABAAEAAQABAAEAAQABAAEAAQABAAEAAQABAAEAAQABAAEAAwABAAEAAQABAAEAAQACAAEAAQACAAEAAQABAAEAAQABAAEAAQABAAEAAQABAAEAAQABAAEAAQABAAEAAQABAAEAAQABAAEAAQABAAEAAQABAAEAAQABAAEAAQABAAEAAQABAAEAAQABAAEAAQABAAIAAQABAAIAAQABAAEAAQABAAEAAQABAAEAAQABAAEAAQA=",
                    "dtype": "i2"
                  },
                  "xaxis": "x6",
                  "y": {
                    "bdata": "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",
                    "dtype": "f8"
                  },
                  "yaxis": "y6"
                },
                {
                  "customdata": {
                    "bdata": "9eqBOQu1DkE5Idh0I3dAQf3nLjWVC+5Au0U+mz2EUUFpywHOBHcSQaLmJdroHR1B3llczMV59ECeCsYoR2vnQMYl0h9XfitBCFFrDkFxHUBIzwmewlICQZ0lWWpOr1FB4tGXlowu20DsRC4g9tn2QIWm2EW4WOxAXVgXGPlr5EAupo4q4voKQcsxr6umbdQ/ZT6vyJBP6UCFS1HNl8jWQMmUL6JlkypB7s2DlGLwDkFAYwd1mVDXQHkFFBgo1g9BG8gzdAdBMEGtZYTNQe3uQHC/Abrz59BAhq90UXOU0kBwv9E+j5VnQeB8JYgckvtAneF6V4bLrkDa5xpJsbLaQIcuD/yuuzNBmZXCrUdTHEEOWKMYOjPKQGbKU3BIdwNBUY1/36pW8kCyRmQjYuzCQHixeN0wpthAMtG+vZLu2kAyiFOtpjLpQKaIgdj9WNxA+nqdflCTxUBlfK5fpl3KQAik7B7aiSBBe7SpYz3X1UAHKSdW+AbIQJOZM9e9P9VA+w+7YDuRu0AYwSpeAgcoQeEfceTEXetA0Yn34Bqr0UC+EWUzKfS+QD1ePfb9EONASOcYdXIPs0BUg21t1fckQdlJ4tOy+dJATU172t1W+0DjWOyQUQ7NQNTomui+1eFATmr8EYTd1kAaA3Z07RfKQN6zMUiIo+BAwVKZqauZ1EA2cRGLja0PQZI3Vaeql9dA57M3Z3TUw0APzbzPk0fVQPkQGT3mJfhA2/1z0bFj1ECTOKHS6CnQQLdIVWoNZc1AYiHgmPc+OEBBRDamFszSQHwSQkUPqtxA6KdIOU4sx0AG6E+cEN0UQbfT4PEiNRVBM/55z1R610B7+TDSLUbUQKYn/02XKdtAjLyDGdpd6kBhM5c4CksLQVM0MUdl4NlAWUjcK5zyLUBvyIFdNkrrQBj2AD+BiBRBDbvANjfUwUD8/Q4ngiYSQbyXKP35Y+9AI9UYZSHw0EBFtwCp187EQP+S8xenR+BAGtlZXT5i0UCOXg/Uji/GQFc3p+86xNdAiL8a+Mp18EAbYjx2wMZMQZ4X4klMxLdAX4akr8XKukBzjFSMrxvWQABYibCmCApB3wtaPub0zUAVeGNvb2rHQIDQbUa9LBRBsRGU8WtpwUBqrPZ2mR7KQHj27rb6+MhA92HW59IQ2kBQX+tKiDDLQJcszWV/1+hAHCGiRXqT0EBrogDtqkniQL0xaEMAMMBAcxg9bwpt4kDRgf+JWxXlQEwEwIKhWRdAIVdyy/SEuECJ24jUednAQMBNnbDbdhdBINFuPISNEkGP1zKisXHuQNM7b0Y1KwJBS3MQRM1g2UDtGHM4RyDCQDTDItTRTjBAmRzl7IkX0EDKPEHf8V8JQfxsDHw7R8RAIKiAQ6cZ5UD2QG48k9vhQFt5CWpSKuRAwXWTen7F0EC2LKx/gOLYQEAcQzMuPMdATfPqpwPQ1UCeEdG4nGfGQFrMFgDgfOpA4F843i1e50C4bduS0xvAQPTlEHiaT+JAalmMh4KT30A+ZA/TxFDKQL8Y05TfCS1BmLO0uc1S0UAPp4zMLc3iQBCvMU3despAnsRL+5Q65kD846P4tJjLQBxJUDcD7cRAuhelBrWlIkHEIfhvS2ELQYsoRs+5W8RA0b4MS9/ZyUDRxotAZHXCQNqvZRMLacVAfP55nztE0kDHCWPbr5XgQFIaHQIpseVAYt/9IEggw0BM0mtD6IbFQOUMq1koq/ZAcFObOTZi3kCegCR/Zy/aQMI27xQPIbpA2wi4KKRdQkGTJfLel5C/QIh1bAGPv/dAazZnALVdx0DgmAPSsbIlQbMkJOGJZdFAvvjUm0biDEEXbpaKYczjQKoGsUDfSsBAtinvvoqt4EDO5G+eUdbZQNHMDejGccpAkwBPTTgENUDgja70oXoWQQiea5R49jZB1xsJHJyFyUARokyqrAq7QFcX7L28L9VA6nYpaIlU4UAMn7URjO++QIa7Gtua3NlAuznvKVHdx0CV406qoAD1P+bNAL0crMtAbzj1F2Odz0DpzoVRSnnQQEvKJvMPA8FAEx7hmHLg0UBLvWP4bYYcQdjBiIvv8P1AiGsYVUKt1UCVOn50hfzZQBMHRS46gilBEoY6NFH2zkDqdeqgfef4QDIODV//A+hAyGPZ4fNuv0DRWYCZ2sa8QH56dYFEzzBANcEzX7FsvkBWvr4zOkXeQOCvJpEph91APZhU45+g2kB9rdgOHocGQcuxWqIKrvBAqQO0WewrxkB5Cs/jckzCQIsENCl3QMxAyMg2XJIU3kC0InQytrjwQNcIQAaslb9Afx9hqjp6x0AP3HofUfu+QEGvDSjrg81AtolK3sdNzkAhl0friN3DQC1XMbu6qfFAS6N2SKX5yUCrkEu8t4EAQdCxaVc02d5At4g92f+e2UD3gJzoFtbJQFdfXJGlTr9AWeftYXuRwUCR7YfwHkHDQGu1cG/UdsRA/tYCsSGswUBTjrogvIPCQCLQWHcbS9FAFN1wQ81w5kAt1aDAMiXSQBvgJJHp7/BAD0HSzrtl9kD37uNbdmLUQBMSiuPMS6xAOPilD/kE00DmQSrk8b3WQJ0OKR/sUABBb6c1hBYoAkFqrHusnUm5QEGcTOEo4ctATo2VsyxizEBJXVL5vB/rQPzMpwbqrMRAgyyTjL3Uu0BXZVV029fUQGlNNpXB1tRAFzD9cx9Mx0B7Sgn0glrYQOhERfcfvdtAHPCRCYanvUC2noD0HurAQIglCrAk4c5Ao5b7tyjFxkB7jR9GOdUEQG28Dl6i1LhAmmJuJOxzyEAzPN6AtlvVQBTMt1ViVM1A9o8FTwnXx0DSMmDk/u0DQYwVhzdWgNJAOcXGB4PC0kAm/7eZIBXgQKr0xVb68BZBAnCult6M0EDoGCaIFTrAQJ4Q5Ab3BPRAT9rw2o646kBdy5wjli/YP/3hzDL0lTpBNyOYVAClfEAomeSECZzjQKbYaxLUOcJAALZDv5eqxkAjn2LrLJPlQO9VC7scgdtAWjsI5hoTt0Afk9xb9sf7QClxPhcwybtAvOTaSb6aw0AvunjJiC7PQA1TWGhpDrxACXPJjKUhvUDIxhzt67O+QPwq3zLbccZAqZghZRBExkD9Br5XHMnjQA9/QB3Ds+tAtVrJjdJpukBWDQCLcbLCQH9N7Boto7xAtFhN6qna2UCK2vDB8Xi2QIUPeYjzL81AkadAF+Hm6EDj7umh7iLRQD0AZ9Ze08NAE9O85eBAx0CRUrij6E4YQRZ42qKnoM9AcQKl+W3CxUDELW5PBLELQTTxLEL4nL9AbPdIBpki2EBR03TlJLzDQJ3kfDGuXOhAPk9IFNiiJEGGjXdnjU7HQEUCLmbGz9FAreYTI6ZevkChisvcSPIWQYQbP+aFRwtBF8/cLQkEwECHIRniVVDQQJ0tANuVUllBb/iiIoXE2kBf6QFwZz2yQLgxcXi2R8VALI9e0yJdy0AU13B/wfe5QAiB8JS8gMlAPRO7Y8hV5UAiNhxYxyHCQFW0Nkk6d+lAyH1pAYwB4kBXvBh4XTgqQa7b5XZLwaRA7l+7Bb3xw0BGcZf6sYu8QP6FrufumuBAllPQlPRnwkCAQ6/85p7oQD1SQmpRDMBAThsZQStG3EC5L0uJ7MTIQAxf6INOtMFAiLq2CfvgykBW2JiR5xPsQEweVVsAIsJAmJsiYahOvEAWwgb7KNHFQKssRwdUN8ZAvdjA3HIewEAPjEvYph/kQEU+LW7qrNpA5SEWSyFgv0B5uKtKFKHGQOQBWzQ52xtBHqtZstF1xUAFs7viJqHmQB0Bf4Ivir1AI+yYqKs4ykBAgh93jVzdQHFwRlttRdRAG9KXGnNk9EAnas2PVvXWQFFpxKYg2dpAeBk630Hdw0BDVpiJBEPWQMaYQqqOCvxAtzdl0Y5MukCDcqXj0VHCQLPEoKIMNMRASPrnYv5vwEARMjZKXrjYQAQ+venp/MlAeNRODspNxkCY0f+xQk23QK/YE0aVo/BANyWQg/ILvECegzwz2kUeQGnS8/zm1w9BybulA9ayRkGY2KmKNwvCQL8D4CHnAbhAR9aY4RjcSEE+ip4aZ9vFQIyJoNLkoeBAMzbjeBXNwEDpwW0lF8bbQDd+ALC3vsxAcgtZmWE4ykDrmiGNVu7wQL3sOgvRttVAQnd7ZG8z80AI4DdzE8sXQQVsZZnL0rNA54hoJBon1kDOZJNlixvTQBn0VjTMYchABWOCGTGzwkBmb+5et+jkQEQVUktYsvRA2bCwAJM7ukAWsVhHn2W7QHhraKKK/N1AjrlwDfHJwUBc8XDMNhy6QFiBgN2QpNNATDD1fTSfukDd1DcEWHi7QIYCWrrepdNAtmZ6Qp0oxkBluKVv6O7OQGviouF408VAoa2m7yDBwUAJ35qL3L/SQFP4TLJt6chA8aQiZ1C+zkCKacrntoS6QE48UraKz8FA+ZA139rWIEF7i1V+IPW0QMEDAZz5t9NAno11Ypk8tUCh0iz65arFQHfjNPRhF+JAoWOwfXUZu0CwveP70yjWQAq24bZaNsBAWhs3i+q7uEAebWp1tk3BQAUGMtZvJD5BNah/4XiKxUBeQpQhBsq7QOR14nlhoAtBfjvZrLV14UCp2//3Zt31QCO6jX75Q+9AyHmF+jY2QUE67TPw9x7wQHTjZkjlP71AfXk7EBIP/EAGlwoUFHHlQJfKqlaVNC9B+y3i//FkzUCkp01VufzhQJHnwcPc7eNAp+i8t3uX8UD5QEqfu5POQOCOH3ZWs79AM3bI/vlV+EBPRXjsKAXKQFwsIGOeFcZAFMIiVl7P4EDhvzMREebsQBY8TUqiQ9NAoYC7LZqGBkHtuUaLM6jAQK/VfEzBY8FAi3jxrQ3nwEC8vn4RXwK7QOYbT5CRcuFAkTv51IQqukAonkxHFOnIQPeM35/LysRAlYg51arMykC96jN4PZQiQaa2qvmxu79AZZqya5EtyUClY/+egNvlQFpqQRWtncZAhq49/gbawECG+maATOz2QLAkv2o+hsRAnljfXDBJu0DQGgHozgDOQIFWtsQYy9BAg9PVmLKb2kBzXUitpBy4QM69YOYQTM1AqDjnRCoQ20Cy9l5MwCwaQY38rTXx0dlA29u9qtq4tUA6MnDnYyPNQPRrozUWoLlANul15gsxEEHGLboI4z7iQFdCCbYKzsJAT8R3qRwfykBTmuoaZLmzQCwK8BnO3bRAGZ+ba+Q9xkBknuKGraDgQEyDOibPFQZBAFFtgTbAwkBF2sFVgPDrQEQQr32gg9lA5Zk/+FxX5kAyqxg1ctToQP4nSzRuD/JAWDJ+iDnVyEAKavSjUsjAQKLSi9fsGNZAZZtUNhbQxUAd/K3LUDXHQLAiWASNOtVABI2T94oFzEDq5QFnrla9QMIyoK429MNAJpSuNEFbxkDlSqztmmwAQYmvVpqSzuFAjFUTYld0CkGcrAZ8i4LFQHJAzWjC+7ZAph/o3AI5zECs7fG3FRvXQJlhnt+qJdNA/MMbfCVQukCLoyHoEh7DQHRdvZQEgN9AKFFuFD6NH0GRX17t/s/WQI+eOnASnwFBeK5cWF32uUDuZUBzvQbBQIDcjnhYU0ZBegV934fGskBaJUFUw+LKQJQlzoR9xhNBCtEGDjaMIUGoUkhzhNu2QJcSV6knhN5ArGhq+nzWt0A0tTn/a/jLQA3j8BTJVh1B6cpI2MLRwEBWqGHgNSK8QPcpLcGn52Q/5JKk2Kelv0BpkmUkGCXHQGC4iUhw4wRBqtiuXRFMxkA5NBYk0cYEQSKTEQ1BzMlABk6W8Jse70DJ8qtCCVHAQHKwWfZTMrtAN1BnDA1S10ABet5g2m64QE8RXeHqrcNALRQ3Cme+wUDbIWyq3ZcZQaY2kbRQeMpA7qyFaUpLwEAeiKd/A83JQIsPzw2cA7VA7dKqDFwnukCgBamZSkzKQFxCkLV6WtJAZTDzSRK4AEHW4ixry3PFQHFiJl5t1udA2qqeTOIO70DDbilovIbGQC6uSK+QYcVAY63XOzXKwUC8gY0lFl3CQA2oJ/UqaLE/gyfEILfguUCjtSugcui9QERcWwO/NMNAljgQ4jZxukAbP/wNWOEGQQTLnT18ocVAzckKGBgJwUB41bO5DHf9QAZPOf6pYsJAtjBcbZF3CEESWurg63i4QPLJr46lV+tAXRNY5TTAyUDU2hMySifjQH81HhsutQtB5b5B7LVh4kBpmqlGK7rKQMhPGwKoRg1BhRm7fM/9ykA+zUxtj2fxQLuSN4HySdFAAbJe7joP0EDnuepgNMK/QNcRjp+/EMNAkPth++Cmv0DohzjuK4IXQYoyscLL9sJAnBBI5j/QwkDAWXTKoCq8QGSpM+yhKB9BD4KdhXVZtkCE1X9WvksCQblUDsJ16uVAlIFsq8Z530AWa8ZhOs29QCxylWZXk8ZA86LoiLg+zUAGxX1YkFPSQNRCvD3fpL5AK9hOdXjwxkCk9phFGZfwQJMd4uAQTvlAkCrZVTNewkBBw+eOgMK6QK8WoYhgu9FAaYDu5ysvuUCnpf9AKLm+QKg42UL+G9pAQ6arEeURtkB8hmLSlqzDQHYvm72BpdZA0Wa/FUXTwUB5antj7J/AQMHOjBLztbdA4tYYu5oZwkC960Sion3LQAnME8ZNxSFBVEA46+5Fx0DY0EYji0K2QJFwNFX87w1Bp8foNc7OLkEery4AtRS9QJToU2y8QTRB5ytc5BI6uUDgJJJbL3D2QHkP7iWTH34/0JntV2LjyEBfjaxExpLJQEk1PYnq5bxApiku55Mzq0CvmdfsI6XRQL6VQyC8j9NAuQBMQDcYOUCg08BVVQLZQBM4K+SU1MNAz+XWlI1K0ED7AgtUjfDDQOS1KaCCE8VAjDfJ/Isju0BskGXR9PAGQbTXIeIwm8BAjAy2MpmCxkBPk9jEV5X2QEBALYp88fBAjbhB0/UaaUCNOm1uSTHkQPPWqxGSLcpA9qMWfKmTzUBvFZAg1GDqQA20kwmFycFA+KXus2HIwEDy/3F7e7MBQSRNup2vcx5BOgS9zYilvkDUodybDNjtQBSYqGAAWvNA252lADx6zkAMpl5ndei/QJmu0Y1KlspAKY2q+BrjzUCRFXt3gNIWQc6yT3h6PNtA6YAWmXhv7kCGntkfokXUQDWRa/rKAsZALi4HTd8VwkAcUKey+mHCQI7eE8fpQLxAyJqWn1Pm0j+SJOHO7dMUQKM8mPqNmMtASnonFscF2EAYquuQ0kzrQFa5+3AZxslA1X5hO4nQzEA9EUMGeo8QQZrjMAsrlh9BJ7h5zkCZ10CN8bd8v9LdQEEezjAM5cdAaar0OwVU3EB3GTxXsK3KQBqSgyCrBvJA4Tv+TgPNGUHOUz9bahLhQJ/0RqVPn7VA5+TYLCTF7UBCtW3GNzi+QHbDw8ERSMJA4sFA+2iOzUA75HBlTzPPQFif/ISG0cZAYOyEO5h+vEAer1ztDmzEQLaw0qcVkihBX9tEluuMCUFYTBOVV4+9QKtAqMh9LTJBu7RaUXxt00BuUTMa7E3OQBoBQu1M1s9ALAHohxRjzkBMd7jkFC2xQN0pl2kL5LVAChO1PtjawEBIE5xwO2LWQNMtoG6RWblAHrNmDb9r3kDPgmNV6ZnFQBvpK+bzQq5AQ7sSKRe5xUAcjcvEBTPHQEcmW1Phjr9A5F3Qg1vzvUBCSWcPQZHAQI/cJnowCvBAcHG/i+5PzkBPBy85UHHAQMltHcYq+uJAprhl+YP1w0ADzYLRiOi0QLmtqSAwF8lAdGyLsMOlwkArbSAAxTW+QOKscQMUE89A1JfyoHst2EAoc02SBojlQEcTRt+gLeBAW3I07bWhxUBr3fFCPSbFQE5NP19hmepABGnJhEGYt0AJ+kSFQzvmQFQTx5EtlgxBTchUgLvOsUC2eOhPSWC4QDp2rbbUpbdAS63YQHQin0CXp9roOc8vQSDLFzSD9P1A0l24quM4qEDSfzgL13/jQAy5rdW+hw9BKjyz/u0PuUD/gz1QrOjGQOfVyE34WAtBGUyxKQ5+2UCY8dw5+LTpQAskf8ilrblA51eZXVG+u0BU0XQMmbTiQEzh6DqVezZBtuMr+OQL2ECJV8IYv6jTQH/k2+REhelAw22P99SuxkARNZNOGtzgQIBrZabOxNNAbKLAihu52UDhNw/BHrjrQFFxoeIGq75Al+uC+3X7DUHUbGOplLbnQLVY3syMcMFA2jZX+mh7+T9T+LuVBAHDQIOWZXXkJMFAB2ZR7oSG0EBT0LOtWJrgQMoiwxaMhPZA/OfWiyiqykB2E6n0PE3QQMHJ4wAmysRAocbZY+JsGkHyc+99U7zjQOOBg1sNYM5Akn13rBa390AHDLFogNjSQG++MqZnP8RAvs6H2uQdbkEuvL1g0fP9QCjlOJn1t/JAJGMoJ3SUJEEJCKkfMifQQJS3dGTOJcRA9Hdbg4zK0UBp0WwMpYvBQKDfTvZBkrxAi8QiJwhy9UBrm0eQbsfCQOFfNiaVMsdA1kvuEGz3IkGicrygswLFQDBn9xzpyLZAwHP7J1ZHz0DP/GmprFYnQW42RIOaNsBA/7mgFVdAz0BEZlMKRi/SQBhwXeopGBhBNbc9+OmMyEDUCnMfTny3QKuOUAhFceZAHJhPAQb+t0AOTWvnxBEFQeJAGyg9NCpBuHd2nEnS8EBmjSn9aR/EQJ8hQenr/DpB8BSF+GpwzkAMpNpkZnY0QUhfLTh5DsxAIZZYeFguoEBQDnGnAOHzQDBZ5klWr9pAbzwbneJPNEFvxRD2Jm3nQKtFanOy7PRAkdQLE7u05UCO9vusOIABQTPFgrHnqrtAb/jLeoGJyUAi7pov0RzKQCLkUk4J7sxAdapXF/3R70C35TjQ+N3QQDpxVnYelgRBezJuLOLHqUCejG2iLoXlQBTIajHwILFAXexlsxVT2EAcx8253a0wQWed3EWA5dRAGnU7nwU0vkD9ZFe5htC1QFjpbXwZyRFBQzkX1ySPy0DPPj38FMj/QOOsV4+cvtJA2F2mLSD8y0AyAl/IL07CQIR94sSvwwhBH78MT+Z2uECniseRLzrNQPIDT20no+BAZ4GwehXctUCQB3F8bbElQftS7KWL8MlAQwBO82ihR0G8+B8HTxbSQONnymc4CdhA86u9r2bUxEAoAqUIuboKQWHWP4CPW81A3FMiAFTXuEAAci7AcZHhQM+0hbAlE+BAhaRyo68IrUC4hSVasRMvQFvMTHuo/uxAKy17L8WAv0DijtWliRLeQPD8mL3MBtNA5tRZfLuN1kBGIvTmONzSQJvkhiqDpu1AYkCa89qLvUBHxyo4D9PXQGBBo/IoyQpBBdwUAYRBxEAGYpHcXP/yQJD1+di6xr5AeyK37vO+wkBvbF9gTDvkQFv9Ax9DB7NAdI6Pq7RUwEACa5XdbyXEQC/X6m4x2u1ABqUnTXDv1UA4KVUbJrHIQOpCHJGJytlArLqm3E2JtUDkNX3WAJ8UQdglm5jvtOtAl9tDyPIV8UDXA4PavLTbQJ8cIEVVA8FAUHoKYTwP/UAvCyBtYY7bQO0eI+UipgVBNDzmdsH8zUA+XePyYVvzQGHpsEV2w7lAFUNw1pnWFEGTQkvsxO3aQDHVmCESwddATi1vEMRUykAFtaz09BHxQG5ccMyD9sVAFng0aopi6EBMABJdLQm1QJ2D8S1TgsVA7Io+LPluxUDIxByxMx3nQFyiEpN5WM9ARM/Dzr+C1ED924M4KCq9QGp+89OyhLlATOXo3ejWGEFWxR6vXi+6QONk7HB6GMJARRMMRR1J0UBQkjFPyorQQO7CNKhiaM1A6YD2o7nvtEC5dZjhz2XGQHQi8P407sFA0BoKjTF4xkDB91jgxkDdQIp0AlXk8kdBdX8ar/RwA0Gg6xodz/0NQfAEwO9DiwRBBDIQQa9kwUCElgIgG871QMC/Q2VDhcJAbc+qCF+mvECOjsLuug/XQC/VxoUQN+VAgcbM0vhR6EBqcNzdeaXuQMZrvf0ouhJB0zkfvTWr1kAGDMjxribPQBR1Djnrh8FAyXUMWfBnlEC46i3zF+i+QPNniAlUUcRAqPJ3Z+Tp8kBs+EM2wKYEQZ7AAeWKj8tA5qXP+R9bzUCM80xBp1bJQI2FL5wRk/hAxSQw5HgXqkB+/6FkdIs/QWiJ/3/nVLRArMOKbz1MqUDCBTl35cD1QL0XXw31Fs9ANRlK83nWE0EGBuo1HGz4QCIDumiHbL9A/BZWpSD+CkGJauegHVTRQFlv5FI3SOFA4rda46cpKEG+JrSDyvfBQPUaM99IzdRAAKWpRtDKTEEC8B9GX3nhQFjjAzBUZ8FAzfLerYYsskBs9hEqhhHDQAkk6FoSZOZAGBbuRszSwECuCPT6AJvVQKvD5YHj1shANqQHB7A/J0AuThbaPkrqQGzUmtytFLNAGiRQXabLw0CKX7SU0Df8QPR6b/IkzvlAIxC+gyS6w0Bp5yb5mjKPP2s2QSkauOlAVc4HjhdD6UDi1uJOZ1fGQJDizK7wxMNAedoS3cVj20CTuxocwdi9QMtny8hwr95AUgFOS1tH10BXKkZ1aYK8QOG2l3F6wCNBlQ+nPPH3o0DVTJVW3y7QQMuMmqX0wLtAOn1ep5xJzUAtw1U87k/TQLrvgHDr+tlA5h2JxWeQ3kDuTzQDlEPgQEssZJdalMRA4XCpTo4Qu0DQg60yhxLMQMXPmcDMy/BADTxqI6PE1UDDv/9hTmZKQX+jwrK8ZOtAw6jnm/C92UBcb/tDkYLCQM6Kja/dFOVAnBfW2YMvx0ACjfQ9Ra7YQOnbCcNuxf9AlIH+qyR6ukDzTXYWjT7FQNMogLzNGb5Aupz5NYSEzECiv9sHOeABQYpldbtfi/VAen51XHtJwUA10ztXtqqbQHnSSr1w+MJAbtdDMZSdvkCVU8rPGFXgQEOBZmgcX7tAkQHDUyX0wUABiP+4LWvVQKnOq3DGJtBACYnxdhwgy0AniayFskvJQMyg5J0BmPFAqyUbpdXEw0DFTBMJijjRQFq5DIhISSFBzYnjgq3kwEAZdopPXDLOQIMBjYzMxdVAIa9AnMzwu0CRtR79/VO2QNOlz4E3ssJAv+mnilG+7EB8hv1ac6zsQFTI7S+/m2dAlweR2jmWAUHritDbvQDvQOP+//BtIwJB9oCm3pzE00CRG/jQbPPVQBdlrrRifcFAL/4gj7z4EkFfoIjowPACQYO2hoNW8clAT8nGM35DJUEhdLGGxLzEQB2YeKRMYcBAxZxTWDyp1UAX57NoDEXyQNKo3PQp2uJAQer06TQmtUAskK4U5oPAQP1E5EYog8ZArE0+aVSDwUCGdKGHEnvzQBVTEjuz4eZAzEHLjCfhuUAKOI0vhVQZP6do8rczU8NAkclfpPRR0EAJMz52MF++QJejs0geZOlAtqlV6gQAzUDwm1CfNABUQI7GVQWBMNZAfrQPsR+z20BjGmD3uHeQQCow8ZefcQpBgCzxjCys/ECNTMhuNNT7QNjIknS1meRAxeF46jog1UBhTM/mAgXvQExds9bqBctAcrKTYe9ZDEFOkcSXA60KQXp/CxX51/VAzw8tdSjZwUBVlOlU6ZPIQITpDNITnchA7GT+WRijuUDzb3xpTab9QHBzUGe/2tNAuHTNtQ5S5kAou3/bbhnQQPHXKCRJyt5A7AL/zn9iykCVqq7tRfLRQE8py539McdAJX782/v9+UApzxvL3/ATQbU/fvEX5eNAqqMnnV7a20AfDDv8pkXXQCnUZeT+KhtBHt7uklZv8UD5CH8GYMW4QOY9LFrJhdtAadmO50AqyEDDrHmD//TwQPY7DkNk88dAiiD62kubwUBXlv5PyjoGQTOMK8Mp2wRBdoSfYe5Z4UDj72kvR1XQQKp2V1A/ELZA7OjXLxZItkAOxGfuZUHeQHYcQj1m6BFBHty9XiDo10ClzktLJDYsQW8Oj0CQDwdB+UNj1a7qskCnCqtSxFXBQM8w+MHSw8VAg74l6yYrA0Fxv14Kdt3AQLLrHJcDT8BAOHljqfd7zkDNBRUPanXqQGPlsq9XwsJAUiM+MRKHxkCcIs6fBCP0QJef2bFMUNlACWrKCcTOrECUTs/tPPq7QN5XaQg5v2U/PWK61r3q/EAvftZFX8zGQBbc/IKq4OxAYrhi1jmsykCJNlxhMQe8QP96TJG5H+xAgCti2tJY+0Ci4gLZrN7nQBbHiWYoi9NArJZ0z0FExUCj2GCKyeTzQIa/zaQc6tZAGk+6q9zp0UDmHMHBu5LKQAaz3peQU7xAZE11A1kovUCnXhUMugjvQEL3Ghln/7ZAtD5djpbwsEDG4t29QI/3QHEMCV9tPLdAxiZW96kf50CvtZWNQ4PRQCj9cNSKT9hAAMFBZKva2kCWocq5Z9sJQaUhJVh7nclAbbB7Oug6NEE8YQTsnzbOQLyTM6YntL5Af9xSxxqk30AxCfWblrevQE+Dm0w5I0ZBc7NsPPCswEDgYKe0VALSQNKCHGPIFeNAf/rwq3b610B3nbxRXm8VQUEIL4M3qOpADRJaq5mg8ECrIuBUpj3kQKTS+ye6lhBB8WAknH0xIkHGFQLVHmfkQBcjno4j6udA60Q/5zeb10BGNuaJvN/ZQPhdvZU8Jr1A0+cwjtrytUBwdmH8Y7fEQMQXVteGxJtAH1kp/8Qjz0BSjMEH/SHBQG1gycWQTtBARv0xLv808UBajW+oHQ/UQKo+QwTIYOVAO7POCPXZyUAOL4zMLGbuQFoTVcfPZb9AazlikVDZx0Dg6VJiOuj3QNE+wTx707pAMdo/DUEgzUBO4KBPF8vDQJepSQwPgM9Aswq+Pyk330D4WgaGrQAxQQu9Q27fVMhA6sByPNKC7EA954nYAOX9QJ4wLQQ19QpBfwFehX3KxUBlyOEhVUESQV9IXZXnHf5Ad1hZA2Upw0DHNrhbeGHNQN/QyJDtwVU/+iZzQiXrw0BO7sJxgXzXQPQMGRd2w9NAcaHD2J/wxkC3f99lVOfcQKMMVcygluxAGRxxS9BewEA+9fsIk3QYQUYO2po93bhARJSCTk8u4ECZDzS4gkPzQMstNhPoAfRAsmKT3tyBy0BNVs+IZWfGQNivyAsJE1c/qI9iqowH60Dk/canoLLsQIOzYov7ic5A4imXrOBKwECeqcRakFesQHzRR4sIQ+BA5c/Q+Jrvy0CvCM+AVdq5QC38970SjMhA9OHmkHj92EAZaufjsT3yQF71XOqv9s5AcyMJ2An3tkAaAb0sFOrlQP/XdY8gTNJALvp4uaRj6ECa951BrdvQQMcg650f0OhAh59nrkx87UAsicYdZT/FQCqu/vhdtdBALwois0Fv2ECVAQsjDtXQQFhtma19ktVADjVvfJxR80B4xyBw4QnoQDfLLI5BARhBt4svjpLb0kDYbBgg0mjHQNm49iEbmuRAKixCKuD83kCswa4AZcq8QBCyWNrQpMVAQk8qmIkNFUFQkV82TWcMQQ9f2OYexRBBC509N7/HzEA+L8OJhqTHQMV8z/P1kOxADn2VWDdcy0BZd8uFdhPbQHYb7Yhl9idB40mFi2JUvUBpVEjfMtKwPwYJNpBjabdAbkB5DXQB8kCPDtEYlyzLQGwoLPiRT81AFSjZMS3KFEFwMOOsJBzQQMwUOiE/X8VAzjW8ffDT5UDuRHUehD4DQYkfR3lQq/dAbQDIscPa60CeDEThuaAHQdnaYJK8XtxAys6eihTonUCrlUX4YLVCQV/pXMSgggpB8El8tk9byUAQXE6C4uQAQdK6BI2wjPtAm+9aY+0l3ECXjEYgeRfwQJXF606EzdJAKzt+GMPhy0D4GU/LURIKQbwLaNkzvbRAUhT0Gcfj7kDDuQ1FjIPQQIDSOW3cCfBAGy+T8KyOwkCpzM4gZsXhQCJAwCiq1vpAri/6wSGjBkEKBqT4Y/S8QL0AU6dwoONAxfomJhPz6EAT661zT7vVQArnZUoU8b1AazHaMk3iy0AfOpG/Vr/cQHHf/Ao0LwFB2c4G+HLew0Dp4BR3XkTIQHM/A4Z0PwlBvhTfPHEY0EBhkaaF903LQBLYiov1ydBApEBEg2Fx0EAZFg9akQbSQEkX3BORFeJAXiAa0mhcGEGVwqX7HG71QGXGvZpj38ZAY6VXNAsNvUAenV8M7H3kQJHIZySZccRAHDy8DufaxkAJUWrNDy//QAJAmrbGf99A9ilWIKMUwkC3aXL9bBXFQD4xak6gXcFAEfY16Kes5ECDev2JaGUcQRd0syvGuA5B/H0pjw+WxkAqQABeRm/xQCm/mK7+NxNBpm4hpWLRykBaUX6hj8/YQFg3SDGUZLhAzbDhyUz00EBve3Ib7mYAQQz1Pt6yPk5B6bsuRkn9y0A15XVkKvW/QP7zXFZdH9NAmooIkiwSzUC3UQYvMLfUPzShXDLKRtlAVfjWZBhwJUFwfP/3bXAeQfle4+K2ptVAQEt40Je5ykCKioIyk+fJQDN7owV/Xe1AJAGcbBTm+kBcSEYl/JL3QDvbYfKHWqtAugilh3C47UDOuNido1LlQC9t7Y/OXbtAPTWl+TTFx0CYuP/7Q9jhQEI257iw/NdA/QEeMKmkDkEQDrcZSgbAQHeacL6HH81A6yuz3wIFDEHG0onyyAj6QK2kQirjOO5AT0LRigciw0B5yUgJdq/DQJvKeRKywc1AWccgcIVz0UBV7fZIJBnzQL6q58ssnc9AwUmW/wIg3kAgzT7BDNf7QFJOtu2JkcBAV5rgGSI2tEBHGPf+gMrqQNrkyTzcqs1AqsK7uRjQ7UBecoSeq7HHQBMa223pHNNAXDT0MEMx+UDAYJdUVXbqQF8Zo4gNd95ATi3FGCjAwEDpJbJ1CFzuQLYhW1S/7uZAjRW9HD7hzUABWrVdg6vNQFAUdyYljOxAszqiT7+k1kCSidiIyZUBQcmT/FBJSMZA4a9Kjihv4UChRxs3GlDjQOlIfjAmzdBAZWIth2tc8EBv+gGYSRHOQD5kpjpUb8tA+lPJ64q5A0Gv9XXNF9q+QDmazyIFB91AAZSipHdoAkHXUCMxbPzkQAd8TypAUCZB+JdpmTew/0BLt9Zj0Q72QJoPfuUSZ8dA1NK9TWGmw0AK0yf+b1HpQOj6EjAoMAJB9tCLgh4ZwUDDoHFlZNbYQIQvjxi32dVAk8R5tS5s5kBn3V6mTMv2QFDi4VSzpPZAmlf7lmE870Cgl+zRcx/MQIS9eZntsb5AmKMJ23kzwUAthJTODyywQJQ0VOwkVd1AQijgibPJ4EB0ayk4KQ/RQIQ5RPdeubJAszv+9U5D4EA/Cbxq8xi6QGCFxHv8V+dA/glz10CpIkCiW8geoNQPQVym0RTsHPdA/lzaVstZ+0D0zcjGFP69QKignNInA/JAzOsxJnrZ4UBuEyYjNPX6QFahkQ9B/sxA9vkvb7Pe/ECHbpjHP8XxQMuMUOMnEs5AELaAk2sUw0DT3Jne0unPQArtik/IFNpAxuPPBHrKy0AsoNo6KtkWQVDMJdLhDgxBh09EqMt/vkAN17Ul+1/MQE5FwdGe78lAH5lzuUNjFEHqMEN4DqnbQMgbBWjCYPFAOtk9T5hHC0FtfjzWqv3GQNm1d1ej8SBB2Qa/h8/WDUEnjZQOwkHkQPk9tl0td81AufWjCgNhpEAUGCYBjffRQEL4hSuOtOZAmWjPvpCby0AkCNTb2yHpQKQjGht2GgFBAd64R+JpzED0vdQzlMvaQNzwvUDX9/FApWSYMuDw7kCizUklkeXDQMiRZhnaHvdAXBlEasAi1kDTleBH9VPcQAk3yyav09JAq6TArnAs1UDkgBAnzGPwQOTqH9kpUstAc+1LoR2G6UA5TRmKuiTcQGr/w21zUbxAled2nWus7EDkF4h3lXwPQdowikisoL5AFL1ehaMGy0Ax5hFps4DDQMx86KIRgdJAh1QWsqT0x0C2wmdBNm/aQKNnKaQoaNRAZ0710uEpwEAoEqBSb93jQJQsLX88cwZBIZi9UV0890D0EwCUvHvQQHRg2A8c5vNA3O4j9Xn41kA/LKIckaLmQB1EEFK90PNAw1WazpqkpkB/nEhlzv0CQSNlfWCvXuRAjh3UxmB/5UBo87uBiezAQPNhlEZQFeBAhAFjevtjFEEzxMZm72vFQDQY6jE9m9BA1bPWishXuED0XLmgviHYQN5vSIraATFBGBuwbttd1ECGUbbK8rPMQOoMAXHpAdNAERJflKeEFUH9I+V+5uHcQGZ+nOoeM9lAOHTNJEgl3UBW0veotnbGQPwL2WJuBtNABLinuVgouECch302Pz6wQM8bUOxCa/FAm8kKbIzA1UC3Qrd/70IVQZXYQa9+AoVAfhzmqpcyyECi2sdTjwkPQWMyfiJZQOtAguG6a7b47kB5q8kcqafbQM2RwyWm7/RAAsHAlkg+7kDo/zmJ4GvhQLeb5LBBTshACavZBVH52kBwzlsMXUPfQI8EwHrvyPFA2joZ3PGx5UCEp2bTgorUQFWkpjAlxsVArSgl/dYJ4UAEMkI17mfkQGtHK9lywNxABrMkkcm28UDgVxOaSiTLQFOo/53Kv9JAPTYwQ/pr5UByLhYWL/3GQGHYWfCy/c9APMzjeFImDkEyPZ4OoUfDQKzWkvT0BNlALGz5twFYLUGUgUTnrz/xQE2FDh39T+lAvd/wRxNu60DPo3aDaiFFQV78RlL8BNNAYXS8kJgq20AYbU8NfZr3QPHX9N+8KdlAtBNvF/z8QUGIS6q8lr9QQc+itSFAVMpAXKZNKyRR80DLdNXQFOHoQJM5cLvOLTFBckGQYJTE/0B/cJLBU/rxQFTRrgGsrslAqqCf9KfC00DlBE+FvmHLQD6uF4J1ZehAEO+WmpUE0kAMmMAv8QDDQAHAVndiR8hAomeGCDF47EAAg5WiTauyQFmQEEOR+uhAedxkvm+c0ECqzycbHYPeQHcMUab7cftAPADGG7UFzUDpJPQNPEn1QOUInnVHO9NAXNH5ydBZ8kCsFpFqHwXJQKwEHHb8KcVA3D4swxT0zUCV/PKSoWnLQEWq32m5DMRAo7sLBaygx0DS84fyH28pQQ4GUH3EoNRAIGZyT92s6EC4UlF1uavkQONus+AWDRZB6if7KSeevkAjFZ5JUILdQOHPySBOEfFALxdNWhLN00AdoRp04tUTQZUKW0t90yxBcr8JR15G20D6Y6fh5dHhQDyqXLpwKdpAy+Pc66IV8kB386eXq5jkQPLUUcbNJ89Ac31kA8B88UA539YEQc7fQLMlAHgP8hdBqcftZcTQ0UCJCAwG9lLZQHwFQ5i3zMNA8H8AgTGQ70BxdsnJ38bUQMR7lKob3ulALsh6L7fT5kDXpmeASkzLQMqwHer+s+xAEuOChuQV3kC4pjEsqjcHQcpWQxiSVvpAYtYBmXTbwEBQ3G2lLg0AQS7jdhYcRsJArnywbgCi0kD4S9KrNl3WQJYdV/4gP8RALUMR8Gyu2EDg8zcJAqrjQPVohUtxj9dAWbqf5UnF3UAf+kTBSGfQQAmXWBcrhNBAFzM+Hq775UAafNb/H27GQFRfb12ABM1AeBh0rTgwyECPmxspxmnDQOvf9Fi1K8ZAVrzINPwK0kA4cnxcMDjRQK383/A7iflA/qkXhZgcBEGg8icdZT/hQJK+qEFjz+lASjFqepZa1UDt7UJXEM3wQMb4Zd5y6d1A0xddHrqU0kDJgPFjIg4FQS66vKv51dFARCWqeOxmu0ABwKHrCkO9QBKSBGmSLkxBNN70FetCAUFv51fMrmTPQLckm4mBo9ZAi/ow1ELTxEDphpTwYlURQVuKZO25+/pAKl3kR6bL+0Dy8dMl+B71QLOX3aS9L/hAtucipIIP+kCembtKv78GQaPqNOL7prJAqeGElgd410BdfMIyxej9QLy9vo/HE9ZAwywmrShm20CKyc7WP84iQYe+9HYMTchA+RESJqDoCkH7GLrL6VrCQEsv9fTwVwhBAlJfsTQ48EAh8xxu5krLQCYKkGAfq9RAdSyqxSIS+kB8cY56apfqQD09Q3Wiu9NAA/FznAWpBUGqAxDhm7P9QHQnmZyjY+JAfbxpKE/850A0lL1ui/cNQaKQSKo1eNFAgsN3ZKsWxEBw7iLUAWE2QYX3ivbXxPJAc4O6WvmvC0FXZA5BMm68QFDSPyODMcZABSyoMKf40UBm9hQQqY7jQEKg0hLqguJAOT6JgqDY80A9xumWRxfkQLrFiRLcG8lApVAdJz9Q0UDBZCyNpBXRQLOaK5S7oudA24Cd6jbH0ECjz9LKrTNCQc0v2aUmR85AzECrGh4sx0AcjLjiepjsQFxctaLuysVAzXjgC46S40DL8xAsYoX1QPreAPO7ldFAUoyvfbYW+EBQPWE+6YLyQJvwIundR9dAMpqdq+JOIkFSZ3DZuMLmQJIsJFYUtNhAEWj87io1/UCbVSLI6t/BQMerMczJ23VBHLoRCcEtxEAPSoYsdlfjQIQko7AwMx9B7C3o3vv7FkExuv9cM7fMQMACj0nGKARBgWMug3qxzEDeG0/XZEHWQFNbGa0m//RAhHMa7sNGxUDO2W0FI8TkQBh219NAYsVAHyp5A6Sx8EBWQzb8U8kHQYbFkaFKSL1A9lBGJHYd30D9vUnd1tTfQEmrsLj3sS5BN38PWoHM3kAW4RO5vdUAQRg1orqHSgxBtmoO3YP9v0DZsBR+KK/HQMtG4xZkedZAQKuwgrI8tkB1OdeNzaDzQLO9FYnCtRBBEcluIZUqNkGvu3clzBf6QFLdeNo6jdxABbIjXdjrAEH3bwaWbKLyQB6S7OkkEeJAkRNUihWPDkE7gXzMVBsVQVwCxk/UDPVAHU1iNw+e7EASoycXkUzLQEBJKlsrEzNBCh2lQZABA0E8Zank9tLlQBkVHN5bD8pAY6h8JVji0EBOvICSxPvlQBjI8qbf5hlBuHfuOag0wEBJ8DLaXtb2QOhb39ADodRAW3hANMpa00Aq/E2BoEvpQNqQOZq4oApB8VJa4tDr1UC8Ja7WnETBQJ+AoL1MvARB9Bs4V4e+4UByrFOuemTJQN+mIhCY28pAAgXXkA4OxkAnseDE3nfhQM5qr/wKA05AB0RkskfCxEByaeC88n7DQI/9pGT09qJAU7gr8YVh2EBlMjdWF6XHQH92D0JczyFBK72ltX9L0EBqdejQ7E3AQPYQiizsKspAbCxEkNVX7EDLQU2BqhPoQAdc8p1I+QlBVA9sAX+Uw0CjILTO1L3lQG4xKQ6YSRpBo1utVZNzBUFj0RKRx8C7QB9cy9dQFu9A56y4hNr40EBqEOGg6LzNQEC6cqxExbdANJChIaJPu0A1akW6lCbRQBP6UjGIi/5AIAISDInw9kCA3ElkDjJJQbMirz0y6QlB82zlUB3nGkG0Y6Iy6IfRQAMWZ4lKLPBA9i8DSjyV9EBmgR3awLXSQEopV8r2NcdAehGfnbRcAUFUxubRe6rLQFmvHYBkj/JAtZIa1Ce5zEDp0VutvCK6QOIhkgvBwdxAIXBPRPGw/kBR2rfHfBoQQfMEtifacfNA/jvnNEIp8kA97KOJ+aKvQHaxPToIiMpAYA9Cp/V7wkD+uZUQmCvHQK+RmmAur9JAexHDoXjN6EAt8lxe9ofBQCJ6sbfVjf9AOmZfIHzU1EB33RvDmiT/QG2nyUO2D8VAr/TL5xDhEUGUTwWZl7kAQU+5mQ6hHvxApaCCe64dykBli5/nDl3CQP2HKi9zRb9AZdh5iC818EBx3El4fVytQIWazHPngCBBmqe4EZAA80CAOhHPuo7VQHg2P9WXt9NAuKd28h63yUAbJBUQfknSQEMfhXBOl+1A8dwXWtPGuUDyRfRvk5jRQL4m/Z1gDOBAcFjbTaUQyEDnsxle0OPjQNGmE4ohZ9tAiTw2W7O5EUFOywvWo8kVQXzSqfg5o/9AvxZClACL3kDj/Ya/6CD0QPaJNwqTO8FAGu172+RhSUH9ceHw08LkQNw5PUcbONNArmloloA15kApraqFH+HDQJC7vY3sZeRAkyi3ifqFvECQN/wpIM/uQNkvPPHLuVNBJ+OfmCrXz0Bked+s8DrqQEDJv2TUEfRAAntC+c411UDp9R4tvZUqQW/dyd7VLsRAirpjGj9PIkGX0ZlqJ3XGQNDvAQ3GuAJBlP/mpQMpBEGX93GnYS74QB8llIBYCtJArLhXT7iL0ECRg/2uF+bKQE5UKzxjxNJA7YbI1k+15kBcyheQBAz3QOG8pWozgtNAGdZdmI5vwEAZ4ad8MOYWQaY0szaI+ORANK+Pq7d9IEGx4cDlnhTPQOMGa2l1TOBAJHe8/TpF1EBpoGLe2ZbiQIxaga3d8AtByPsnqLiL1EA1xnR9eZsIQYXur2Dr6sBAJ7LPkOUH00Adg/3MtZr7QM8rlfYtFONAy2hUvozAEUHfkIz7Tj8OQRt3uyiAA9BAOLMUIOplJkGIbdJYcwLhQHPqOtR0G/dAD6OxG7XRAEFtBGIbk5TTQECx59DzOPJAVGMPFabQ8UC9PcApwbnwQOltOAFmPfpA0VNbBnyZwEAFZwFjjuUsQfoDDXEmhtRAuzsecF0AzkDtbFk4jDKwQDhZ3dei39dA0aXLU/RRxkAvjUa7K2MCQWc+bUCd98xAFn0RdldjuEAMpg5xCKLyQJwetav7cexAh82Y1m+NwEAoHK2JtRgJQeLpDJllhfpAbzvV+Aboy0CgA2a8ML/sQG5Kz6mRzARBR/tLohg0IUGqnB5iR9q8QFzgM/kpsflApijQStHoIkFC017aSjfYQG9HFCmVL9tA1KGb+fg1tkB6nhabIkDnQNOJAVG3qrVAqGfPqM700UBFWtXel+3QQH605/fexslA/wigvKsS0EAUrZJgE8fhQMlz13dgOfhA/RGKG9PeHkEwRpzTaChgQQ1MXtSDpeZAqIYY1FP9w0Dj5hMpbtTDQIPqvgzgBc5AQnShaHRUD0GGORpo20jLQEjdJ+MR7cVAJ87gpBYRAUEfbItvgxXNQO15fSJ+ptNANBQzkiUG7kAmLrKo9QHNQInARDp/f8JAhfXHLHUEwUD0AC7PZeQpQTPgDfV/58VAzN7wde0PEEGs/hS49l/VQPNqAINvjshAqQvP5u6m4kAkmt+864jJQG2JAkTh4dFArglt6zUh1kDU11LVr8XDQGNFk5vZA79Aqvb3xYsUykA3/THOskPIQECIBkORkSRBQeCHkARgC0HX4cXxOsvkQIuJz16+985ADC3LuIkJHkFsracaknzoQPMBQC7inuZA+6PMV8WE4EBZXMXd/+/mQDxDsXLhK/RAmyVt0fv30kBFztQ1/Q/zQNhKPvFjF9VAA4VfX6gI+EA8q+N6RE7xQOTGpNFUmtRALGszjXZizUAqv5+B1FbaQO7tNYrY1FNBW1WJb38h8kDxmJISYnEBQey2GdmLOfJAg2eaBSdy+UDXekmGBwrSQBarnplIgBFBoz21lATjBUFmun7DbhPIQGLHEWMmC9BAzUXCOo8Iu0Bhw2yj9HgGQRUJlANzXkNADB1jeKaEukCPwk8WJzPHP5NePGRlgyFBcScysq0FNkEk+ha8+EEHQWbk+xlmTudAeWu4EeHlM0FjOC0TZCcSQVjX3a6uQr5Ac+dbtU4XDUFuG+GzD1zcQAMHoeWAyNFAyHX1oGg9KkERhTwKFuTkQGBrag5kU9NAjzOgAo0BK0F4bacCcxzrQITy18qI28tAER2MItTHHEEXZef6GprPQOLhwM3G6vdAXoPQxNUb40AOHLr+FrzVQI8BNAdKZstARX1ZRU9UyECFap/z77PmQA3ICn8psCFBaIc53eZ6zUBerOlIe6MSQSOETGKh5cxAU8Snh/nXA0Eu09RIjTvwQIBG8tgcidJA+lj/QIVb10Cudg0vfmj/QDuu6umVZdlAKwCkNLYZxUDAHn/GS6LyQLRzaPgHhOZAW3ZVIeTL4UCxg1XZM+3pQPNKjB1VIApBlRXoF0XOEkFTyH07D2TiQENppreq9dFAoCC7hWI+v0A6Vbqad8XmQG1s/s6uUd1AP75sUua86EAZoGUzQD7EQLJOkS3Xj8tAp8dMiFU26EBJWBWlgV/oQIn+MWXbhctA647Xsm8gC0FI6HdaMSfaQLa+cAkQwxhB6GZKGi2k9EDE/VzoFtnTQAqhvT1/0tBAwLKjPron5kB1hxGgUUvJQOgJZ5Crw/pAXroSaKAy6UCFcsN2l5bBQDwmmRV9+MVA4rgYV0lL1UAwp3tSkBzXQA139Ulw0OVABY9sajYwxEDSya2tC4QBQaVKYLhY0PtAJeWAdopI/0BGg5zMcxfRQCEhT7WZB/FAC81YdOT51kCci0Tzo8P9QPPwp+3WEyFBGt4eYKzH0ECeT9T2OtO3QKF6U5KHa/9A+1YkFKj6xEAImoDNLbnYQAxf/hImSB5BTHGjlnYzukBGCPhH0ALuQAVuGobuGOFAb9hhWrRe8UAQO28/L4kNQUXFK3lU+DtBHVgxvE6FDkEXgyzI5ec1QR5JCYRKWfdAJ3qDh/D59ECVU9oFaKjIQEM3CFAlMSJBx//Xv3RsCEH2EIiatGMdQbDlqnFy9uNARWufJwrrAkGU2E8S2Cy+QCcaOuREV9VAkqnnBUyFFkG+FXtZQtH/QDGwjnn/L8hAA2wT1s3/6UAik5KfBWAcQQGGPvnT5d5A7ZIwhH/A2EC3Yt8zYYXAQCdyNbq2LthA+oOafJkW0UBemMEmKEjHQJIrG3kWdMFAMuN30yKSHkEKN/+ar00WQbSvekwXDApBPIwnzwuw7EC7qPyaCZz9QAjUISuyPMpALIsAwVIe6kBHnL6LZAvkQC6pJUsT87hAYPWSj+jf8EBxMZqekTTCQO7BOhVd7vxACGyBbSB9ykB7vC4fqcL7QHumMMFV5NpALToAH4bH1EBWc480hAK5QJ7/bWslMblAB9xz1edZ4EByaKdxbG67QNMEPj/q2rlAhv5LVmyUDEFONpcV8k++QCfP17BQ6d1AbFgNNLzi0UBdk4GzonQhQS0zZt50deBAFYZtnkT12UDKEjnf0k/eQLOYOD1I9ApBzFEgF+HHwECM6rICFx7YQBksGbG4nCBBNKVZWSh/5EAgjhHVvMPoQNxIq+66cPRAiHLM92A24EANHdf2r067QMVoTyf5yd9AbNQ/b2Owx0DcFodRmSDCQPxD43//0fdAAyUwTZih2ECeTnu8jlnMQPaf9Pvn+tRAMG+dKYnrxEBqy0pYa5/nQETSEFFm8cpApsg+wr0CGUG/Ozcevqa5QOhZomO3dO5AeeLv8oj5A0Egqyv//nfRQFR2lyuabDRBjIB3Acov0kDjhmA9x/HyQE56OXGQcDNBpHjrZdhy80Bd3wCwIqjeQADVjzq1usVApGq1rvQyCkFIm6rmh43nQEmuDjA6Yt5ACV9BCSwG2ECVaQQkunYEQdOTY/WQt9tAq61A1Jn44UCDfiR5vZrBQByIfCKXW8RADgpMbqcIyUAcu825eHhdQSGmLy/29MRAtHCahlqux0B3vUfg6/nvQJR2Q21gqgRB3tjdd2x1CkHmF1F3jaDhQHeOl0GyeN9AcRPRwJnAO0FRHk7AjCXXQA/UZrVq5tBAxFWjzFy5+kAWAOZpWgfGQB/Cu0QPGLpAAq+0yDJ91UAyR9qaIHXwQEMIQsQGxz5BmYPspLfeA0ESpUOdjNoUQZX/44vhwO5AT71b8kYp90AB5xWuR4CwQDIgOCKhbcFAWrCwvYBBiEBeeGO4y/v5QEcSk4K26/RAVUHaDsjWvkALTBJ0dNfOQOmwPDd8dsdAKH7o6TjNxEDImx662r3CQFIpliEc2MFAE2O26l4L0kDxlNZpQ4DOQLiRjrIyH8NA2/rNOPHk+EAcf5PjLvPCQEKZWrm78MBAfV+EH7nb4kC4n4nJ5a7nQJe4eVkg+fpAVh2Smid7wkDqWm8Ra6zYQNdaZx8BcsRAjQuL0b3wMEHGOvzopwXzQNvDKzCoM/9AD31m8Szfu0BnxcifnQfyQPEp37gEQQZBuUn1BLC9vkA0rcwe5nH3QNnUSHI5eQRBl4ZuFLIMNkEHQldrcCDTQNrw4MZGfcxA1yO4t9VVvEC4AsOVhy/PQAklY0+SHMhA1Tlari0Vw0CIb8R8g+H3QDFQgXZhpsRAQN8gxdpepUCGpqgT5PzFQCX74oISFMlA7JbroI6lzkD4MzmfVrHbQDFQsud+JMRA6tcD6dYbxkCuz2pTw8ICQTHogjjLuhJBBM2znuP360A2CHcg+km9QDIDbLzMqKtAoGL+6lhG0kDUP7LAA63BQNfSryFWuChBT5ebHtoLE0FeB8Ccl1kEQWrMhz9QVAVBaCDvdCWipkBnlhcDWNjCQM5+oBAI09hAqXqbnGfk7kCp33G3hk/OQPeuz1kbdeNAeuMbbbYa7UBipAAcuq/jQK+TERlYkN5At1Rv1ZZ90UDCVxhDCCTOQCM6mURatsNAM5IfJYV9tkBDZnlo3a8IQaLanVlRNt5AsvMrbaMj1kBHPfUNE5wZQfilyumBn8pAwXMgDYLi6UAMfhIg/o7CQBnDBi0i4yFBLQKIxu84zUC5RAy5j7XMQDN8REFe179AoeiG5zfi5UAZQcHypkY5QRtVYtKm3fpAd2aMVRN+10Cpy44cQtDRQFnkw+HDd85AuLRY6Z9WHkFx3hHRvAq6QC0UhAvuQadAEI/mHr/Dz0AN55IkLYPBQHlpp7wLQctAAlEOA5UivkDYjSNfPRXIQL5o3eF0W8RAzeYUYocyEkF81Z9kQbq8QFeDydFNUQRB478JIeHW+EBUhNBLUKzOQIl566w0scZAxNFqRTF/NEFnCeF0nz3BQFrSX2fjx8ZAWLHETTb7+UB74IOvPIDAQJafCq/ussJA4SoIvRS2ukAdewv2KTrBQLbbFU3iHuVAZKWsmkyJxECiSQm8KQw/QWo98gZJ/SpBh31YJLrHyECnLIAHP7oGQb8+PddBRd5Ah3TPNLQzakGcYxDtqdrLQAvdlQuclCFBG/M3CqPT0ECChFaMGB7bQOwp0an7TBVBS6UDvOfA0kAXe9+OfugHQeF2Ar1iSkZBoAu3Dek2I0GWk7QJ4NM4QZ1doLSbFHJBqsKkehgVGEFCa7fUVB/OQOu2U9j0VCBBz3q7DYszFkEMg/Cyn3soQYkmkuHSOGVBuiAKPKKhz0A=",
                    "dtype": "f8"
                  },
                  "hovertemplate": "<b>Log(Total Trades)</b>: %{x:,.2f}<br>Log(Liquidity): %{y:.2f}<br>Liquidity: $%{customdata:,.0f}<extra></extra>",
                  "marker": {
                    "color": "green",
                    "line": {
                      "width": 0
                    },
                    "opacity": 0.6,
                    "size": 3
                  },
                  "mode": "markers",
                  "name": "Log(Total Trades)",
                  "showlegend": false,
                  "type": "scatter",
                  "x": {
                    "bdata": "4WHlJhIvGEDEv+aSgeEXQF+pMnmfQhdAUaciWH8oF0BAc69YowUXQMJK+xPV8xZAr3J3DGPuFkAgZ6G1UOkWQOq2PSLW5xZAovw/RKDcFkC0vBuZRNwWQCLcjvpL1RZAgHiPKJvIFkBF5JVKqMcWQNOLZnkiuxZAfAn8/3GyFkAPqHhssKYWQGkf9tpopBZABrOBsJ6hFkAt9tLUOZkWQD8mliUkmRZAf1SbhhyXFkBjSJjoGY4WQCB8ay+2dxZA3OPrnHB1FkAay9qBSnMWQAZqA+blchZAzoGl/m9PFkDUTHdxYk8WQMshd4FoThZAfKa+QqxMFkCz42tRdUgWQLpwvD47RhZAYyfPMENFFkAA+LBlTTsWQGqEG5JxNBZALGG+cPszFkA6WxG0TS0WQOlFoywXGxZAi06y/kEYFkDLNNvrrBcWQJbpE4CLFRZAlKdetnYUFkD4ftSM8BEWQMpkZh6RDxZAwsZn3YIPFkA+WEvVFwsWQGwkVzliAxZAqmmhpGYAFkDsINahfvwVQDvLdw+Q+hVAgcuTc+L5FUB/5QJ0YfgVQFAh1TDj9hVABkjkLgDxFUCwtPUGJ+gVQFD4lmw05xVApQRhgInaFUBWHNY3ftgVQN63CId20RVA5ecD2pLQFUC2+0sc7c4VQNHa2hjEzhVAacw08yfOFUDpzonjT80VQG6AhH6JyRVA8/CtOefHFUDB0SMlv8YVQH7Q2qc0xhVAFgFIjdfFFUAf9qaWU8MVQDTimaavwhVAg9eSGW3CFUDrmKyNE8AVQMT1mFrUvxVAM2dsEuG8FUCSoTzch7wVQK1qSSOcuBVApYYp/Na3FUBFl5Wvt7UVQJpEQURUshVA20McgeevFUATGEYDDKsVQJLDp9LGpxVAszv+kQinFUAo/scFSKUVQCj+xwVIpRVAuhB8OqyhFUD24n+vr54VQIwNU42ZmhVAQyfGj0GWFUCTveI3RpMVQO8s9iuikRVA6w0S8W6RFUCB+U4WVZEVQHYHkmkIkRVASffxBAGRFUDyoK3jrJAVQLcQGnSajBVATK40T2uMFUCTOvFi+YkVQFzNCyT/hxVAYwne6t+EFUAcDJyBCoQVQEaQDD5SgxVAwJubrgGDFUDkTFok2YIVQA9svh/PghVAl8E7COeBFUA+fPL6boEVQMt7g9tSfxVAj2PVx498FUD/OxszdHwVQJppNM9CeRVAb28k7Yl4FUD15Uizc3UVQNhMudkZcxVAUJXJ8aVwFUCr1IJZYHAVQBYC9wVAcBVAMUAtLiFwFUCBJPht7G8VQCKcXRY7bxVA+KwBwIpoFUDxJvDOF2gVQOYB7/KyZxVAGipQWwJnFUDOF//T6WQVQKIF4GYQYhVAfcQmPptbFUAi5kAcvloVQG8niORoWBVAKUwVTUdYFUAxUyYxdFYVQOrirZQRVhVA7O1INnxTFUBmhUce1U8VQL552gXUThVAoRSvIwNLFUBlAkAe4EgVQA7ryR1LSBVAQgTmbQ1HFUAOU7p5ykUVQGzbORFVQxVAknT/cuVBFUDS/7sQfUEVQNfwkllGQRVAVy/5pgVBFUA+8fn9sEAVQOSrj+mCPxVAjGwGYG4/FUAr1hfaMT8VQCRm1miCPBVAxfrdeR47FUDEx0zz2DoVQMeNpKrNORVAnRJATuE4FUDMzLsF8C4VQJA4lzdiLhVAmHxZLk8uFUCbOF2uRy4VQN9OuFWoLRVALFTzIj8tFUDFmUFepiwVQIsTvoI9LBVA2pqMFcEpFUATEazePSkVQF6VnFDPJhVA5LMtAUMmFUD0jnBYoSUVQETUcWBYJRVAl8dQT68kFUDmXiLVICIVQD8CYKijIRVAK0lgYF8hFUBS+CptmSAVQMvHMYJ3IBVAtdslypweFUDEjOggHBwVQFz29Q0mGxVARZZntGAXFUA5K02CyhQVQB6ivHSmFBVA3Xg2fkYTFUDlJsQ53hIVQC+2y9DLEhVAKsjFBEkSFUCWiZ9u+BAVQJ4ja1ebEBVAAJN++G0PFUCP1WL0Sw8VQNIm8xPNDhVAFZnRLLkNFUBLAYv2ZQ0VQDNjln2hDBVAjx/zphULFUBN3FytcAoVQFHin9BnCBVAHMRpWkgHFUDuELPL7AUVQBMATdTBBRVAEcxbmXYFFUD7/Hcm9gQVQMIGf33DBBVAcRzqouMCFUDS1l7YgwAVQOynngA5ABVA23h+ODD+FEAHnqreD/0UQFF6kFuS+xRAc7mBMx/7FECX4xuUZvoUQHgCEoCz+RRAfNCjsXn5FEAvzfNBAPgUQIrwyb/b9xRA3FMEy9n3FEBrkGJb5PYUQKkwUH7q8xRAPGDzQnDyFEDcG3+/PvIUQNAXfBT48BRAnMN3mKDtFED+dwPxkOsUQNteYLbN6hRA3jDLhyfoFED/6Mw8EegUQHr0U0Lh5xRAoeB3UtfmFEDMi5WTMuYUQCWayrHR4RRA5S3CNKfhFEC1F0B4IeEUQPF+j5uD3xRAS1aprNjeFECwYy2mnN4UQHkG0uZf3hRA5VmS9AHeFEACLDMuj90UQEgmLc6c3BRA1CNpYjPcFEBCitMM49oUQFdBhXvd2hRAKD1xyVDZFEAa3pjcLdkUQJFAQG+42BRAKIr5daLXFEBJoppsI9UUQMY8dxD90xRATtXTX9/TFEBYepWd4tEUQA904C4l0BRAyqu5qH/PFEBRC1wYaM8UQHXv5vEfzxRAjyymFZPOFECSC8lN+80UQEArnsvYyxRA9bmmXhzJFECC8C32EsgUQIfBwQo2xxRAFGbnXDvFFEC54dejEcMUQIoOWSDvwhRAOQpUWXfCFEAFYPMiQ8IUQDtl5yHAwRRA7FWlhqPAFEBrf60knMAUQCNmII1RwBRANI/KNIa/FEBi+ESUB78UQMvKJdnQvBRA/eilhJS8FEAXiEZ/8LsUQNPLVylTuhRAvuLgfhO6FEAVxDcNebkUQKAHUyzuuBRAQSLl49m4FECGFSj8jbgUQPBGNcD4tRRA7iS6tfqzFEAm8Zp66LMUQBl3OCnjsxRAHMdRBP+yFED7XkndabAUQLAjzzcjrxRAgt29JZiuFEBG8wLtmq0UQHlauBKXrRRAMYjQyXmtFEDtOg9OTK0UQCh8Cr1ArRRAzdTYoRitFECpgKn6Y6wUQDtWHzzeqxRAz6mj9CyrFEBPCngFjqoUQOgL+DxgqhRAZpVWU9+pFEBEssULbakUQA4QNsZ3qBRAN8fxcsCnFEDe/UxAyqYUQJCzCvUophRAN5C55+elFECH2ESFQKMUQJYWQnejohRAdh4tOBWiFEDtuxORCKIUQCOLNvX3oRRAvEcCPPqfFEA5L33rnJwUQEQf7I57mxRAJs7ARSubFED0ETlbj5oUQBRmxlWLmhRAPYyBr3CZFEBnaeqjZpcUQKp7hqXqlhRAzURrbYaUFEDk4CASG5MUQJZxtSv7khRAuz9KoOKSFEBsCZ/MvZIUQBvNd6+VkhRAAFZ96ieRFEDQeb8qz5AUQHY9tHYBkBRArTASPqCPFEC4IywpiY8UQFVZlDp8jBRAJ5iXFBaMFEBYwn7RW4sUQNvrxxALixRAp9ZxnnqJFEBl/sBpOYkUQPAeldAdiRRA8p4AEd+IFECvPxDRy4gUQJZQ1xTnhxRAW1xRIzWHFECJ0E5UNoYUQExjBIr6hRRAmQ2YX6CFFECU40wG+4QUQD47EG2PgxRAauaMepOAFEC32Ru53X8UQP3pbkm3fxRAPD3J0ZZ/FEBVz2wM+30UQJ2Fvdm5fRRAHiklUPR8FEBYSVABv3wUQGdAo+2BfBRA5rvpyAB8FEBOsE6oP3sUQK+ne5MzexRA1C8DSAl7FECNEsbr/noUQD1ufHRpehRAapKc/nd5FEC7GRkLk3gUQGmQyIR/dxRAhmk4j3B2FECSeoJbA3UUQC8Z1qgtcRRAqjzVasFvFEAkWXQfKG8UQMZc/7adbhRA619WSLVsFECekuoFpWsUQPv52Pw/axRAsonUJEZqFEDNnc0dn2gUQJ93erNIaBRAmZXEjoVmFECBsTrfEGYUQISMeWS/ZRRAAaAzQZplFECT4GBCYGUUQMWH3oBKZRRAY1rqpaliFECeJJwEXWIUQIFxNRL+YRRAIGV37aphFECGRTC69mAUQNCuUyWbYBRADq6WkJZgFECgEtG7lV8UQG3J2AIRXBRA4WpaYsJaFECFPnVbTVoUQCe0l+AfWRRAKxekwxNZFEBW9ol8qVgUQIx97/yyVxRAotDs7ERWFEA14q61C1YUQMTMw2vGUxRAevYTpJFSFEAj3QvCbFIUQGlWio0tURRAtB5EbR1RFEBXvNDdgk8UQEcOHNcKTxRA8KlDrRROFEDDwulmbU0UQOHZrL5PTRRAuepXqVdMFECfQ5Vnn0sUQEl+K09YSxRAxF3sTdtKFEDgHtGqy0kUQAVpzduPSRRAWok1WNlIFEAdwy5PoEgUQF/ANlApSBRAGo1aBtZGFEDvJGaOO0YUQCEBWcczRhRALf8S6QtGFECMPWebuUEUQOzgtZ0NQRRA01Deqs1AFEDhS+jZgkAUQNc4tRRYPxRAASoLe+Y+FEAgdUkZsT4UQBfacE+ePhRATBrS3PU7FEBOw5chvzsUQH1P40CkOxRANrIbVlk5FEAv/FU28TgUQHYqufN0NxRAPalOvUs3FECNLt4i1jUUQDJNWNuONBRA7Gj6N1g0FEBbh+A8CDQUQPOglaABMxRAqMp/4pwwFEBzULH9cDAUQC0iMOhsMBRAKS5mjnkuFECbpwDxYC4UQKZ56SrOLRRAVUYak5csFEBO7H8YhywUQFCsittcLBRAyXrxVkssFEA+Z3uV7ysUQDnR2jnDKxRAVoTuU2YrFEDJHnpYwykUQEQrxNE4KBRAYmPEUfgnFEDZAg/p9CYUQO/gfZNdJhRAF+ZlcVomFED1TfmL2yQUQElm7OV6IxRAZpqHSG4jFEA4n43UmyIUQEmGeAxlIhRAM7+7b90gFEAsMogV2h8UQOlPJ5PdHhRAsx2UdKgeFEBAA3XjxR0UQB8x83+/HRRAZ0uOzeEcFEDJYl42zhsUQCt1wr8uGxRAsT0TdcEaFEAPPXm6yxgUQJcArs5ZFxRALiun8SUXFEBPHl/W4RYUQDTDsUUIFhRAnpQFeGMVFEAA6WL1XBUUQIideQgFFRRA76hJ4RUUFED/HN4DVBMUQAXFxPLWERRAyh/juFQRFEAqTNwqjBAUQAm3yQpHEBRAEZciP8YOFEA0JPeecw4UQIpP/IA8DhRA6mmEnVMNFEDr0Rv7MQoUQJL2AICGCRRA99lyOlMJFEDySm/+rAgUQOZc3QDJBxRAQIYMLMEHFEBuUVBteAcUQB5yQKNLBxRAPGIR6+cGFEBrzieMmgYUQBuT+OMdBBRALPtv584DFEC9NddCpgMUQKCOIJ57ARRAHgeNjAUBFEDxVsIGfAAUQAOStbir/xNAQHPiO6T+E0BxNFJpVf4TQNDd00RE/hNA05UZ+BH+E0AOr+DRif0TQGS8tep//BNAH4extjD8E0CTe1CV+fsTQInPKMXM+xNAT3ZszUj6E0A8d+9E1PkTQEb5BJKY9xNAwFF4AYb3E0DVPkCZdPcTQMoHxeA89xNAs7UspyX3E0ArpKbrpvUTQBesxZKM9BNAOQFFTkz0E0BXcz9XDvQTQD5UWTV28xNAwBvnYCXzE0DZHw5vCfITQJLGFyn68RNAl0lGT4nxE0Dst8prM/ETQLST4U6a8BNAmTUo8xrwE0CsBgJOpO4TQDYv73dr7hNAXyAfYiTuE0AaN05i4OwTQNm4NivF6xNANdGYLeDqE0AeCzL+iOoTQECAHrAG6hNAs2LFJ/HpE0Axt1RGx+kTQC+qbik76RNA6S2/E4boE0ADHF+ZTecTQGHpJuNd5RNA+cgTqivkE0AsGApHleMTQDbYbgJK4xNAIQrcJkXjE0AV4DfUyuETQNPIEqxa4RNANczbswfhE0AvqGmRNeATQFXy/wEt4BNAI8ODqyXgE0AFFAzJF94TQJD5v9O83RNA6wvO3SzdE0BaEAhK79wTQPF1XJc33BNAHsOTdxbZE0CV/vlPBtkTQAbttLnp2BNAnpkH+InYE0AnvU/ERtgTQDcRemAr2BNA8qatOkLWE0AcHl7yDtYTQPaBQ6Za1RNARwUnmfLUE0DZtgfjxtITQCOXHGuP0hNAh6nylzTSE0CWyQVuqNETQEd3S0cv0BNA8j1pm+7PE0CBgfMTa84TQPCdwO20zRNACHn0RXrNE0D0lx8aNM0TQMsKO+DVyxNAl8OdR0HLE0D6o5Ujz8oTQEroI7nIyhNAdUIel8PKE0Cdyoc4osoTQLi/QGKVyhNAB8tzt3LKE0BbTzLdbsoTQG/xO1TYyBNANmGDNY/HE0Duuiw3wMYTQNJfmlCmxhNAnh6tD+nFE0BWZSbK2sUTQHJMbyLCxRNASd5xs/zEE0AkAr8HKcMTQDyX4hv2whNAgeNZCpjCE0C7YLPKCsITQNFRlUXlwBNAsYbi+h7AE0DfYIDHFcATQPUBAMfOvxNABI1EDjq/E0DlqDDLJ74TQAFFI0NCvBNAL3eC6Qe8E0BZPpFHAbwTQETSF1NfuxNAxwasfLa6E0AtxBPkk7oTQNhiblhFuhNArIylSsC3E0Cakn+fO7cTQDPVrhgatxNAnuqo8pu2E0CeIb/6RbYTQA5ca6AZthNAuWBbNxC2E0D8q3S5R7UTQK/qJPM8tRNAAtL3psyzE0CekeDXeLMTQEOqsn13sxNAi4wbRCKzE0ALJ+o5X7ITQFmwRsFCshNAmSXSAbexE0DWGE8TcrATQFwAcFtdrxNAwrI2J0avE0C3sWZUvK0TQL3EH5RKrRNAJ/KbRrKsE0A+UA9gy6sTQF/MSVGJqxNA0HSMBiKrE0BZ2WpdsqoTQNt1Pis2qhNAjkoL2CWpE0CdinZhv6gTQMBsDb0iqBNAHmpHxAmoE0AAl/y1s6cTQIMoG7WWphNAuzX1kuilE0CQkJPphaQTQJ0cZ49MpBNAR8q2Sn2jE0BVBaLcZqMTQBmzpz5xohNAMthKMC+iE0BHl4K48qETQHFMHChjoRNAnOBFDdmgE0DVEoWRdp8TQLoMiAaUnhNALApJTUqeE0CLQxDdN54TQKrvyXlhnRNAN1dSGTudE0AESs0ywpwTQDHd2jmTnBNAVXawsiKcE0AKL5YSqJsTQPDokShOmxNAbR69ALuaE0Bu7G+jcJoTQHognFvkmRNANFEpdoOYE0DAgu7w15YTQFgoeOmvlRNApnHjrvaUE0BZS/j04JQTQKSe5vxekxNABEhWfBeSE0CF/+TSC5ITQClxU7oAkBNA6wZT54+PE0CHFFi3Vo8TQITOy8xrjhNAogxmKVqOE0Anqcf6e40TQGx8tQtdjRNACgoSJ1eNE0BZnHskA40TQE6015qOjBNA3QiYE8qKE0D+Kntjm4kTQJ/mnPcTiBNA1UguCgiIE0DX2y0Vp4cTQM3OCh2hhxNAATF7/fmFE0BpVeoSqYUTQFS6RBWahRNAPbe2F4WFE0DUX6AWKIUTQBwGSJUdhRNAHbjBD/6EE0DtItdJUYQTQHesJSYbhBNAORHPalSDE0BG9RLUi4ITQHPSIZhnghNArOj8K26BE0A6uUsD8oATQGEceIq8fxNAU/6Q7X99E0AnKDHCIn0TQGaLRHoTfRNAQ3PcTgp9E0BViC/a8XwTQNnhcjXqfBNATzVQFDF8E0CDvIaJ/nsTQJJtCuXfexNAeuKWO9h7E0CCdnE+wXsTQBaOx/TUehNAg4sudEZ5E0BHkQRfQ3kTQAqW8I3GdhNAVaKxWsB2E0C10oOauHYTQOJn+/c6dhNAdcLImHJ1E0B7u01D63QTQHcFLrtScxNAqAK4Kx9zE0Dibq6cZnITQFsFA+g9chNAbZpYHohxE0CFT7WRwm4TQHVHeOw9bhNAur7EeiFuE0CEDCZL62wTQJdyOvWjbBNAaeL5IzBsE0AyHKqtHmwTQGqv/kQuahNAkkACvaNoE0CWquNdVWUTQHFN2IdQZRNAjDlEHzVlE0CwYOybJmUTQEcmMXOdZBNAG/ntJT5kE0Db4/67TmMTQKx9+nA2YxNAS4ihN9ViE0CvmivswmETQAUhtSBeYRNAKgTBlu9fE0BfAqgjpl8TQAG5YqAvXhNA0vgtnpBdE0CrRC6XtFwTQPeeUV+sXBNAHgipvGBcE0CpOVR8nlsTQHpPvNARWRNAOTtWZaRYE0DsDhYUoVgTQAS7JUN5WBNAx0HsogZXE0DNlBEMb1YTQJswxQMpVhNAinOXRkRVE0DMvz3CrVQTQEGoygyQURNAJ2eSMLdPE0De1WtHPU8TQNs8pfIoTxNAsBW9cQpPE0Ay0TcwrU4TQKrbaUPGTRNAD7OkQ6RNE0CW4RcnfU0TQGIDE2EmTRNA5bKGsLdME0Drp+O25EkTQLBXFf7KSRNAO7eHnANIE0B9cZQAg0UTQBttDfRvRRNAzeTywWpFE0AgDACmREUTQA1g2UmxRBNAWJknw3lEE0Abur4oKEQTQC3HMq+6QxNAkzI4TKlDE0AxQ5J0DEITQJUoCGTBQRNAaneatpxBE0A6098ltEATQKfqYF1zQBNAMIhbPwg/E0CRsZYWID4TQJOpCt/8PRNAX+hYkZg8E0DW3+8CejsTQFTkHYs8OhNAq/Etyxo6E0A3Ha4I+TkTQCw5yT0eORNAoKSxg084E0BfdJ7L6TcTQMRgSABJNxNAjmnHQUc2E0DB+HzAMTYTQF90FyGSNRNA1Dww84o1E0D+z/YEGDUTQF3Kruq4MhNAJ4Im9N8xE0AI8MOFNzETQDdfeEmUMBNA6y1roAYwE0CLF2qO2C4TQE1aMtONLhNAVX5w8XcuE0BjQBcfDi4TQKv8FEy4LRNAF0F7lZUtE0D54lhgbS0TQJWT5c+RLBNAKEmfCRcsE0CdnotAeSsTQEA/L8psKRNAq79zXMooE0BrxsOQoygTQEKmT1SXJxNADh8eoQgnE0CmZaNNpiYTQF7e77pXJRNAisurtuskE0D5zuEJJiQTQKaJG5PYIRNAbdbIQkQhE0AaiGeS8SATQAVisSXIHxNAYeuDtxgfE0D86QNK7R4TQOQwDOhqHhNAwKFW+ssdE0CZbXR7aR0TQMjl+2XGHBNArL1tVdEbE0AgStEQ3BkTQINvSs5qGBNAEkBLuVUYE0Ab9EvPlxcTQLtawfVjFxNAeXJrWMYWE0ChTysh/hUTQE0xDT2IExNAK5YVhPQRE0DCedaiFhETQKRawMrGDhNAyHGrqJ0OE0Dw51I3uA0TQOmbimauDRNA/EsVxLILE0BJR/HiYQsTQPQuLtkYCxNA8sAAm84JE0CrUWtj5gcTQBSegVEhBxNA431MJ5IFE0DVbzQlMgUTQNalgK4hBBNAVd6Sf+cDE0DRskC4LgMTQKzqAosMAxNAjxlCzgACE0DZQ8NQ6AATQCQll39AABNA/PpWvGP/EkBMpb0P7P4SQHONXRpq/hJA/MAIdo79EkD9inAjfP0SQM6Rivqq+xJASDpDN9j6EkAmvOn0HPkSQI0F4xyT+BJALqHeSXb4EkB5ZqvQvPcSQG+UFk5T9hJAgNXWxiX2EkDUHeLNsfUSQOZ3YxVI9RJAw1+UFdDzEkD57txli/MSQLXjvPyA8xJA5ACD2IbyEkCPTuepUvISQAqamJs58hJAP2ScssbxEkCARSiygfESQGtLoK9q8RJATRs/j0vvEkABbx1VMu8SQNnqNZ0j7xJAE5sAe3/uEkDWVUg1Zu4SQPy0cQlP7hJAEhwNXbntEkBSrrfJ8OwSQJPHsTqc7BJATvpAio/sEkCcHFxPi+wSQNMK51HE6xJAqxKULlXqEkD7Npotf+YSQA9d1+N65hJA/4udkEnmEkD75XWMOuYSQECxeA9o5BJAC68DNHPiEkCueY7JguESQHl+T2/q3xJAeaR+Xx7eEkA1cUi1Ct4SQEWrX/Wj3RJAOxvzwNzcEkACtJLzKNwSQIP1AWUX3BJAFN2HHRTbEkCc8G5Q9doSQKTMx9J32hJA6xMVZ2jaEkAGe/i4X9kSQAfuxzIQ2RJAezOpkt/YEkAY3+F4gNgSQKeBBgx82BJAM4brHM3XEkCOValvdNcSQJRz8iBn1xJAIw1bwjrXEkB0bQ3uj9USQH5fNBMi1BJA01a+AbzSEkBgyKwEhNESQJQTKIh20RJAgZKzy2bREkDMgLAOV9ESQJcnhQqrzxJAHT7NDWXPEkC+UVdHXs8SQLVOYY/VyxJADwfQ3zrJEkC69Qde2MgSQFzMcJvJxxJAmUnXi6LHEkDXLc94e8cSQJLImzO6xhJAi8/6S5zFEkDEC1FuLcUSQDMsdjT/xBJAfrkhxcDEEkDxdV0+icQSQEYEQHTpwxJADyPsKXrDEkC14pOQbsMSQIeCUI00wxJAOO0EdmPCEkCPiMOzxL0SQGOTNsl0vRJAsKzotSK7EkDVWcGtGboSQHHxUYK6uBJAui3edYG4EkAWIj9V8LcSQH2yk5C5txJAPIaUkEy2EkCrQgAlsbUSQNcUwjDPsxJAyJQke66yEkA6oKt31bESQIkdOxa2sRJA1vbMsQKwEkDVGpiec68SQPAnNISqrRJAm2LwRD+tEkB7j0ly56wSQN64N6OuqxJACuf7QhmrEkBKOLZeyKoSQLggcyxpqRJA7loRDDOpEkDmY6IeiagSQD9Opn4mqBJAC/S0INCnEkD0tMlAxqcSQLT5B5CtpxJAC+Qyk1mnEkBA/epCwKYSQMZJJ0mMphJAZF8tp/elEkAisl838KUSQJEiH/zPpRJAxV40fEylEkC4Vt/NzaQSQHS+GZwzpBJA/57rO86gEkBHGOo3yaASQCkW2jPEoBJAFtOin52eEkBV7kR0FZ4SQInNIHpQnRJA2GzkBg+cEkCS/UZU9ZoSQI7XAgxQmhJA+iIufY6ZEkB1OQekh5gSQHU5B6SHmBJAIRdWwXWYEkDBPV8vLpgSQPfLkxIAlxJA/dJ9A2GWEkDL+rhsXZUSQN3bZFGulBJAND8HLTWSEkBN7jGAwJESQK/1HvI9jxJAkDFDVjuPEkB1gmO6OI8SQMlDH4KIjBJAFyRGAn6MEkCDrEedLYkSQC42whkbiRJACYeRiuOIEkAcgTearogSQJPfnKbjhhJAKgWG0waFEkBG+W9CeYQSQFW3Te0YghJAG/S+xL2AEkAsY03Vwn8SQHfys7q6fxJAu8Kjwih/EkCYNW4Zt34SQI2/TFqGfhJAi7bJxTd+EkAMgm0pK3sSQKNw6erleRJAopV+uKp4EkB+r4vQc3gSQPjF/xdEdRJAKIAMj390EkASS8bB3nMSQMmS2CaccxJARZD9YRxzEkC0F4YflHISQAy1jkURchJA8dt9vQJxEkBPpyqk23ASQGv5csOcbxJAp7DDv4BvEkDHB+jvb28SQFpJsKN7bBJADrujoCxsEkA6bK5i4GsSQI0eBRbVaxJAf8qUQwVpEkBTQUF9bmgSQJcj6vJlaBJATcmYo5tnEkCjNMLGN2cSQEj1uqVyZhJAJ9i1yW9mEkBymG6pomMSQGMT5gmoYhJArBai9itiEkC5U+6/n2ASQH8R2P5fYBJAvPEOCa9fEkDHCo+Ipl4SQG6vdq4dXhJAuvS36BlbEkAJdaHICFoSQF1wBbpyWRJAAgGLNTpYEkBefW9q1FYSQNvK4b3VUxJA46w2fU9TEkB6PwGBTFMSQGrri8ysURJA7WQXvFxQEkD5jsWP804SQHbXqTSuThJAtnC7zmhOEkBRtDIkAk4SQE9P64c0TRJAjCeB+iFKEkCh1KcD5UkSQL9rNMdcRxJAAhU+2oJGEkBmwAWQdkYSQHNlS0UXRhJAgMb+uIlFEkBwWRKLjEMSQDQkIr+RQhJANs92mPs/EkBQzAqgrT8SQMARRJ82PhJA9rY8hwQ+EkAUmCOpxDwSQNqkeIs9PBJAP6rWsEs6EkBSrh8d0DgSQI8K9wUVOBJAkd6Zw+A2EkCRuT8bGDYSQAUw19uuNRJA+JkqxCg1EkDFUyvuWDQSQK/lo3l1MxJAO0r8ArUwEkDpcX3bXTASQMuJqnPMLxJA1v5G5ekuEkCmIltrhS4SQFzowG3aKxJAZBahER0rEkArZoGIXCkSQFOBgcYNKRJAv/VFYOYoEkBPPrrLSSYSQImh2Q71JBJA4rN7LDEiEkDUzV98+CESQEbQZbuhIRJAY1oiWLkfEkBXVu79tR8SQEqdqqS9HhJAXKqKtHMeEkCiS/NDQR4SQDx5aROjHRJAzYgvb2YdEkAvU7qvmBwSQBrsXXciHBJAl/EI6QgZEkC71y+1hxcSQMCbu8jpFRJAXZapbzcVEkAYLW5H8hESQPeKSad8ERJAhCvlproQEkCHf3HgLxASQI3HJ+KrDxJAzwNwAU4PEkDhR7HMTw4SQMUKDYsNDhJAt3/YFicNEkArf+awpQwSQPGN+/GeCxJAQ+vSpy4LEkAEF9qQEgsSQAXPSEG+ChJA03HpsW8HEkDEQc/yLwcSQCEaOi/rAhJA8/4+dOACEkA7AhDUzQASQHRB5pNTABJAvk8ILbX/EUCPBEpVhv8RQEOw9x9//xFADBPnk1P+EUBM2ptHC/4RQGQUWv4f/RFA9Thlj3X8EUAsxLdfRvwRQD9vqhD1+RFA+PW1Zqj5EUDiZ2Eyi/gRQDGM9nD79hFAmxdsxPf2EUBwb6JjaPYRQPtIExEQ9hFAsxmjx831EUAhQN4jj/URQKBHJZUr9RFAkaTOnfv0EUCMY9AVBPQRQE0w/WpS8xFAvKEJ1xrzEUD11s7TAPIRQAjTL4RZ8RFAXysj6APxEUDkQm+YcvARQMIBTzIz8BFAd8rezxzwEUC+lYduZ+4RQDhYVQAV7hFAHpORtnvsEUA/mBeib+oRQM4yV7np6BFAQErtWN7oEUCz38r4GOgRQDJMvbuX5xFAKyJ1VlDlEUBKvQyVV+QRQBU0Qm7/4xFAAH9XS5riEUBMOhoEoOERQGMQGFNi4RFAMe6DMgPfEUDbFGsN6N4RQITuqLJQ3hFA2CS5xlvdEUD71fxF29wRQHlP+5+B3BFA2gIJ+CnbEUArVCs8HtsRQMVyiJYO2xFA4dR9JDvaEUAVoWksUNgRQKb+yu0g2BFApd16nbLXEUCbzP5vidURQJtSZc/e0RFA4GHB7ubQEUANE+8vEM4RQIaDBGGjzRFAQ6WfVL3MEUC2/H4WpcwRQIuavFOuyxFAEMmby6bKEUD1L3ZlVckRQDkobYgkyRFAMRlUUBjJEUDvLJS1WMgRQEfJ2dBrxxFAk/BQiwHCEUB2yzqYJMARQFtNSmSCvxFA8Vxscze/EUB7Zuaa5b0RQFSD4S7EvRFA8NBys+q8EUCcYGbuPrwRQLxLyhAZuxFAjFQ/ile6EUALhcsenrkRQBzVytLGuBFARo5ZVZi4EUAeCP8xg7gRQHeg6f1LtRFAlfdd8x+yEUAvReC1FbERQHcNtM/SrxFAQIjh7qiuEUB39JwFgq4RQDnThnXZrBFAWxIcu7asEUBIrmWegqwRQCnFZUi2qxFAzuShJ1KrEUDAju4D+6oRQJRpx42DqRFAEyxbdgaoEUAfqNcbnacRQE3sQFRcpRFA+mUDq+CkEUA41FO7waQRQNGhiCRypBFAwAnGn92cEUAa1sWacJsRQPEq++zzlxFA/eklcdCUEUDcTfKHm5IRQKu11/olkRFAWZb5C9yQEUDhgsPfDI8RQJfiFDi+jRFAz0lxoZ2NEUC7ZarN+YsRQMcFkrXBixFApLXECDqLEUAYrQnxeYoRQECNOXzoiRFAVSZnCUSJEUA+xpy0XocRQMPVsfMEhxFAJVJQGDCGEUAlUlAYMIYRQDVnebK0hBFANn3WHmaCEUB7TP6O24ERQFsQYePdgBFAhAJcEB6AEUDfuE+er38RQMolqwQpfxFAgSAKunt+EUAb262aGHgRQIMWvrtpdhFAqXBhj9F1EUDqTLp7ZXQRQM4Mf1UqdBFAhLcSzGlwEUBPdzbaX3ARQLPNWxM/bxFAjCbPGjVvEUBdz4hbzG4RQOPJ2oRebhFAh5ZVi5ttEUDV9lYWoWwRQOGqZZP9aBFAEdD2G39oEUBvTV9rR2gRQLkSAso/ZxFAgR9MjDRkEUAXFpVA92IRQHfhEz/OYhFAHJWMXzNhEUCekE4r5mARQAgJsquyYBFAkLsggidgEUAopNFWoV8RQEJlYHHNXhFAgoZQ4J5eEUD4cY2vQV4RQMhCCfySXBFADXuBo5hYEUB/V+Q6MVYRQEI8Xdu0VBFAsP8T/GZTEUAEotvAUVMRQBsLK9YCUhFAjj8h99JQEUCyixyip08RQLajBHcsTxFAPfRyd0BOEUA3sqJIyk0RQFvc2SLFSxFAsbOGgaJJEUDJXXNgh0kRQHp60KiHRhFAbVAcG+NCEUBLHWTJFEARQD8sWT4PQBFAOVJvzKA+EUBEc8LyuzwRQH9gGip9OxFAk7FHVU46EUCrlvsGeTYRQJw0udNoNRFAKc2Mbc80EUDkF6QEOjIRQCnHMvoNMBFATymZ30wuEUBbweP+fC0RQKOlGEPVLBFAC64DTNYrEUB745rbISkRQL88YwniJRFAN0FQhMolEUAxpm52myURQOxOZGg3JRFA0i1iNp4kEUBBUchSiiIRQNLu5zPwIRFAfLKlep0fEUBoex8pJh8RQGh7HykmHxFA7osHxKIeEUDcCUU8mhoRQJtaAtYvGRFAbGfKNb4XEUCh34CbOBcRQA5o9v51FhFAR/zI9TIREUANM75bjw8RQD2U77RXDxFAQOVEZywPEUCwyvYsyw0RQDglR9FcCxFAZbZnPdkJEUDEQsa8GQcRQPxFb8zHBhFAqpWV/zwGEUB1qEm+mAURQBfqdcYeAxFAAyExf3QAEUA/v3RRAQARQJoIRS/H/hBA6gDFw8D+EEBrtfqbdPsQQG4RHbxa+xBAm/TqUcz6EEBRe5XUCfoQQAZtu1yK+BBA1uMGfV73EEBSvzZByPYQQFeLgpvP9RBA/MmGnVn0EEBGxjXD/PIQQAxkK6Ee7hBA537DWYfsEEDZ2L84OeoQQJoHMr8X6RBA2vXUWU3oEECgp95biecQQHgpc4hn5xBAxuHINOXlEEB4ydqeg+QQQLG0WDzZ4xBAP96MZl7jEECm9RJtNeMQQJIZYM1T4hBAa4JvpQHiEECWW5F0It8QQAUTGOZ83hBA3S2mYFreEEAzNnTURd0QQMUHiqOz2xBAXgXnn2rZEECtN6PAZNcQQDyl5AR21hBAlif/jdbUEEDI26z+GdIQQNRJ3F4SzBBALwkQzAjIEEDAL+R85McQQIfBwQo2xxBADWseaQvGEECIyegNysQQQK5bBhxjwxBA57ElCAvDEED8GIsVeMIQQGHfT/1YwRBAi9tMITTBEEDUqm/b578QQNUiOeJ4vxBA4Y8YRfm5EEDzkvrNtbkQQA+hKbInuBBAsfSrHhG4EEDg44N8GLcQQOCdAWLhtBBAEj8HzH60EECDe2WD+q4QQEV92OuOrhBAT0vtin+uEEBJfT06I64QQCqBdqTlrRBAMBiaYMisEEADIbdCF6sQQLOS35+YpxBA3dsB6LWmEEBRtL+Fq6UQQHietq3PpBBAdPHJaPOjEECA4b72GaIQQOWzwRxUoRBA43PY8vygEEBGQU8gSJ8QQNb4qpjonhBA/c1hu7GcEECy9tUKWZsQQDai7ZKWmRBAcGvgl6yYEEDyKpf2xpYQQJFKjYAclhBAKBF5lqKVEEAluJx0mpUQQJzX1NdclBBAa5KHSHSREEDHJ8Uw8o4QQF5R4WRMjRBAygzk2u+LEEDCb8Z6d4cQQGtjDITKhRBAI9DkQbmBEEA1wXSXKIEQQINrQrCGgBBA/OWSGm2AEED66BZQBn8QQH36nGe2fBBAtEdJMLF6EEA339K7X3kQQIkYBFrmeBBApyFVbUh2EEB3mdOq33UQQNaPKMWBdBBAnYF9gldzEEDnmSDmnnIQQB8iFBlqchBAG9VCdyxyEEDa9paoI3IQQHDRzfGEcBBAlLSmb2huEEAsJNejmWwQQGwbvZIubBBANhaL53trEEBuyrbzzWkQQJGmmgyqaRBATZ92STVpEEAY8bNYCGkQQC/dhl32aBBAXoGhXh5oEECgCk3qxWIQQMit5/EzYhBA3oewZZhgEEDvLzy+c2AQQB/uX2lhYBBAQ0RVXPNfEEB77SeNBF8QQN+Y3PWgWxBABL660/hWEEAx8imimVEQQIHeouPkTxBAn8FAol9PEEDOE3joNU0QQM4mS5RZTBBA3gGfT9pIEEBYbPv6xkgQQAujcvqpSBBAaD+qAbhHEEAl294O9kYQQIRhr1G1RRBAJDkq/QVFEED6XyFvfUQQQCHxw+c6QxBAr2DmUWRAEEDGa+sKCz8QQDS1Xl87PhBAn/LxzaY9EEBW9EwRiT0QQL9kaIE3PBBA1T0uTSc6EEArI9FduTkQQM6fol2bORBAb8w2E6s4EEATqafFPDgQQFKtf+VpNxBAbA+VZvU1EEDaAdd6xjQQQDUfis/XMRBA9A/WO0kxEEB8vvJ2IDEQQA8oNMI1MBBA5u+3KOQuEEC43H+ofS4QQD1EBR1ALhBAAg7WMc8tEEBAB7nUmy0QQFXigfs7KxBA04CGotQqEEA9yb6ctSoQQJX6nkHjKBBAWKujT0AfEEC+6O51LB0QQJBjiCIXHRBAultauOcYEEC75M/tgxcQQDYuuHiAFhBAKWZpK0YVEEASAfl03xMQQA4wNorpERBA9YerusgREEAXcS+UGREQQGADTDZUEBBAweB2auYPEEAS91XNtA0QQC1GMo2rDBBAiHLp6M4JEEC3hqd83QQQQHlg/l5HAxBAMQMyrb8CEEBWCDEmIgAQQHmyc7al+g9AcYLCgcf3D0A3WLyVD/cPQDL8vYuF9g9AFNuzjEfzD0CE8Akk6/IPQI0Lgo2+8Q9ALz/QJdjvD0AHVRe8we4PQELSzdpk7g9Ayk+x/E3tD0AL3ctWwusPQLfaBNaM5Q9A2UWjGtHkD0BlnhQ0ROQPQD2KsqhB4w9AmgUQXVbiD0C017z29OAPQOgkX4zp3Q9ARAcP+KDYD0BijSRdcdgPQFRCEFM11g9Af0Aa9FjRD0BPNw3VvsEPQLqdserrvQ9AodGPAO24D0DjvnJTirgPQLBEJFVJtw9AII5M12q2D0Di8muq/7MPQO/nyFmLsg9APZcMQfaxD0Dr2K7joK8PQJcrxglvrw9Aq+2Ws0OuD0Cu4fJ+q6kPQPEiVSK1pw9AqqyHQwOgD0Cnz46H0J8PQPEDLGiEnw9AgiHYFeyeD0CkvIyBcZsPQLLVIwIlmw9AfpjeM0CYD0DQ3bX0DJcPQAc8MbXZlg9AlnvhzWaOD0BofPYyq4sPQBWRTLWAhw9A1/k11HuGD0CDRTKhFoIPQNH91Y/gfQ9AnW0iNMZ9D0CdbSI0xn0PQKQZvzvrew9A8V+u6OlwD0D2KoQDCG8PQLpuP5m3bg9A/ehXxZ5sD0B/tuvIrGsPQKkwlUb9Zw9AtgM7NJtkD0B3FzJJ9GEPQG7258mxXQ9AhGaZhyRUD0CprYzocFEPQMaAkY4xSA9AbjJ6axlHD0A8w14AHUYPQO7JSXlKPw9A538dghU6D0Asp5dDDDIPQKYGW5OzMA9APv6HLecuD0DoUQiQrS4PQNxSEB2qLQ9AiPF9HeAsD0A6/YU4JBwPQEFyiU6GFA9AOMDzw9MOD0D+7cIImA4PQLt7lCRtDQ9AGbHqMPgKD0A2WkAzvAoPQAEpsPdxCQ9Aix3DxZAHD0A+F+KU9wIPQMkdHno+AA9A9Ft+nXX5DkAEyLeERPUOQKNJtOVz8A5An3FyDijuDkA3ZyHJhOoOQDdnIcmE6g5AAKcS7PzmDkCK+Kc1IuYOQMcOovIC5g5Ae8jvZenkDkD+NP972eEOQOm7dnOL3Q5ANxAr7P3VDkC2HMS0XtUOQNuzAhCh0Q5Au+0b/FvLDkB0mUz0K8UOQESjEyhhwg5AGPnDnEDCDkAvitvhTrkOQLljo3RRtQ5AlTFBXe60DkCKFdGJfq8OQGLvbefJkQ5A0UH0SUqJDkD91U+WJ4kOQCOSMrqciA5AI5IyupyIDkB3o93AhocOQO2kwqJ8hQ5AVV+bggiDDkBPDlQnmXgOQBdZmt2wcA5AarhqTeZtDkB9Ey9TumcOQLcz1GcUYg5Az54A7UBZDkCviEebFlQOQNTSdzU3Ug5AyIxhPW9FDkD2J3xxQ0QOQHwVN9d5QQ5Aw2/cUzQ9DkAIBiWQnTgOQBz/7S7VNg5AJ/U/HK82DkDN6NFrpDUOQM3o0WukNQ5A5TOdFIQvDkD34Go7dy4OQC7/m8xQLg5ArhToI94lDkBe9wYRdiEOQJSYSxFPIQ5AyTazDAEhDkDkg6OPaxwOQN2QqNxZGQ5AsdOq7H8MDkBS6zMPMAwOQPaHmEAoCg5A8s6wZC4HDkDbPSINj/0NQFDWWsXb+g1AbrGyWt/2DUBRgz0IY/INQK8uArLw8A1ABeyYDpbsDUDRkNkKx+sNQBTikYWP5w1AkkdoNf/iDUCw/Z/BFN4NQIlrZEAA1A1ATU+/DafLDUC/8tGkRMYNQKmvCEyQww1AviXpmc++DUDpT0CXmrYNQCq01F22tA1AIZ2CBwa0DUBwoMOOvrANQHCgw46+sA1An96S1C+vDUCVk/R7A68NQLcwxjn5rQ1AaFNRrTGrDUDzCS5xVKMNQPMJLnFUow1AxQjvjPqiDUBqrpPmsZ0NQAzfbx91nA1AUQrEQAiTDUB9d54/EJENQC7eW+EcjQ1A8NjvtsCMDUAqZ1D+q4sNQFB5a4+ufQ1AmkcSQAh8DUCPKvZFuXgNQEZogXKWdQ1Av7cZmy5zDUCaSK9MQXINQJ0GF8bKbQ1AoZbexf1qDUC3rqZ5/mcNQGjo3ky9ZQ1A+/tClfxkDUBOt5R9MFoNQA9I+Wo8WQ1APM6Dno9WDUAATVUBQ1QNQMECQ3kiTQ1AbjQLJYJHDUChlwBNBUMNQH83xnScNg1AYu/3SDo0DUC5dz+qPS4NQDO3lybTKQ1AN0FQhMolDUAwJ5n9UCANQL34kzs9HA1ALzjdYpoaDUAV4ipDKxkNQD/sDqskGA1AlpYgdNITDUBEE7r38gsNQDakOl9ICg1AYLO9+ZwIDUC9OBH+TwYNQO/eoL3kBQ1Ae8COGK8FDUA26H2JewENQFrGMikM8wxAnrqKjhzuDEBerM4St+gMQEBbsKN/6AxAKubSHQPgDECVweL6udwMQIXWKsuB3AxA5tHWvj3RDEDlIkMDds8MQGLZS0RxywxADqvNkIHGDEArrS4+rMIMQLXJpuFQwQxAJMey7xbBDEDnA6gUgLoMQHT36vlbuQxAdPfq+Vu5DEAYjdw68bIMQKNfCjo/rAxAyuQlOYClDEDrgJKnKaMMQEtNK6+xmgxAMTT+hL+ZDEAbwGv9hpQMQC8jTClOiAxALyNMKU6IDEDHdj+aFn8MQAc1m5SlfAxAfoHsv4p0DEDkxLGNk3EMQOG1RNGZbgxAXuYCnRpuDEB/IrrOXWYMQPOE02RaYwxAof4dtYpQDEAJ13PdKUwMQE+RpSmWPQxAv1Nok7w2DEBXQxmxSjMMQF+QWpo3IwxAiecc4mciDEDAT6HJbhwMQPv54alXGwxA7y9A1BEbDECoKrZNVhgMQEcU3ld/FAxAGkvZJ6wTDECGTGZEkhIMQLs0gAd4EQxADdvWmTYMDECUwLy9AgMMQL0bg1F18wtAvRuDUXXzC0DA68YGUfILQNyRN1AM4wtAw1aL2m3gC0C2OGgHwdsLQLXLKn/91AtAJyBKM6C6C0CZML5rlLcLQBt63ST4tgtAwwNg+3C1C0D1sbW4/bILQJbeXPs5sAtAYSUs7mCuC0AALxJSSqsLQMzrwJTVowtAsFi6czOeC0D6c3Wmkp0LQG/T6jRCnQtATkdaNByaC0Di/dEl35ELQGdBhKONkQtA/9U/V/uGC0Am28YLboMLQBlfzGx1ggtA7lArgBB2C0A/8F3YbnMLQKjgq7VxcgtAj7gznHhvC0Avz3+GJW4LQDSNKx3UaAtAu9k9wX5oC0CuOx5dKWgLQMaw/p8YXgtAK/N8AJNTC0A+l4vdH08LQDCxryQ8SAtAbOIZp0pBC0DApFcxZzALQIJY6Y3pKAtA8aOarcImC0AlmVQd3P8KQFA6NYza/ApA+/JRCTf6CkBzxf3b3vEKQMJjFk1Y8ApAwPxNkNHkCkBj6pTBv9gKQPKeLQRSywpAnrr4runACkC/o3uVgsAKQFdDoD60vwpA/XDbt+W+CkAI7jdRMrcKQFenDApQqwpAPHb1+a+kCkByK0SNRaQKQI5j/FI8mgpANHWF3M6OCkA6hPb6gIEKQB+9uqg0gApADkoMva95CkCP660K4HQKQK9lw05jbQpAA3USYQ9sCkBeejj33lwKQEvM38BEVApAdaBDAxRRCkDUnYEeKlAKQBon1yBGQwpAGifXIEZDCkCs/rvFakEKQECUorjSOwpAiOD9KuM6CkCKSpsFNS0KQDyzULZNKwpA7zM4v8sfCkB/yonOWB4KQGCWL94yEQpAKNX1LM8JCkDyDcMVXAEKQEkhWj9cAApAfv6oi9r8CUDDXbrvTfYJQJkanMg78QlAj43vLyLsCUAeRfiYSuAJQD8c1VIB2QlAY+oJb2PWCUBOMTiRw9MJQGYwYbYh0QlA8tYeYefMCUAhx2k9uMkJQP6/HbSiwAlA/r8dtKLACUA3fo3aybsJQB+hRjC1uglALbIF2Yq4CUCiLON5u64JQKIs43m7rglAPto7NRatCUCWw64ocKsJQBMKqU17oQlAbCXK/kCfCUD3s9yG2ZYJQOUoSh+5lQlAriB0+EtdCUCGxpftz1EJQE8lwDjeSQlAIMxBFxdDCUCmjN4v2kEJQBF+adecQAlAyPyfSQM7CUByl5t9wzkJQFUf17t9MwlAdBK47HAuCUC3in2SLC0JQMJN9Kn/KQlA4BvK188mCUDgG8rXzyYJQLq6zvv4IglAv+Yr7XgeCUCJtZuxLh0JQIm1m7EuHQlAyqnNZYkcCUCvd8IcTRkJQIBg5rBaFwlAREYfLWcVCUDWxhgIlQsJQC7xrNqaCQlAmBPc7aX9CEBsirlFT/wIQPOxYRn4+ghAXlYaXvT4CEAoCd4hW+kIQIwASEtwywhAgLVDx+THCEBw+sfiu7sIQB9HIqKttghAP9nxximiCEA2f933raAIQC2aJ6B3mwhAdjGuXDmZCEC7Az6ftJEIQNseJl2gfghAG6ksDxV9CEAzZJ9i/HkIQP9YnqCXZQhA1ZlFBwFkCEApAbizaWIIQAArPUvSXAhAa/ZeEWpaCEA0RYVDpkwIQO665EXVSwhAlu98w9Y9CEAetmJErjkIQLYJVrV2MAhAkD6US2UrCEDfzaY+shcIQMX1fxE+DQhAT/yZoF0MCEC7eRCHwPkHQArm1Xkf7QdANrEvmZHoB0Auk4yeEuMHQP+mLQWx2wdA9p2644DQB0D2nbrjgNAHQJ8n6pOQzwdADzQoMa/NB0DAUUuEqLoHQD/bdWTWtQdA6OXhwkyhB0CIzF8lN4gHQPLb2GeVcgdAwqycBgpnB0BuC16l0VMHQNYLH+L2PQdA0nhBr6M6B0CWOi9ssSgHQDSiE5FsJgdA4fKpOSYkB0Ck5YCMYBYHQFznKwKQCQdAXKqnRNsEB0By/DE7+/gGQIMQ9tr78gZA4NwtrZTaBkA2ulwCodAGQIJe4D99wQZAScaHR6y0BkAP2gvIc54GQLWuA0nPlwZAPG5a/h2RBkB1+mTIxY8GQLdMBg1tjgZAn39uBLqLBkBPDlQnmXgGQENXK1lGaQZAd5IEW95nBkAM7xjzomMGQEDGL11iXwZAAUOwV/ZdBkDnwPe8iVwGQOfA97yJXAZA/+ndXKc5BkDycZ9PtDMGQJwCcPM1MgZAexQqNTIpBkBfSi6mJQ8GQK/C/p7EBQZANyaaQcXlBUA3JppBxeUFQH/fcULx2wVA9m00W/7MBUC0ll0Iyr0FQMAB6ampuAVAg5bqjAqbBUDM2oiFRJkFQMzaiIVEmQVA8NjvtsCMBUAgZryFhYUFQDdG3LM7ZAVAx3/kzy9RBUBuNAslgkcFQP4fgbfVKwVAdb1rQaAbBUCfZtDERQ8FQCl6X+YHCQVAKXpf5gcJBUBntUE05/MEQGe1QTTn8wRAZ7VBNOfzBECK/67mJekEQPeSmwhz4ARAgN4n1ATRBEB31bSy1MUEQHX9OKRvhARA0EPKWEBaBEBMz9L8oTAEQPx+RpSbKARA7y9A1BEbBEC7gauCUg0EQDej8PBb/wNATzlePor8A0C4nhuY2N8DQLieG5jY3wNAiJ1N0+zcA0DJ1E7hDdcDQLKCi+UxywNAH1Ca4iy/A0AfUJriLL8DQCdOBIcNtgNACOyzs4WjA0AI7LOzhaMDQKluqV1loANAtAHMVvOWA0D/1T9X+4YDQOY+bMIRXANAdKdJnkdVA0CAIdgr+y4DQCzIM5BqKwNALMgzkGorA0ARlIt69QYDQBvhl8c6AwNAD25obfL3AkCHkNBlregCQMi57/EM3QJAawErzjbVAkBP30HVTs0CQEAaUbVUxQJAQBpRtVTFAkBzNJmtKLUCQHM0ma0otQJAA2cKzRGxAkAnxi3KZIsCQO4sNtHMggJAC5iXYR96AkB2R9D/kV8CQMaTOkXSSAJAP5ZBbzNEAkDPO6SreTECQIMhzkq7LAJAf8qJzlgeAkB/yonOWB4CQH/Kic5YHgJAVovfyLkPAkBWi9/IuQ8CQGIGVs/XBQJAB9aREC3dAUBPErxDttIBQKy8fQfIwgFAzy8sU5SnAUD/vE+oCaIBQOG3cxh2nAFAcpN3e69iAUDADpssslwBQH+y441TRAFA32sG0iA+AUCLjOHYfBEBQP8ASm7sCgFAmBPc7aX9AECYE9ztpf0AQPc7Gnfv9gBA9s7c7ivwAEC3Z7TfNpMAQHWQ3YwChABAdZDdjAKEAECADTomT3wAQIjK24eKdABAKxIXZLRsAEArEhdktGwAQCsSF2S0bABAt2IosMVUAEA0RYVDpkwAQL/OhaxzRABAy6iD95wRAEAAAAAAAAAAQG2weCsf7v8//k1bCmK3/z8dmSCD7pH/Px2ZIIPukf8//+ony5NE/z+mBluTszD/P6YGW5OzMP8/7mDI3Jkc/z8XnyNh5t7+P9jqKUb7nv4//dVPlieJ/j+OKw3mEC/+PxB+S/7PF/4/AD8OhV/o/T9+hp9Horf9P1MgAxPBnv0/lzqb3fRR/T9mRoDooq38P2ZGgOiirfw//9O7uU5z/D9qQpNFADf8P2pCk0UAN/w/kLaPOxAY/D+fATQClPj7P+/mKIyG2Ps/7+YojIbY+z9Pzwvsv3T7PxZz3xo1Uvs/nrr4runA+j9/DAD3jnP6P38MAPeOc/o/fwwA945z+j9ugqAIlUv6P/UwvNGvIvo/Hzp4P9T4+T8fOng/1Pj5P1gMAnL2zfk/WAwCcvbN+T/OB1ApAHX5P84HUCkAdfk/kJ8jKstG+T/+p3dzneb4P/6nd3Od5vg/oIeUsYC0+D9/WMckGBX4P39YxyQYFfg/f1jHJBgV+D9/WMckGBX4P+ZnWBSe3Pc/5mdYFJ7c9z/mZ1gUntz3P3/1k+VJovc/f/WT5Umi9z9/9ZPlSaL3P3/1k+VJovc/6mNrcftl9z/qY2tx+2X3P+pja3H7Zfc/HyMMLo8n9z8fIwwujyf3Px8jDC6PJ/c/HyMMLo8n9z8fIwwujyf3P37gu7Dd5vY/fuC7sN3m9j/P8OMXu6P2PwFDsFf2XfY/AUOwV/Zd9j8BQ7BX9l32P/6QC2JYFfY//pALYlgV9j/+kAtiWBX2P3/5myCjyfU/f/mbIKPJ9T/uo3g0kHr1P+6jeDSQevU/7qN4NJB69T+fW1Brzyf1P59bUGvPJ/U/gN4n1ATR9D+A3ifUBNH0P4DeJ9QE0fQ/gN4n1ATR9D8QwftVxnX0PxDB+1XGdfQ/EMH7VcZ19D9+yU+fmBX0P37JT5+YFfQ/fslPn5gV9D9+yU+fmBX0P5d9SzXrr/M/l31LNeuv8z+XfUs166/zP/95n1ATRPM//3mfUBNE8z8AF2wRRdHyPwAXbBFF0fI/n0TkWYpW8j+fRORZilbyP59E5FmKVvI/n0TkWYpW8j9PErxDttLxP08SvEO20vE/TxK8Q7bS8T9/suONU0TxP3+y441TRPE/f7LjjVNE8T9/suONU0TxP3+y441TRPE/f7LjjVNE8T9vxVBgi6nwP2/FUGCLqfA/AAAAAAAA8D8AAAAAAADwPwAAAAAAAPA/AAAAAAAA8D8AAAAAAADwPwAAAAAAAPA/AAAAAAAA8D8AAAAAAADwPwAAAAAAAPA//dVPlieJ7j/91U+WJ4nuP/3VT5Ynie4//dVPlieJ7j/+Nu/4HObsP/427/gc5uw//jbv+Bzm7D/+Nu/4HObsP/427/gc5uw//jbv+Bzm7D/+Nu/4HObsP/427/gc5uw//jbv+Bzm7D/+Nu/4HObsPz/MeAsLC+s/P8x4CwsL6z8/zHgLCwvrPz/MeAsLC+s/P8x4CwsL6z8/zHgLCwvrPz/MeAsLC+s/P8x4CwsL6z8/zHgLCwvrPz/MeAsLC+s//qd3c53m6D/+p3dzneboP/6nd3Od5ug//qd3c53m6D/+p3dzneboPwFDsFf2XeY/AUOwV/Zd5j8BQ7BX9l3mPwFDsFf2XeY/AUOwV/Zd5j//eZ9QE0TjP/95n1ATROM//3mfUBNE4z//eZ9QE0TjP/95n1ATROM//3mfUBNE4z/91U+WJ4neP/3VT5Ynid4//dVPlieJ3j/91U+WJ4neP/3VT5Ynid4//3mfUBNE0z//eZ9QE0TTP/95n1ATRNM//3mfUBNE0z//eZ9QE0TTP/95n1ATRNM//3mfUBNE0z//eZ9QE0TTPwAAAAAAAAAAAAAAAAAAAAAAAAAAAAAAAAAAAAAAAAAAAAAAAAAAAAAAAAAAAAAAAAAAAAAAAAAAAAAAAAAAAAAAAAAAAAAAAAAAAAAAAAAAAAAAAAAAAAA=",
                    "dtype": "f8"
                  },
                  "xaxis": "x7",
                  "y": {
                    "bdata": "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",
                    "dtype": "f8"
                  },
                  "yaxis": "y7"
                },
                {
                  "customdata": {
                    "bdata": "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",
                    "dtype": "f8"
                  },
                  "hovertemplate": "<b>Log(Trading Intensity)</b>: %{x:,.2f}<br>Log(Liquidity): %{y:.2f}<br>Liquidity: $%{customdata:,.0f}<extra></extra>",
                  "marker": {
                    "color": "green",
                    "line": {
                      "width": 0
                    },
                    "opacity": 0.6,
                    "size": 3
                  },
                  "mode": "markers",
                  "name": "Log(Trading Intensity)",
                  "showlegend": false,
                  "type": "scatter",
                  "x": {
                    "bdata": "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",
                    "dtype": "f8"
                  },
                  "xaxis": "x8",
                  "y": {
                    "bdata": "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",
                    "dtype": "f8"
                  },
                  "yaxis": "y8"
                }
              ],
              "layout": {
                "annotations": [
                  {
                    "font": {
                      "size": 16
                    },
                    "showarrow": false,
                    "text": "Log(Trading Intensity)<br>r=-0.178",
                    "x": 0.095,
                    "xanchor": "center",
                    "xref": "paper",
                    "y": 1,
                    "yanchor": "bottom",
                    "yref": "paper"
                  },
                  {
                    "font": {
                      "size": 16
                    },
                    "showarrow": false,
                    "text": "Unique Trading Pairs<br>r=0.172",
                    "x": 0.365,
                    "xanchor": "center",
                    "xref": "paper",
                    "y": 1,
                    "yanchor": "bottom",
                    "yref": "paper"
                  },
                  {
                    "font": {
                      "size": 16
                    },
                    "showarrow": false,
                    "text": "Log(Unique Traders)<br>r=-0.164",
                    "x": 0.635,
                    "xanchor": "center",
                    "xref": "paper",
                    "y": 1,
                    "yanchor": "bottom",
                    "yref": "paper"
                  },
                  {
                    "font": {
                      "size": 16
                    },
                    "showarrow": false,
                    "text": "Log(Total Trades)<br>r=-0.164",
                    "x": 0.905,
                    "xanchor": "center",
                    "xref": "paper",
                    "y": 1,
                    "yanchor": "bottom",
                    "yref": "paper"
                  },
                  {
                    "font": {
                      "size": 16
                    },
                    "showarrow": false,
                    "text": "Trades per Trader<br>r=-0.145",
                    "x": 0.095,
                    "xanchor": "center",
                    "xref": "paper",
                    "y": 0.44,
                    "yanchor": "bottom",
                    "yref": "paper"
                  },
                  {
                    "font": {
                      "size": 16
                    },
                    "showarrow": false,
                    "text": "Unique Trading Pairs<br>r=0.143",
                    "x": 0.365,
                    "xanchor": "center",
                    "xref": "paper",
                    "y": 0.44,
                    "yanchor": "bottom",
                    "yref": "paper"
                  },
                  {
                    "font": {
                      "size": 16
                    },
                    "showarrow": false,
                    "text": "Log(Total Trades)<br>r=-0.134",
                    "x": 0.635,
                    "xanchor": "center",
                    "xref": "paper",
                    "y": 0.44,
                    "yanchor": "bottom",
                    "yref": "paper"
                  },
                  {
                    "font": {
                      "size": 16
                    },
                    "showarrow": false,
                    "text": "Log(Trading Intensity)<br>r=-0.132",
                    "x": 0.905,
                    "xanchor": "center",
                    "xref": "paper",
                    "y": 0.44,
                    "yanchor": "bottom",
                    "yref": "paper"
                  }
                ],
                "font": {
                  "size": 10
                },
                "height": 800,
                "template": {
                  "data": {
                    "bar": [
                      {
                        "error_x": {
                          "color": "#2a3f5f"
                        },
                        "error_y": {
                          "color": "#2a3f5f"
                        },
                        "marker": {
                          "line": {
                            "color": "#E5ECF6",
                            "width": 0.5
                          },
                          "pattern": {
                            "fillmode": "overlay",
                            "size": 10,
                            "solidity": 0.2
                          }
                        },
                        "type": "bar"
                      }
                    ],
                    "barpolar": [
                      {
                        "marker": {
                          "line": {
                            "color": "#E5ECF6",
                            "width": 0.5
                          },
                          "pattern": {
                            "fillmode": "overlay",
                            "size": 10,
                            "solidity": 0.2
                          }
                        },
                        "type": "barpolar"
                      }
                    ],
                    "carpet": [
                      {
                        "aaxis": {
                          "endlinecolor": "#2a3f5f",
                          "gridcolor": "white",
                          "linecolor": "white",
                          "minorgridcolor": "white",
                          "startlinecolor": "#2a3f5f"
                        },
                        "baxis": {
                          "endlinecolor": "#2a3f5f",
                          "gridcolor": "white",
                          "linecolor": "white",
                          "minorgridcolor": "white",
                          "startlinecolor": "#2a3f5f"
                        },
                        "type": "carpet"
                      }
                    ],
                    "choropleth": [
                      {
                        "colorbar": {
                          "outlinewidth": 0,
                          "ticks": ""
                        },
                        "type": "choropleth"
                      }
                    ],
                    "contour": [
                      {
                        "colorbar": {
                          "outlinewidth": 0,
                          "ticks": ""
                        },
                        "colorscale": [
                          [
                            0,
                            "#0d0887"
                          ],
                          [
                            0.1111111111111111,
                            "#46039f"
                          ],
                          [
                            0.2222222222222222,
                            "#7201a8"
                          ],
                          [
                            0.3333333333333333,
                            "#9c179e"
                          ],
                          [
                            0.4444444444444444,
                            "#bd3786"
                          ],
                          [
                            0.5555555555555556,
                            "#d8576b"
                          ],
                          [
                            0.6666666666666666,
                            "#ed7953"
                          ],
                          [
                            0.7777777777777778,
                            "#fb9f3a"
                          ],
                          [
                            0.8888888888888888,
                            "#fdca26"
                          ],
                          [
                            1,
                            "#f0f921"
                          ]
                        ],
                        "type": "contour"
                      }
                    ],
                    "contourcarpet": [
                      {
                        "colorbar": {
                          "outlinewidth": 0,
                          "ticks": ""
                        },
                        "type": "contourcarpet"
                      }
                    ],
                    "heatmap": [
                      {
                        "colorbar": {
                          "outlinewidth": 0,
                          "ticks": ""
                        },
                        "colorscale": [
                          [
                            0,
                            "#0d0887"
                          ],
                          [
                            0.1111111111111111,
                            "#46039f"
                          ],
                          [
                            0.2222222222222222,
                            "#7201a8"
                          ],
                          [
                            0.3333333333333333,
                            "#9c179e"
                          ],
                          [
                            0.4444444444444444,
                            "#bd3786"
                          ],
                          [
                            0.5555555555555556,
                            "#d8576b"
                          ],
                          [
                            0.6666666666666666,
                            "#ed7953"
                          ],
                          [
                            0.7777777777777778,
                            "#fb9f3a"
                          ],
                          [
                            0.8888888888888888,
                            "#fdca26"
                          ],
                          [
                            1,
                            "#f0f921"
                          ]
                        ],
                        "type": "heatmap"
                      }
                    ],
                    "histogram": [
                      {
                        "marker": {
                          "pattern": {
                            "fillmode": "overlay",
                            "size": 10,
                            "solidity": 0.2
                          }
                        },
                        "type": "histogram"
                      }
                    ],
                    "histogram2d": [
                      {
                        "colorbar": {
                          "outlinewidth": 0,
                          "ticks": ""
                        },
                        "colorscale": [
                          [
                            0,
                            "#0d0887"
                          ],
                          [
                            0.1111111111111111,
                            "#46039f"
                          ],
                          [
                            0.2222222222222222,
                            "#7201a8"
                          ],
                          [
                            0.3333333333333333,
                            "#9c179e"
                          ],
                          [
                            0.4444444444444444,
                            "#bd3786"
                          ],
                          [
                            0.5555555555555556,
                            "#d8576b"
                          ],
                          [
                            0.6666666666666666,
                            "#ed7953"
                          ],
                          [
                            0.7777777777777778,
                            "#fb9f3a"
                          ],
                          [
                            0.8888888888888888,
                            "#fdca26"
                          ],
                          [
                            1,
                            "#f0f921"
                          ]
                        ],
                        "type": "histogram2d"
                      }
                    ],
                    "histogram2dcontour": [
                      {
                        "colorbar": {
                          "outlinewidth": 0,
                          "ticks": ""
                        },
                        "colorscale": [
                          [
                            0,
                            "#0d0887"
                          ],
                          [
                            0.1111111111111111,
                            "#46039f"
                          ],
                          [
                            0.2222222222222222,
                            "#7201a8"
                          ],
                          [
                            0.3333333333333333,
                            "#9c179e"
                          ],
                          [
                            0.4444444444444444,
                            "#bd3786"
                          ],
                          [
                            0.5555555555555556,
                            "#d8576b"
                          ],
                          [
                            0.6666666666666666,
                            "#ed7953"
                          ],
                          [
                            0.7777777777777778,
                            "#fb9f3a"
                          ],
                          [
                            0.8888888888888888,
                            "#fdca26"
                          ],
                          [
                            1,
                            "#f0f921"
                          ]
                        ],
                        "type": "histogram2dcontour"
                      }
                    ],
                    "mesh3d": [
                      {
                        "colorbar": {
                          "outlinewidth": 0,
                          "ticks": ""
                        },
                        "type": "mesh3d"
                      }
                    ],
                    "parcoords": [
                      {
                        "line": {
                          "colorbar": {
                            "outlinewidth": 0,
                            "ticks": ""
                          }
                        },
                        "type": "parcoords"
                      }
                    ],
                    "pie": [
                      {
                        "automargin": true,
                        "type": "pie"
                      }
                    ],
                    "scatter": [
                      {
                        "fillpattern": {
                          "fillmode": "overlay",
                          "size": 10,
                          "solidity": 0.2
                        },
                        "type": "scatter"
                      }
                    ],
                    "scatter3d": [
                      {
                        "line": {
                          "colorbar": {
                            "outlinewidth": 0,
                            "ticks": ""
                          }
                        },
                        "marker": {
                          "colorbar": {
                            "outlinewidth": 0,
                            "ticks": ""
                          }
                        },
                        "type": "scatter3d"
                      }
                    ],
                    "scattercarpet": [
                      {
                        "marker": {
                          "colorbar": {
                            "outlinewidth": 0,
                            "ticks": ""
                          }
                        },
                        "type": "scattercarpet"
                      }
                    ],
                    "scattergeo": [
                      {
                        "marker": {
                          "colorbar": {
                            "outlinewidth": 0,
                            "ticks": ""
                          }
                        },
                        "type": "scattergeo"
                      }
                    ],
                    "scattergl": [
                      {
                        "marker": {
                          "colorbar": {
                            "outlinewidth": 0,
                            "ticks": ""
                          }
                        },
                        "type": "scattergl"
                      }
                    ],
                    "scattermap": [
                      {
                        "marker": {
                          "colorbar": {
                            "outlinewidth": 0,
                            "ticks": ""
                          }
                        },
                        "type": "scattermap"
                      }
                    ],
                    "scattermapbox": [
                      {
                        "marker": {
                          "colorbar": {
                            "outlinewidth": 0,
                            "ticks": ""
                          }
                        },
                        "type": "scattermapbox"
                      }
                    ],
                    "scatterpolar": [
                      {
                        "marker": {
                          "colorbar": {
                            "outlinewidth": 0,
                            "ticks": ""
                          }
                        },
                        "type": "scatterpolar"
                      }
                    ],
                    "scatterpolargl": [
                      {
                        "marker": {
                          "colorbar": {
                            "outlinewidth": 0,
                            "ticks": ""
                          }
                        },
                        "type": "scatterpolargl"
                      }
                    ],
                    "scatterternary": [
                      {
                        "marker": {
                          "colorbar": {
                            "outlinewidth": 0,
                            "ticks": ""
                          }
                        },
                        "type": "scatterternary"
                      }
                    ],
                    "surface": [
                      {
                        "colorbar": {
                          "outlinewidth": 0,
                          "ticks": ""
                        },
                        "colorscale": [
                          [
                            0,
                            "#0d0887"
                          ],
                          [
                            0.1111111111111111,
                            "#46039f"
                          ],
                          [
                            0.2222222222222222,
                            "#7201a8"
                          ],
                          [
                            0.3333333333333333,
                            "#9c179e"
                          ],
                          [
                            0.4444444444444444,
                            "#bd3786"
                          ],
                          [
                            0.5555555555555556,
                            "#d8576b"
                          ],
                          [
                            0.6666666666666666,
                            "#ed7953"
                          ],
                          [
                            0.7777777777777778,
                            "#fb9f3a"
                          ],
                          [
                            0.8888888888888888,
                            "#fdca26"
                          ],
                          [
                            1,
                            "#f0f921"
                          ]
                        ],
                        "type": "surface"
                      }
                    ],
                    "table": [
                      {
                        "cells": {
                          "fill": {
                            "color": "#EBF0F8"
                          },
                          "line": {
                            "color": "white"
                          }
                        },
                        "header": {
                          "fill": {
                            "color": "#C8D4E3"
                          },
                          "line": {
                            "color": "white"
                          }
                        },
                        "type": "table"
                      }
                    ]
                  },
                  "layout": {
                    "annotationdefaults": {
                      "arrowcolor": "#2a3f5f",
                      "arrowhead": 0,
                      "arrowwidth": 1
                    },
                    "autotypenumbers": "strict",
                    "coloraxis": {
                      "colorbar": {
                        "outlinewidth": 0,
                        "ticks": ""
                      }
                    },
                    "colorscale": {
                      "diverging": [
                        [
                          0,
                          "#8e0152"
                        ],
                        [
                          0.1,
                          "#c51b7d"
                        ],
                        [
                          0.2,
                          "#de77ae"
                        ],
                        [
                          0.3,
                          "#f1b6da"
                        ],
                        [
                          0.4,
                          "#fde0ef"
                        ],
                        [
                          0.5,
                          "#f7f7f7"
                        ],
                        [
                          0.6,
                          "#e6f5d0"
                        ],
                        [
                          0.7,
                          "#b8e186"
                        ],
                        [
                          0.8,
                          "#7fbc41"
                        ],
                        [
                          0.9,
                          "#4d9221"
                        ],
                        [
                          1,
                          "#276419"
                        ]
                      ],
                      "sequential": [
                        [
                          0,
                          "#0d0887"
                        ],
                        [
                          0.1111111111111111,
                          "#46039f"
                        ],
                        [
                          0.2222222222222222,
                          "#7201a8"
                        ],
                        [
                          0.3333333333333333,
                          "#9c179e"
                        ],
                        [
                          0.4444444444444444,
                          "#bd3786"
                        ],
                        [
                          0.5555555555555556,
                          "#d8576b"
                        ],
                        [
                          0.6666666666666666,
                          "#ed7953"
                        ],
                        [
                          0.7777777777777778,
                          "#fb9f3a"
                        ],
                        [
                          0.8888888888888888,
                          "#fdca26"
                        ],
                        [
                          1,
                          "#f0f921"
                        ]
                      ],
                      "sequentialminus": [
                        [
                          0,
                          "#0d0887"
                        ],
                        [
                          0.1111111111111111,
                          "#46039f"
                        ],
                        [
                          0.2222222222222222,
                          "#7201a8"
                        ],
                        [
                          0.3333333333333333,
                          "#9c179e"
                        ],
                        [
                          0.4444444444444444,
                          "#bd3786"
                        ],
                        [
                          0.5555555555555556,
                          "#d8576b"
                        ],
                        [
                          0.6666666666666666,
                          "#ed7953"
                        ],
                        [
                          0.7777777777777778,
                          "#fb9f3a"
                        ],
                        [
                          0.8888888888888888,
                          "#fdca26"
                        ],
                        [
                          1,
                          "#f0f921"
                        ]
                      ]
                    },
                    "colorway": [
                      "#636efa",
                      "#EF553B",
                      "#00cc96",
                      "#ab63fa",
                      "#FFA15A",
                      "#19d3f3",
                      "#FF6692",
                      "#B6E880",
                      "#FF97FF",
                      "#FECB52"
                    ],
                    "font": {
                      "color": "#2a3f5f"
                    },
                    "geo": {
                      "bgcolor": "white",
                      "lakecolor": "white",
                      "landcolor": "#E5ECF6",
                      "showlakes": true,
                      "showland": true,
                      "subunitcolor": "white"
                    },
                    "hoverlabel": {
                      "align": "left"
                    },
                    "hovermode": "closest",
                    "mapbox": {
                      "style": "light"
                    },
                    "paper_bgcolor": "white",
                    "plot_bgcolor": "#E5ECF6",
                    "polar": {
                      "angularaxis": {
                        "gridcolor": "white",
                        "linecolor": "white",
                        "ticks": ""
                      },
                      "bgcolor": "#E5ECF6",
                      "radialaxis": {
                        "gridcolor": "white",
                        "linecolor": "white",
                        "ticks": ""
                      }
                    },
                    "scene": {
                      "xaxis": {
                        "backgroundcolor": "#E5ECF6",
                        "gridcolor": "white",
                        "gridwidth": 2,
                        "linecolor": "white",
                        "showbackground": true,
                        "ticks": "",
                        "zerolinecolor": "white"
                      },
                      "yaxis": {
                        "backgroundcolor": "#E5ECF6",
                        "gridcolor": "white",
                        "gridwidth": 2,
                        "linecolor": "white",
                        "showbackground": true,
                        "ticks": "",
                        "zerolinecolor": "white"
                      },
                      "zaxis": {
                        "backgroundcolor": "#E5ECF6",
                        "gridcolor": "white",
                        "gridwidth": 2,
                        "linecolor": "white",
                        "showbackground": true,
                        "ticks": "",
                        "zerolinecolor": "white"
                      }
                    },
                    "shapedefaults": {
                      "line": {
                        "color": "#2a3f5f"
                      }
                    },
                    "ternary": {
                      "aaxis": {
                        "gridcolor": "white",
                        "linecolor": "white",
                        "ticks": ""
                      },
                      "baxis": {
                        "gridcolor": "white",
                        "linecolor": "white",
                        "ticks": ""
                      },
                      "bgcolor": "#E5ECF6",
                      "caxis": {
                        "gridcolor": "white",
                        "linecolor": "white",
                        "ticks": ""
                      }
                    },
                    "title": {
                      "x": 0.05
                    },
                    "xaxis": {
                      "automargin": true,
                      "gridcolor": "white",
                      "linecolor": "white",
                      "ticks": "",
                      "title": {
                        "standoff": 15
                      },
                      "zerolinecolor": "white",
                      "zerolinewidth": 2
                    },
                    "yaxis": {
                      "automargin": true,
                      "gridcolor": "white",
                      "linecolor": "white",
                      "ticks": "",
                      "title": {
                        "standoff": 15
                      },
                      "zerolinecolor": "white",
                      "zerolinewidth": 2
                    }
                  }
                },
                "title": {
                  "text": "Strongest First-Day Predictors of Long-Term Success"
                },
                "width": 1600,
                "xaxis": {
                  "anchor": "y",
                  "domain": [
                    0,
                    0.19
                  ],
                  "type": "log"
                },
                "xaxis2": {
                  "anchor": "y2",
                  "domain": [
                    0.27,
                    0.46
                  ],
                  "type": "log"
                },
                "xaxis3": {
                  "anchor": "y3",
                  "domain": [
                    0.54,
                    0.73
                  ],
                  "type": "log"
                },
                "xaxis4": {
                  "anchor": "y4",
                  "domain": [
                    0.81,
                    1
                  ],
                  "type": "log"
                },
                "xaxis5": {
                  "anchor": "y5",
                  "domain": [
                    0,
                    0.19
                  ],
                  "type": "log"
                },
                "xaxis6": {
                  "anchor": "y6",
                  "domain": [
                    0.27,
                    0.46
                  ],
                  "type": "log"
                },
                "xaxis7": {
                  "anchor": "y7",
                  "domain": [
                    0.54,
                    0.73
                  ],
                  "type": "log"
                },
                "xaxis8": {
                  "anchor": "y8",
                  "domain": [
                    0.81,
                    1
                  ],
                  "type": "log"
                },
                "yaxis": {
                  "anchor": "x",
                  "domain": [
                    0.56,
                    1
                  ],
                  "title": {
                    "text": "Log10(FDV)"
                  }
                },
                "yaxis2": {
                  "anchor": "x2",
                  "domain": [
                    0.56,
                    1
                  ],
                  "title": {
                    "text": "Log10(FDV)"
                  }
                },
                "yaxis3": {
                  "anchor": "x3",
                  "domain": [
                    0.56,
                    1
                  ],
                  "title": {
                    "text": "Log10(FDV)"
                  }
                },
                "yaxis4": {
                  "anchor": "x4",
                  "domain": [
                    0.56,
                    1
                  ],
                  "title": {
                    "text": "Log10(FDV)"
                  }
                },
                "yaxis5": {
                  "anchor": "x5",
                  "domain": [
                    0,
                    0.44
                  ],
                  "title": {
                    "text": "Log10(Liquidity)"
                  }
                },
                "yaxis6": {
                  "anchor": "x6",
                  "domain": [
                    0,
                    0.44
                  ],
                  "title": {
                    "text": "Log10(Liquidity)"
                  }
                },
                "yaxis7": {
                  "anchor": "x7",
                  "domain": [
                    0,
                    0.44
                  ],
                  "title": {
                    "text": "Log10(Liquidity)"
                  }
                },
                "yaxis8": {
                  "anchor": "x8",
                  "domain": [
                    0,
                    0.44
                  ],
                  "title": {
                    "text": "Log10(Liquidity)"
                  }
                }
              }
            }
          },
          "metadata": {},
          "output_type": "display_data"
        },
        {
          "name": "stdout",
          "output_type": "stream",
          "text": [
            "   🔥 3. Comprehensive correlation heatmap\n"
          ]
        },
        {
          "data": {
            "application/vnd.plotly.v1+json": {
              "config": {
                "plotlyServerURL": "https://plot.ly"
              },
              "data": [
                {
                  "colorscale": [
                    [
                      0,
                      "rgb(103,0,31)"
                    ],
                    [
                      0.1,
                      "rgb(178,24,43)"
                    ],
                    [
                      0.2,
                      "rgb(214,96,77)"
                    ],
                    [
                      0.3,
                      "rgb(244,165,130)"
                    ],
                    [
                      0.4,
                      "rgb(253,219,199)"
                    ],
                    [
                      0.5,
                      "rgb(247,247,247)"
                    ],
                    [
                      0.6,
                      "rgb(209,229,240)"
                    ],
                    [
                      0.7,
                      "rgb(146,197,222)"
                    ],
                    [
                      0.8,
                      "rgb(67,147,195)"
                    ],
                    [
                      0.9,
                      "rgb(33,102,172)"
                    ],
                    [
                      1,
                      "rgb(5,48,97)"
                    ]
                  ],
                  "hovertemplate": "<b>%{y}</b> vs <b>%{x}</b><br>Correlation: %{z:.3f}<extra></extra>",
                  "text": {
                    "bdata": "AAAAAAAA8D+yne+nxkvvPzvfT42Xbu4/TDeJQWDl7D/4U+Olm8TkP9v5fmq8dMM/UrgehetRyD/D9Shcj8LFP8uhRbbz/cS/9P3UeOkmwb+yne+nxkvvPwAAAAAAAPA/EFg5tMh27j97FK5H4XrsP1pkO99PjeM/x0s3iUFgxT/6fmq8dJOoP2ZmZmZmZsY/y6FFtvP9xL8AAAAAAADAvzvfT42Xbu4/EFg5tMh27j8AAAAAAADwPwAAAAAAAOw/ke18PzVe6j+DwMqhRbbTPzEIrBxaZLs/bxKDwMqhxT9U46WbxCDAv/p+arx0k7i/TDeJQWDl7D97FK5H4XrsPwAAAAAAAOw/AAAAAAAA8D/Xo3A9CtfjPy/dJAaBlcM/arx0kxgExj83iUFg5dDCP2IQWDm0yMa/TDeJQWDlwL/4U+Olm8TkP1pkO99PjeM/ke18PzVe6j/Xo3A9CtfjPwAAAAAAAPA/XrpJDAIr3z/2KFyPwvXIP3npJjEIrLw/RIts5/upsb/8qfHSTWKwv9v5fmq8dMM/x0s3iUFgxT+DwMqhRbbTPy/dJAaBlcM/XrpJDAIr3z8AAAAAAADwPzvfT42XbqK/TDeJQWDlwD+4HoXrUbi+P5qZmZmZmbk/UrgehetRyD/6fmq8dJOoPzEIrBxaZLs/arx0kxgExj/2KFyPwvXIPzvfT42XbqK/AAAAAAAA8D97FK5H4Xp0P5MYBFYOLbK/j8L1KFyPwr/D9Shcj8LFP2ZmZmZmZsY/bxKDwMqhxT83iUFg5dDCP3npJjEIrLw/TDeJQWDlwD97FK5H4Xp0PwAAAAAAAPA/arx0kxgExj/n+6nx0k3CP8uhRbbz/cS/y6FFtvP9xL9U46WbxCDAv2IQWDm0yMa/RIts5/upsb+4HoXrUbi+P5MYBFYOLbK/arx0kxgExj8AAAAAAADwP4ts5/up8eo/9P3UeOkmwb8AAAAAAADAv/p+arx0k7i/TDeJQWDlwL/8qfHSTWKwv5qZmZmZmbk/j8L1KFyPwr/n+6nx0k3CP4ts5/up8eo/AAAAAAAA8D8=",
                    "dtype": "f8",
                    "shape": "10, 10"
                  },
                  "textfont": {
                    "size": 10
                  },
                  "texttemplate": "%{text}",
                  "type": "heatmap",
                  "x": [
                    "Log(Total Trades)",
                    "Log(Unique Traders)",
                    "Log(Total SOL Volume)",
                    "Log(Trading Intensity)",
                    "Log(SOL per Trader)",
                    "Avg SOL per Trade",
                    "Trades per Trader",
                    "Unique Trading Pairs",
                    "Log(FDV)",
                    "Log(Liquidity)"
                  ],
                  "y": [
                    "Log(Total Trades)",
                    "Log(Unique Traders)",
                    "Log(Total SOL Volume)",
                    "Log(Trading Intensity)",
                    "Log(SOL per Trader)",
                    "Avg SOL per Trade",
                    "Trades per Trader",
                    "Unique Trading Pairs",
                    "Log(FDV)",
                    "Log(Liquidity)"
                  ],
                  "z": {
                    "bdata": "AAAAAAAA8D+byKmjqU7vPwY3x7qfa+4/8d9wDzTl7D8gZ3QQ28LkP+gOdyVZa8M/5GFHguRKyD98jRRFq8PFP7i2Vilk+8S/+k2J+xUewb+byKmjqU7vPwAAAAAAAPA/ml/XEIJ27j/m07aVd3zsP6brbROUjOM/poe4vqJTxT/L4kvFGHCoPzKxRChzasY/hf5+qFQCxb+kAtR6Lv+/vwY3x7qfa+4/ml/XEIJ27j8AAAAAAADwP34oeOmbAuw/DXI6lRle6j8yvXZyta7TP06jf1HJY7s/q8sU2SKqxT94o9ftACbAv6AMDf8RiLi/8d9wDzTl7D/m07aVd3zsP34oeOmbAuw/AAAAAAAA8D/9r9ZAe9bjPwTE9itkn8M/JFInAmgIxj/7O0KO+dHCP297SRsYz8a/qk0k+XjnwL8gZ3QQ28LkP6brbROUjOM/DXI6lRle6j/9r9ZAe9bjPwAAAAAAAPA/WjtkGm4o3z+Myi9kN/PIP4hdvYs8srw/f1ZJiem8sb93FnGHN0Swv+gOdyVZa8M/poe4vqJTxT8yvXZyta7TPwTE9itkn8M/WjtkGm4o3z8AAAAAAADwP7e8INOvbqK/KEC1JYnowD9VTU1VmJu+P5AHj95Kn7k/5GFHguRKyD/L4kvFGHCoP06jf1HJY7s/JFInAmgIxj+Myi9kN/PIP7e8INOvbqK/AAAAAAAA8D/HttGM5q90P/RVArlyP7K/yhmYUVSJwr98jRRFq8PFPzKxRChzasY/q8sU2SKqxT/7O0KO+dHCP4hdvYs8srw/KEC1JYnowD/HttGM5q90PwAAAAAAAPA/fXIZsDEFxj99ccakQE/CP7i2Vilk+8S/hf5+qFQCxb94o9ftACbAv297SRsYz8a/f1ZJiem8sb9VTU1VmJu+P/RVArlyP7K/fXIZsDEFxj8AAAAAAADwP1RUujoD9eo/+k2J+xUewb+kAtR6Lv+/v6AMDf8RiLi/qk0k+XjnwL93FnGHN0Swv5AHj95Kn7k/yhmYUVSJwr99ccakQE/CP1RUujoD9eo/AAAAAAAA8D8=",
                    "dtype": "f8",
                    "shape": "10, 10"
                  },
                  "zmid": 0
                }
              ],
              "layout": {
                "font": {
                  "size": 11
                },
                "height": 800,
                "template": {
                  "data": {
                    "bar": [
                      {
                        "error_x": {
                          "color": "#2a3f5f"
                        },
                        "error_y": {
                          "color": "#2a3f5f"
                        },
                        "marker": {
                          "line": {
                            "color": "#E5ECF6",
                            "width": 0.5
                          },
                          "pattern": {
                            "fillmode": "overlay",
                            "size": 10,
                            "solidity": 0.2
                          }
                        },
                        "type": "bar"
                      }
                    ],
                    "barpolar": [
                      {
                        "marker": {
                          "line": {
                            "color": "#E5ECF6",
                            "width": 0.5
                          },
                          "pattern": {
                            "fillmode": "overlay",
                            "size": 10,
                            "solidity": 0.2
                          }
                        },
                        "type": "barpolar"
                      }
                    ],
                    "carpet": [
                      {
                        "aaxis": {
                          "endlinecolor": "#2a3f5f",
                          "gridcolor": "white",
                          "linecolor": "white",
                          "minorgridcolor": "white",
                          "startlinecolor": "#2a3f5f"
                        },
                        "baxis": {
                          "endlinecolor": "#2a3f5f",
                          "gridcolor": "white",
                          "linecolor": "white",
                          "minorgridcolor": "white",
                          "startlinecolor": "#2a3f5f"
                        },
                        "type": "carpet"
                      }
                    ],
                    "choropleth": [
                      {
                        "colorbar": {
                          "outlinewidth": 0,
                          "ticks": ""
                        },
                        "type": "choropleth"
                      }
                    ],
                    "contour": [
                      {
                        "colorbar": {
                          "outlinewidth": 0,
                          "ticks": ""
                        },
                        "colorscale": [
                          [
                            0,
                            "#0d0887"
                          ],
                          [
                            0.1111111111111111,
                            "#46039f"
                          ],
                          [
                            0.2222222222222222,
                            "#7201a8"
                          ],
                          [
                            0.3333333333333333,
                            "#9c179e"
                          ],
                          [
                            0.4444444444444444,
                            "#bd3786"
                          ],
                          [
                            0.5555555555555556,
                            "#d8576b"
                          ],
                          [
                            0.6666666666666666,
                            "#ed7953"
                          ],
                          [
                            0.7777777777777778,
                            "#fb9f3a"
                          ],
                          [
                            0.8888888888888888,
                            "#fdca26"
                          ],
                          [
                            1,
                            "#f0f921"
                          ]
                        ],
                        "type": "contour"
                      }
                    ],
                    "contourcarpet": [
                      {
                        "colorbar": {
                          "outlinewidth": 0,
                          "ticks": ""
                        },
                        "type": "contourcarpet"
                      }
                    ],
                    "heatmap": [
                      {
                        "colorbar": {
                          "outlinewidth": 0,
                          "ticks": ""
                        },
                        "colorscale": [
                          [
                            0,
                            "#0d0887"
                          ],
                          [
                            0.1111111111111111,
                            "#46039f"
                          ],
                          [
                            0.2222222222222222,
                            "#7201a8"
                          ],
                          [
                            0.3333333333333333,
                            "#9c179e"
                          ],
                          [
                            0.4444444444444444,
                            "#bd3786"
                          ],
                          [
                            0.5555555555555556,
                            "#d8576b"
                          ],
                          [
                            0.6666666666666666,
                            "#ed7953"
                          ],
                          [
                            0.7777777777777778,
                            "#fb9f3a"
                          ],
                          [
                            0.8888888888888888,
                            "#fdca26"
                          ],
                          [
                            1,
                            "#f0f921"
                          ]
                        ],
                        "type": "heatmap"
                      }
                    ],
                    "histogram": [
                      {
                        "marker": {
                          "pattern": {
                            "fillmode": "overlay",
                            "size": 10,
                            "solidity": 0.2
                          }
                        },
                        "type": "histogram"
                      }
                    ],
                    "histogram2d": [
                      {
                        "colorbar": {
                          "outlinewidth": 0,
                          "ticks": ""
                        },
                        "colorscale": [
                          [
                            0,
                            "#0d0887"
                          ],
                          [
                            0.1111111111111111,
                            "#46039f"
                          ],
                          [
                            0.2222222222222222,
                            "#7201a8"
                          ],
                          [
                            0.3333333333333333,
                            "#9c179e"
                          ],
                          [
                            0.4444444444444444,
                            "#bd3786"
                          ],
                          [
                            0.5555555555555556,
                            "#d8576b"
                          ],
                          [
                            0.6666666666666666,
                            "#ed7953"
                          ],
                          [
                            0.7777777777777778,
                            "#fb9f3a"
                          ],
                          [
                            0.8888888888888888,
                            "#fdca26"
                          ],
                          [
                            1,
                            "#f0f921"
                          ]
                        ],
                        "type": "histogram2d"
                      }
                    ],
                    "histogram2dcontour": [
                      {
                        "colorbar": {
                          "outlinewidth": 0,
                          "ticks": ""
                        },
                        "colorscale": [
                          [
                            0,
                            "#0d0887"
                          ],
                          [
                            0.1111111111111111,
                            "#46039f"
                          ],
                          [
                            0.2222222222222222,
                            "#7201a8"
                          ],
                          [
                            0.3333333333333333,
                            "#9c179e"
                          ],
                          [
                            0.4444444444444444,
                            "#bd3786"
                          ],
                          [
                            0.5555555555555556,
                            "#d8576b"
                          ],
                          [
                            0.6666666666666666,
                            "#ed7953"
                          ],
                          [
                            0.7777777777777778,
                            "#fb9f3a"
                          ],
                          [
                            0.8888888888888888,
                            "#fdca26"
                          ],
                          [
                            1,
                            "#f0f921"
                          ]
                        ],
                        "type": "histogram2dcontour"
                      }
                    ],
                    "mesh3d": [
                      {
                        "colorbar": {
                          "outlinewidth": 0,
                          "ticks": ""
                        },
                        "type": "mesh3d"
                      }
                    ],
                    "parcoords": [
                      {
                        "line": {
                          "colorbar": {
                            "outlinewidth": 0,
                            "ticks": ""
                          }
                        },
                        "type": "parcoords"
                      }
                    ],
                    "pie": [
                      {
                        "automargin": true,
                        "type": "pie"
                      }
                    ],
                    "scatter": [
                      {
                        "fillpattern": {
                          "fillmode": "overlay",
                          "size": 10,
                          "solidity": 0.2
                        },
                        "type": "scatter"
                      }
                    ],
                    "scatter3d": [
                      {
                        "line": {
                          "colorbar": {
                            "outlinewidth": 0,
                            "ticks": ""
                          }
                        },
                        "marker": {
                          "colorbar": {
                            "outlinewidth": 0,
                            "ticks": ""
                          }
                        },
                        "type": "scatter3d"
                      }
                    ],
                    "scattercarpet": [
                      {
                        "marker": {
                          "colorbar": {
                            "outlinewidth": 0,
                            "ticks": ""
                          }
                        },
                        "type": "scattercarpet"
                      }
                    ],
                    "scattergeo": [
                      {
                        "marker": {
                          "colorbar": {
                            "outlinewidth": 0,
                            "ticks": ""
                          }
                        },
                        "type": "scattergeo"
                      }
                    ],
                    "scattergl": [
                      {
                        "marker": {
                          "colorbar": {
                            "outlinewidth": 0,
                            "ticks": ""
                          }
                        },
                        "type": "scattergl"
                      }
                    ],
                    "scattermap": [
                      {
                        "marker": {
                          "colorbar": {
                            "outlinewidth": 0,
                            "ticks": ""
                          }
                        },
                        "type": "scattermap"
                      }
                    ],
                    "scattermapbox": [
                      {
                        "marker": {
                          "colorbar": {
                            "outlinewidth": 0,
                            "ticks": ""
                          }
                        },
                        "type": "scattermapbox"
                      }
                    ],
                    "scatterpolar": [
                      {
                        "marker": {
                          "colorbar": {
                            "outlinewidth": 0,
                            "ticks": ""
                          }
                        },
                        "type": "scatterpolar"
                      }
                    ],
                    "scatterpolargl": [
                      {
                        "marker": {
                          "colorbar": {
                            "outlinewidth": 0,
                            "ticks": ""
                          }
                        },
                        "type": "scatterpolargl"
                      }
                    ],
                    "scatterternary": [
                      {
                        "marker": {
                          "colorbar": {
                            "outlinewidth": 0,
                            "ticks": ""
                          }
                        },
                        "type": "scatterternary"
                      }
                    ],
                    "surface": [
                      {
                        "colorbar": {
                          "outlinewidth": 0,
                          "ticks": ""
                        },
                        "colorscale": [
                          [
                            0,
                            "#0d0887"
                          ],
                          [
                            0.1111111111111111,
                            "#46039f"
                          ],
                          [
                            0.2222222222222222,
                            "#7201a8"
                          ],
                          [
                            0.3333333333333333,
                            "#9c179e"
                          ],
                          [
                            0.4444444444444444,
                            "#bd3786"
                          ],
                          [
                            0.5555555555555556,
                            "#d8576b"
                          ],
                          [
                            0.6666666666666666,
                            "#ed7953"
                          ],
                          [
                            0.7777777777777778,
                            "#fb9f3a"
                          ],
                          [
                            0.8888888888888888,
                            "#fdca26"
                          ],
                          [
                            1,
                            "#f0f921"
                          ]
                        ],
                        "type": "surface"
                      }
                    ],
                    "table": [
                      {
                        "cells": {
                          "fill": {
                            "color": "#EBF0F8"
                          },
                          "line": {
                            "color": "white"
                          }
                        },
                        "header": {
                          "fill": {
                            "color": "#C8D4E3"
                          },
                          "line": {
                            "color": "white"
                          }
                        },
                        "type": "table"
                      }
                    ]
                  },
                  "layout": {
                    "annotationdefaults": {
                      "arrowcolor": "#2a3f5f",
                      "arrowhead": 0,
                      "arrowwidth": 1
                    },
                    "autotypenumbers": "strict",
                    "coloraxis": {
                      "colorbar": {
                        "outlinewidth": 0,
                        "ticks": ""
                      }
                    },
                    "colorscale": {
                      "diverging": [
                        [
                          0,
                          "#8e0152"
                        ],
                        [
                          0.1,
                          "#c51b7d"
                        ],
                        [
                          0.2,
                          "#de77ae"
                        ],
                        [
                          0.3,
                          "#f1b6da"
                        ],
                        [
                          0.4,
                          "#fde0ef"
                        ],
                        [
                          0.5,
                          "#f7f7f7"
                        ],
                        [
                          0.6,
                          "#e6f5d0"
                        ],
                        [
                          0.7,
                          "#b8e186"
                        ],
                        [
                          0.8,
                          "#7fbc41"
                        ],
                        [
                          0.9,
                          "#4d9221"
                        ],
                        [
                          1,
                          "#276419"
                        ]
                      ],
                      "sequential": [
                        [
                          0,
                          "#0d0887"
                        ],
                        [
                          0.1111111111111111,
                          "#46039f"
                        ],
                        [
                          0.2222222222222222,
                          "#7201a8"
                        ],
                        [
                          0.3333333333333333,
                          "#9c179e"
                        ],
                        [
                          0.4444444444444444,
                          "#bd3786"
                        ],
                        [
                          0.5555555555555556,
                          "#d8576b"
                        ],
                        [
                          0.6666666666666666,
                          "#ed7953"
                        ],
                        [
                          0.7777777777777778,
                          "#fb9f3a"
                        ],
                        [
                          0.8888888888888888,
                          "#fdca26"
                        ],
                        [
                          1,
                          "#f0f921"
                        ]
                      ],
                      "sequentialminus": [
                        [
                          0,
                          "#0d0887"
                        ],
                        [
                          0.1111111111111111,
                          "#46039f"
                        ],
                        [
                          0.2222222222222222,
                          "#7201a8"
                        ],
                        [
                          0.3333333333333333,
                          "#9c179e"
                        ],
                        [
                          0.4444444444444444,
                          "#bd3786"
                        ],
                        [
                          0.5555555555555556,
                          "#d8576b"
                        ],
                        [
                          0.6666666666666666,
                          "#ed7953"
                        ],
                        [
                          0.7777777777777778,
                          "#fb9f3a"
                        ],
                        [
                          0.8888888888888888,
                          "#fdca26"
                        ],
                        [
                          1,
                          "#f0f921"
                        ]
                      ]
                    },
                    "colorway": [
                      "#636efa",
                      "#EF553B",
                      "#00cc96",
                      "#ab63fa",
                      "#FFA15A",
                      "#19d3f3",
                      "#FF6692",
                      "#B6E880",
                      "#FF97FF",
                      "#FECB52"
                    ],
                    "font": {
                      "color": "#2a3f5f"
                    },
                    "geo": {
                      "bgcolor": "white",
                      "lakecolor": "white",
                      "landcolor": "#E5ECF6",
                      "showlakes": true,
                      "showland": true,
                      "subunitcolor": "white"
                    },
                    "hoverlabel": {
                      "align": "left"
                    },
                    "hovermode": "closest",
                    "mapbox": {
                      "style": "light"
                    },
                    "paper_bgcolor": "white",
                    "plot_bgcolor": "#E5ECF6",
                    "polar": {
                      "angularaxis": {
                        "gridcolor": "white",
                        "linecolor": "white",
                        "ticks": ""
                      },
                      "bgcolor": "#E5ECF6",
                      "radialaxis": {
                        "gridcolor": "white",
                        "linecolor": "white",
                        "ticks": ""
                      }
                    },
                    "scene": {
                      "xaxis": {
                        "backgroundcolor": "#E5ECF6",
                        "gridcolor": "white",
                        "gridwidth": 2,
                        "linecolor": "white",
                        "showbackground": true,
                        "ticks": "",
                        "zerolinecolor": "white"
                      },
                      "yaxis": {
                        "backgroundcolor": "#E5ECF6",
                        "gridcolor": "white",
                        "gridwidth": 2,
                        "linecolor": "white",
                        "showbackground": true,
                        "ticks": "",
                        "zerolinecolor": "white"
                      },
                      "zaxis": {
                        "backgroundcolor": "#E5ECF6",
                        "gridcolor": "white",
                        "gridwidth": 2,
                        "linecolor": "white",
                        "showbackground": true,
                        "ticks": "",
                        "zerolinecolor": "white"
                      }
                    },
                    "shapedefaults": {
                      "line": {
                        "color": "#2a3f5f"
                      }
                    },
                    "ternary": {
                      "aaxis": {
                        "gridcolor": "white",
                        "linecolor": "white",
                        "ticks": ""
                      },
                      "baxis": {
                        "gridcolor": "white",
                        "linecolor": "white",
                        "ticks": ""
                      },
                      "bgcolor": "#E5ECF6",
                      "caxis": {
                        "gridcolor": "white",
                        "linecolor": "white",
                        "ticks": ""
                      }
                    },
                    "title": {
                      "x": 0.05
                    },
                    "xaxis": {
                      "automargin": true,
                      "gridcolor": "white",
                      "linecolor": "white",
                      "ticks": "",
                      "title": {
                        "standoff": 15
                      },
                      "zerolinecolor": "white",
                      "zerolinewidth": 2
                    },
                    "yaxis": {
                      "automargin": true,
                      "gridcolor": "white",
                      "linecolor": "white",
                      "ticks": "",
                      "title": {
                        "standoff": 15
                      },
                      "zerolinecolor": "white",
                      "zerolinewidth": 2
                    }
                  }
                },
                "title": {
                  "text": "Enhanced Correlation Matrix: First-Day Metrics vs Success Indicators"
                },
                "width": 800,
                "xaxis": {
                  "side": "bottom"
                }
              }
            }
          },
          "metadata": {},
          "output_type": "display_data"
        },
        {
          "name": "stdout",
          "output_type": "stream",
          "text": [
            "\n",
            "💡 KEY INSIGHTS FROM ENHANCED ANALYSIS:\n",
            "\n",
            "   🏆 STRONGEST PREDICTORS:\n",
            "   • FDV: Log(Trading Intensity) (r=-0.178)\n",
            "   • Liquidity: Trades per Trader (r=-0.145)\n",
            "\n",
            "   📈 POSITIVE FDV CORRELATIONS (higher = better):\n",
            "   • Unique Trading Pairs: r=0.172\n",
            "   • Avg SOL per Trade: r=0.120\n",
            "   • Total SOL Volume: r=0.095\n",
            "\n",
            "   📉 NEGATIVE FDV CORRELATIONS (lower = better):\n",
            "   • Log(Trading Intensity): r=-0.178\n",
            "   • Log(Unique Traders): r=-0.164\n",
            "   • Log(Total Trades): r=-0.164\n",
            "\n",
            "   🔄 LOG TRANSFORMATION BENEFITS:\n",
            "   • 5/5 metrics improved with log transformation\n",
            "   • Log transformations reveal linear relationships in power-law data\n",
            "   • Essential for proper modeling and prediction\n",
            "\n",
            "✅ ENHANCED VISUALIZATIONS COMPLETE\n",
            "🎯 Ready for insights interpretation and strategy development\n"
          ]
        }
      ],
      "source": [
        "# Step 9: Enhanced Correlation Visualizations\n",
        "print(\"\\n📊 STEP 9: ENHANCED CORRELATION VISUALIZATIONS\")\n",
        "print(\"=\" * 70)\n",
        "\n",
        "if 'enhanced_correlation_results' in locals() and len(enhanced_correlation_results['analysis_tokens']) > 0:\n",
        "    \n",
        "    analysis_tokens = enhanced_correlation_results['analysis_tokens']\n",
        "    enhanced_metrics = enhanced_correlation_results['enhanced_metrics']\n",
        "    \n",
        "    from plotly.subplots import make_subplots\n",
        "    import plotly.graph_objects as go\n",
        "    import plotly.express as px\n",
        "    import pandas as pd\n",
        "    import numpy as np\n",
        "    \n",
        "    print(f\"🎯 CREATING ENHANCED VISUALIZATIONS...\")\n",
        "    \n",
        "    # 1. Original vs Log Correlation Comparison Chart\n",
        "    print(f\"   📊 1. Correlation comparison chart\")\n",
        "    \n",
        "    comparison_data = []\n",
        "    for base_metric in ['total_trades', 'unique_traders', 'total_sol_volume', 'sol_per_trader', 'trades_per_hour']:\n",
        "        if base_metric in analysis_tokens.columns and f'log_{base_metric}' in analysis_tokens.columns:\n",
        "            orig_fdv = analysis_tokens[base_metric].corr(analysis_tokens['log_fdv'])\n",
        "            log_fdv = analysis_tokens[f'log_{base_metric}'].corr(analysis_tokens['log_fdv'])\n",
        "            orig_liq = analysis_tokens[base_metric].corr(analysis_tokens['log_liquidity'])\n",
        "            log_liq = analysis_tokens[f'log_{base_metric}'].corr(analysis_tokens['log_liquidity'])\n",
        "            \n",
        "            comparison_data.append({\n",
        "                'metric': enhanced_metrics[base_metric],\n",
        "                'orig_fdv': orig_fdv,\n",
        "                'log_fdv': log_fdv,\n",
        "                'orig_liq': orig_liq,\n",
        "                'log_liq': log_liq,\n",
        "                'fdv_improvement': abs(log_fdv) - abs(orig_fdv),\n",
        "                'liq_improvement': abs(log_liq) - abs(orig_liq)\n",
        "            })\n",
        "    \n",
        "    comparison_df = pd.DataFrame(comparison_data)\n",
        "    \n",
        "    # Create comparison visualization\n",
        "    fig1 = make_subplots(\n",
        "        rows=1, cols=2,\n",
        "        subplot_titles=['FDV Correlations: Original vs Log', 'Liquidity Correlations: Original vs Log'],\n",
        "        horizontal_spacing=0.1\n",
        "    )\n",
        "    \n",
        "    # FDV comparison\n",
        "    fig1.add_trace(\n",
        "        go.Scatter(\n",
        "            x=comparison_df['orig_fdv'],\n",
        "            y=comparison_df['log_fdv'],\n",
        "            mode='markers+text',\n",
        "            text=comparison_df['metric'],\n",
        "            textposition='middle right',\n",
        "            marker=dict(size=10, color='blue', opacity=0.7),\n",
        "            name='FDV Correlations',\n",
        "            hovertemplate='<b>%{text}</b><br>Original: %{x:.3f}<br>Log: %{y:.3f}<extra></extra>'\n",
        "        ),\n",
        "        row=1, col=1\n",
        "    )\n",
        "    \n",
        "    # Add diagonal line for FDV\n",
        "    min_val = min(comparison_df['orig_fdv'].min(), comparison_df['log_fdv'].min())\n",
        "    max_val = max(comparison_df['orig_fdv'].max(), comparison_df['log_fdv'].max())\n",
        "    fig1.add_trace(\n",
        "        go.Scatter(\n",
        "            x=[min_val, max_val],\n",
        "            y=[min_val, max_val],\n",
        "            mode='lines',\n",
        "            line=dict(dash='dash', color='gray'),\n",
        "            name='Equal Performance',\n",
        "            showlegend=False\n",
        "        ),\n",
        "        row=1, col=1\n",
        "    )\n",
        "    \n",
        "    # Liquidity comparison\n",
        "    fig1.add_trace(\n",
        "        go.Scatter(\n",
        "            x=comparison_df['orig_liq'],\n",
        "            y=comparison_df['log_liq'],\n",
        "            mode='markers+text',\n",
        "            text=comparison_df['metric'],\n",
        "            textposition='middle right',\n",
        "            marker=dict(size=10, color='green', opacity=0.7),\n",
        "            name='Liquidity Correlations',\n",
        "            hovertemplate='<b>%{text}</b><br>Original: %{x:.3f}<br>Log: %{y:.3f}<extra></extra>'\n",
        "        ),\n",
        "        row=1, col=2\n",
        "    )\n",
        "    \n",
        "    # Add diagonal line for Liquidity\n",
        "    min_val = min(comparison_df['orig_liq'].min(), comparison_df['log_liq'].min())\n",
        "    max_val = max(comparison_df['orig_liq'].max(), comparison_df['log_liq'].max())\n",
        "    fig1.add_trace(\n",
        "        go.Scatter(\n",
        "            x=[min_val, max_val],\n",
        "            y=[min_val, max_val],\n",
        "            mode='lines',\n",
        "            line=dict(dash='dash', color='gray'),\n",
        "            name='Equal Performance',\n",
        "            showlegend=False\n",
        "        ),\n",
        "        row=1, col=2\n",
        "    )\n",
        "    \n",
        "    fig1.update_xaxes(title_text=\"Original Correlation\", row=1, col=1)\n",
        "    fig1.update_yaxes(title_text=\"Log-Transformed Correlation\", row=1, col=1)\n",
        "    fig1.update_xaxes(title_text=\"Original Correlation\", row=1, col=2)\n",
        "    fig1.update_yaxes(title_text=\"Log-Transformed Correlation\", row=1, col=2)\n",
        "    \n",
        "    fig1.update_layout(\n",
        "        title=\"Log Transformation Impact on Correlations<br><sub>Points above diagonal line = Log transformation improved correlation</sub>\",\n",
        "        height=600,\n",
        "        width=1200\n",
        "    )\n",
        "    \n",
        "    fig1.show()\n",
        "    \n",
        "    # 2. Top Correlations Scatter Plots\n",
        "    print(f\"   📈 2. Top correlations scatter plots\")\n",
        "    \n",
        "    # Get top 4 correlations for each target\n",
        "    fdv_top = enhanced_correlation_results['fdv_correlations'][:4]\n",
        "    liq_top = enhanced_correlation_results['liquidity_correlations'][:4]\n",
        "    \n",
        "    fig2 = make_subplots(\n",
        "        rows=2, cols=4,\n",
        "        subplot_titles=[\n",
        "            f\"{corr[1]}<br>r={corr[2]:.3f}\" for corr in fdv_top\n",
        "        ] + [\n",
        "            f\"{corr[1]}<br>r={corr[2]:.3f}\" for corr in liq_top\n",
        "        ],\n",
        "        vertical_spacing=0.12,\n",
        "        horizontal_spacing=0.08\n",
        "    )\n",
        "    \n",
        "    # FDV correlations (top row)\n",
        "    for i, (metric, label, corr, n) in enumerate(fdv_top):\n",
        "        if metric in analysis_tokens.columns:\n",
        "            valid_data = analysis_tokens[\n",
        "                (analysis_tokens[metric].notna()) & \n",
        "                (np.isfinite(analysis_tokens[metric]))\n",
        "            ]\n",
        "            \n",
        "            # Use log scale for x-axis if it's a log-transformed variable or large range\n",
        "            x_type = \"log\" if \"log_\" in metric or (valid_data[metric].max() / valid_data[metric].min() > 100) else \"linear\"\n",
        "            \n",
        "            fig2.add_trace(\n",
        "                go.Scatter(\n",
        "                    x=valid_data[metric],\n",
        "                    y=valid_data['log_fdv'],\n",
        "                    mode='markers',\n",
        "                    marker=dict(\n",
        "                        size=3,\n",
        "                        opacity=0.6,\n",
        "                        color='blue',\n",
        "                        line=dict(width=0)\n",
        "                    ),\n",
        "                    name=f\"{label}\",\n",
        "                    showlegend=False,\n",
        "                    hovertemplate=f\"<b>{label}</b>: %{{x:,.2f}}<br>Log(FDV): %{{y:.2f}}<br>FDV: $%{{customdata:,.0f}}<extra></extra>\",\n",
        "                    customdata=10**valid_data['log_fdv']\n",
        "                ),\n",
        "                row=1, col=i+1\n",
        "            )\n",
        "            \n",
        "            fig2.update_xaxes(type=x_type, row=1, col=i+1)\n",
        "    \n",
        "    # Liquidity correlations (bottom row)\n",
        "    for i, (metric, label, corr, n) in enumerate(liq_top):\n",
        "        if metric in analysis_tokens.columns:\n",
        "            valid_data = analysis_tokens[\n",
        "                (analysis_tokens[metric].notna()) & \n",
        "                (np.isfinite(analysis_tokens[metric]))\n",
        "            ]\n",
        "            \n",
        "            x_type = \"log\" if \"log_\" in metric or (valid_data[metric].max() / valid_data[metric].min() > 100) else \"linear\"\n",
        "            \n",
        "            fig2.add_trace(\n",
        "                go.Scatter(\n",
        "                    x=valid_data[metric],\n",
        "                    y=valid_data['log_liquidity'],\n",
        "                    mode='markers',\n",
        "                    marker=dict(\n",
        "                        size=3,\n",
        "                        opacity=0.6,\n",
        "                        color='green',\n",
        "                        line=dict(width=0)\n",
        "                    ),\n",
        "                    name=f\"{label}\",\n",
        "                    showlegend=False,\n",
        "                    hovertemplate=f\"<b>{label}</b>: %{{x:,.2f}}<br>Log(Liquidity): %{{y:.2f}}<br>Liquidity: $%{{customdata:,.0f}}<extra></extra>\",\n",
        "                    customdata=10**valid_data['log_liquidity']\n",
        "                ),\n",
        "                row=2, col=i+1\n",
        "            )\n",
        "            \n",
        "            fig2.update_xaxes(type=x_type, row=2, col=i+1)\n",
        "    \n",
        "    # Update y-axes\n",
        "    for i in range(1, 5):\n",
        "        fig2.update_yaxes(title_text=\"Log10(FDV)\", row=1, col=i)\n",
        "        fig2.update_yaxes(title_text=\"Log10(Liquidity)\", row=2, col=i)\n",
        "    \n",
        "    fig2.update_layout(\n",
        "        title=\"Strongest First-Day Predictors of Long-Term Success\",\n",
        "        height=800,\n",
        "        width=1600,\n",
        "        font=dict(size=10)\n",
        "    )\n",
        "    \n",
        "    fig2.show()\n",
        "    \n",
        "    # 3. Correlation Heatmap\n",
        "    print(f\"   🔥 3. Comprehensive correlation heatmap\")\n",
        "    \n",
        "    # Create correlation matrix for all key metrics\n",
        "    key_metrics = [\n",
        "        'log_total_trades', 'log_unique_traders', 'log_total_sol_volume', \n",
        "        'log_trades_per_hour', 'log_sol_per_trader',\n",
        "        'avg_sol_per_trade', 'trades_per_trader', 'unique_pairs',\n",
        "        'log_fdv', 'log_liquidity'\n",
        "    ]\n",
        "    \n",
        "    # Filter metrics that exist in the data\n",
        "    available_metrics = [m for m in key_metrics if m in analysis_tokens.columns]\n",
        "    \n",
        "    # Calculate correlation matrix\n",
        "    corr_matrix = analysis_tokens[available_metrics].corr()\n",
        "    \n",
        "    # Create labels for display\n",
        "    display_labels = []\n",
        "    for metric in available_metrics:\n",
        "        if metric in enhanced_metrics:\n",
        "            display_labels.append(enhanced_metrics[metric])\n",
        "        elif metric == 'log_fdv':\n",
        "            display_labels.append('Log(FDV)')\n",
        "        elif metric == 'log_liquidity':\n",
        "            display_labels.append('Log(Liquidity)')\n",
        "        else:\n",
        "            display_labels.append(metric)\n",
        "    \n",
        "    fig3 = go.Figure(data=go.Heatmap(\n",
        "        z=corr_matrix.values,\n",
        "        x=display_labels,\n",
        "        y=display_labels,\n",
        "        colorscale='RdBu',\n",
        "        zmid=0,\n",
        "        text=corr_matrix.round(3).values,\n",
        "        texttemplate=\"%{text}\",\n",
        "        textfont={\"size\": 10},\n",
        "        hovertemplate='<b>%{y}</b> vs <b>%{x}</b><br>Correlation: %{z:.3f}<extra></extra>'\n",
        "    ))\n",
        "\n",
        "    fig3.update_layout(\n",
        "        title=\"Enhanced Correlation Matrix: First-Day Metrics vs Success Indicators\",\n",
        "        width=800,\n",
        "        height=800,\n",
        "        xaxis={'side': 'bottom'},\n",
        "        font=dict(size=11)\n",
        "    )\n",
        "\n",
        "    fig3.show()\n",
        "\n",
        "    # 4. Key Insights Summary\n",
        "    print(f\"\\n💡 KEY INSIGHTS FROM ENHANCED ANALYSIS:\")\n",
        "    \n",
        "    # Find the strongest predictors\n",
        "    strongest_fdv = enhanced_correlation_results['fdv_correlations'][0]\n",
        "    strongest_liq = enhanced_correlation_results['liquidity_correlations'][0]\n",
        "    \n",
        "    print(f\"\\n   🏆 STRONGEST PREDICTORS:\")\n",
        "    print(f\"   • FDV: {strongest_fdv[1]} (r={strongest_fdv[2]:.3f})\")\n",
        "    print(f\"   • Liquidity: {strongest_liq[1]} (r={strongest_liq[2]:.3f})\")\n",
        "    \n",
        "    # Analyze positive vs negative correlations\n",
        "    positive_fdv = [x for x in enhanced_correlation_results['fdv_correlations'] if x[2] > 0]\n",
        "    negative_fdv = [x for x in enhanced_correlation_results['fdv_correlations'] if x[2] < 0]\n",
        "    \n",
        "    print(f\"\\n   📈 POSITIVE FDV CORRELATIONS (higher = better):\")\n",
        "    for metric, label, corr, n in positive_fdv[:3]:\n",
        "        print(f\"   • {label}: r={corr:.3f}\")\n",
        "        \n",
        "    print(f\"\\n   📉 NEGATIVE FDV CORRELATIONS (lower = better):\")\n",
        "    for metric, label, corr, n in sorted(negative_fdv, key=lambda x: x[2])[:3]:\n",
        "        print(f\"   • {label}: r={corr:.3f}\")\n",
        "    \n",
        "    # Log transformation benefits\n",
        "    log_better_count = sum(1 for row in comparison_df.itertuples() \n",
        "                          if abs(row.log_fdv) > abs(row.orig_fdv) + 0.01)\n",
        "    \n",
        "    print(f\"\\n   🔄 LOG TRANSFORMATION BENEFITS:\")\n",
        "    print(f\"   • {log_better_count}/{len(comparison_df)} metrics improved with log transformation\")\n",
        "    print(f\"   • Log transformations reveal linear relationships in power-law data\")\n",
        "    print(f\"   • Essential for proper modeling and prediction\")\n",
        "    \n",
        "    print(f\"\\n✅ ENHANCED VISUALIZATIONS COMPLETE\")\n",
        "    print(f\"🎯 Ready for insights interpretation and strategy development\")\n",
        "    \n",
        "else:\n",
        "    print(\"❌ No enhanced correlation results available for visualization\")\n"
      ]
    }
  ],
  "metadata": {
    "kernelspec": {
      "display_name": ".venv",
      "language": "python",
      "name": "python3"
    },
    "language_info": {
      "codemirror_mode": {
        "name": "ipython",
        "version": 3
      },
      "file_extension": ".py",
      "mimetype": "text/x-python",
      "name": "python",
      "nbconvert_exporter": "python",
      "pygments_lexer": "ipython3",
      "version": "3.13.1"
    }
  },
  "nbformat": 4,
  "nbformat_minor": 2
}
